{
 "cells": [
  {
   "cell_type": "markdown",
   "id": "5dd9cefb",
   "metadata": {},
   "source": [
    "### Importing libraries"
   ]
  },
  {
   "cell_type": "code",
   "execution_count": 1,
   "id": "2705a491",
   "metadata": {},
   "outputs": [],
   "source": [
    "import numpy as np \n",
    "import pandas as pd \n",
    "import seaborn as sns"
   ]
  },
  {
   "cell_type": "markdown",
   "id": "58b641ec",
   "metadata": {},
   "source": [
    "### Importing dataframes"
   ]
  },
  {
   "cell_type": "code",
   "execution_count": 2,
   "id": "b7b90057",
   "metadata": {},
   "outputs": [],
   "source": [
    "df_test=pd.read_csv('test.csv')\n",
    "df_train=pd.read_csv(\"train.csv\")"
   ]
  },
  {
   "cell_type": "markdown",
   "id": "3bac9353",
   "metadata": {},
   "source": [
    "### Studying dataset"
   ]
  },
  {
   "cell_type": "code",
   "execution_count": 3,
   "id": "fce2b9fe",
   "metadata": {},
   "outputs": [
    {
     "data": {
      "text/html": [
       "<div>\n",
       "<style scoped>\n",
       "    .dataframe tbody tr th:only-of-type {\n",
       "        vertical-align: middle;\n",
       "    }\n",
       "\n",
       "    .dataframe tbody tr th {\n",
       "        vertical-align: top;\n",
       "    }\n",
       "\n",
       "    .dataframe thead th {\n",
       "        text-align: right;\n",
       "    }\n",
       "</style>\n",
       "<table border=\"1\" class=\"dataframe\">\n",
       "  <thead>\n",
       "    <tr style=\"text-align: right;\">\n",
       "      <th></th>\n",
       "      <th>PassengerId</th>\n",
       "      <th>Survived</th>\n",
       "      <th>Pclass</th>\n",
       "      <th>Name</th>\n",
       "      <th>Sex</th>\n",
       "      <th>Age</th>\n",
       "      <th>SibSp</th>\n",
       "      <th>Parch</th>\n",
       "      <th>Ticket</th>\n",
       "      <th>Fare</th>\n",
       "      <th>Cabin</th>\n",
       "      <th>Embarked</th>\n",
       "    </tr>\n",
       "  </thead>\n",
       "  <tbody>\n",
       "    <tr>\n",
       "      <th>0</th>\n",
       "      <td>1</td>\n",
       "      <td>0</td>\n",
       "      <td>3</td>\n",
       "      <td>Braund, Mr. Owen Harris</td>\n",
       "      <td>male</td>\n",
       "      <td>22.0</td>\n",
       "      <td>1</td>\n",
       "      <td>0</td>\n",
       "      <td>A/5 21171</td>\n",
       "      <td>7.2500</td>\n",
       "      <td>NaN</td>\n",
       "      <td>S</td>\n",
       "    </tr>\n",
       "    <tr>\n",
       "      <th>1</th>\n",
       "      <td>2</td>\n",
       "      <td>1</td>\n",
       "      <td>1</td>\n",
       "      <td>Cumings, Mrs. John Bradley (Florence Briggs Th...</td>\n",
       "      <td>female</td>\n",
       "      <td>38.0</td>\n",
       "      <td>1</td>\n",
       "      <td>0</td>\n",
       "      <td>PC 17599</td>\n",
       "      <td>71.2833</td>\n",
       "      <td>C85</td>\n",
       "      <td>C</td>\n",
       "    </tr>\n",
       "    <tr>\n",
       "      <th>2</th>\n",
       "      <td>3</td>\n",
       "      <td>1</td>\n",
       "      <td>3</td>\n",
       "      <td>Heikkinen, Miss. Laina</td>\n",
       "      <td>female</td>\n",
       "      <td>26.0</td>\n",
       "      <td>0</td>\n",
       "      <td>0</td>\n",
       "      <td>STON/O2. 3101282</td>\n",
       "      <td>7.9250</td>\n",
       "      <td>NaN</td>\n",
       "      <td>S</td>\n",
       "    </tr>\n",
       "    <tr>\n",
       "      <th>3</th>\n",
       "      <td>4</td>\n",
       "      <td>1</td>\n",
       "      <td>1</td>\n",
       "      <td>Futrelle, Mrs. Jacques Heath (Lily May Peel)</td>\n",
       "      <td>female</td>\n",
       "      <td>35.0</td>\n",
       "      <td>1</td>\n",
       "      <td>0</td>\n",
       "      <td>113803</td>\n",
       "      <td>53.1000</td>\n",
       "      <td>C123</td>\n",
       "      <td>S</td>\n",
       "    </tr>\n",
       "    <tr>\n",
       "      <th>4</th>\n",
       "      <td>5</td>\n",
       "      <td>0</td>\n",
       "      <td>3</td>\n",
       "      <td>Allen, Mr. William Henry</td>\n",
       "      <td>male</td>\n",
       "      <td>35.0</td>\n",
       "      <td>0</td>\n",
       "      <td>0</td>\n",
       "      <td>373450</td>\n",
       "      <td>8.0500</td>\n",
       "      <td>NaN</td>\n",
       "      <td>S</td>\n",
       "    </tr>\n",
       "  </tbody>\n",
       "</table>\n",
       "</div>"
      ],
      "text/plain": [
       "   PassengerId  Survived  Pclass  \\\n",
       "0            1         0       3   \n",
       "1            2         1       1   \n",
       "2            3         1       3   \n",
       "3            4         1       1   \n",
       "4            5         0       3   \n",
       "\n",
       "                                                Name     Sex   Age  SibSp  \\\n",
       "0                            Braund, Mr. Owen Harris    male  22.0      1   \n",
       "1  Cumings, Mrs. John Bradley (Florence Briggs Th...  female  38.0      1   \n",
       "2                             Heikkinen, Miss. Laina  female  26.0      0   \n",
       "3       Futrelle, Mrs. Jacques Heath (Lily May Peel)  female  35.0      1   \n",
       "4                           Allen, Mr. William Henry    male  35.0      0   \n",
       "\n",
       "   Parch            Ticket     Fare Cabin Embarked  \n",
       "0      0         A/5 21171   7.2500   NaN        S  \n",
       "1      0          PC 17599  71.2833   C85        C  \n",
       "2      0  STON/O2. 3101282   7.9250   NaN        S  \n",
       "3      0            113803  53.1000  C123        S  \n",
       "4      0            373450   8.0500   NaN        S  "
      ]
     },
     "execution_count": 3,
     "metadata": {},
     "output_type": "execute_result"
    }
   ],
   "source": [
    "df_train.head()"
   ]
  },
  {
   "cell_type": "code",
   "execution_count": 4,
   "id": "52b73d1f",
   "metadata": {},
   "outputs": [
    {
     "data": {
      "text/plain": [
       "0    549\n",
       "1    342\n",
       "Name: Survived, dtype: int64"
      ]
     },
     "execution_count": 4,
     "metadata": {},
     "output_type": "execute_result"
    }
   ],
   "source": [
    "df_train.Survived.value_counts()"
   ]
  },
  {
   "cell_type": "code",
   "execution_count": 5,
   "id": "eef8fcff",
   "metadata": {},
   "outputs": [
    {
     "data": {
      "text/plain": [
       "PassengerId      0\n",
       "Survived         0\n",
       "Pclass           0\n",
       "Name             0\n",
       "Sex              0\n",
       "Age            177\n",
       "SibSp            0\n",
       "Parch            0\n",
       "Ticket           0\n",
       "Fare             0\n",
       "Cabin          687\n",
       "Embarked         2\n",
       "dtype: int64"
      ]
     },
     "execution_count": 5,
     "metadata": {},
     "output_type": "execute_result"
    }
   ],
   "source": [
    "df_train.isnull().sum()"
   ]
  },
  {
   "cell_type": "markdown",
   "id": "6e4c0db9",
   "metadata": {},
   "source": [
    "#### Since majority of cabin values are missing -> remove the column\n",
    "\n",
    "#### * PassengerId is unique -> drop column\n",
    "#### * Name is unique -> drop column\n",
    "#### * TicketId is unique-> drop column\n",
    "\n",
    "#### * They do not contribute to the survival probability."
   ]
  },
  {
   "cell_type": "markdown",
   "id": "320687f9",
   "metadata": {},
   "source": [
    "### Data Visualization"
   ]
  },
  {
   "cell_type": "code",
   "execution_count": 6,
   "id": "8b216dc6",
   "metadata": {},
   "outputs": [
    {
     "data": {
      "text/plain": [
       "<AxesSubplot:xlabel='Survived', ylabel='count'>"
      ]
     },
     "execution_count": 6,
     "metadata": {},
     "output_type": "execute_result"
    },
    {
     "data": {
      "image/png": "[encoded data removed]",
      "text/plain": [
       "<Figure size 640x480 with 1 Axes>"
      ]
     },
     "metadata": {},
     "output_type": "display_data"
    }
   ],
   "source": [
    "sns.countplot(x=\"Survived\",data=df_train)"
   ]
  },
  {
   "cell_type": "code",
   "execution_count": 7,
   "id": "0a6c9b99",
   "metadata": {},
   "outputs": [
    {
     "data": {
      "text/plain": [
       "<AxesSubplot:xlabel='Survived', ylabel='count'>"
      ]
     },
     "execution_count": 7,
     "metadata": {},
     "output_type": "execute_result"
    },
    {
     "data": {
      "image/png": "[encoded data removed]",
      "text/plain": [
       "<Figure size 640x480 with 1 Axes>"
      ]
     },
     "metadata": {},
     "output_type": "display_data"
    }
   ],
   "source": [
    "sns.countplot(x=\"Survived\",hue=\"Sex\",data=df_train)"
   ]
  },
  {
   "cell_type": "code",
   "execution_count": 8,
   "id": "f21a2d95",
   "metadata": {},
   "outputs": [
    {
     "data": {
      "text/plain": [
       "<AxesSubplot:xlabel='Survived', ylabel='count'>"
      ]
     },
     "execution_count": 8,
     "metadata": {},
     "output_type": "execute_result"
    },
    {
     "data": {
      "image/png": "[encoded data removed]",
      "text/plain": [
       "<Figure size 640x480 with 1 Axes>"
      ]
     },
     "metadata": {},
     "output_type": "display_data"
    }
   ],
   "source": [
    "sns.countplot(x=\"Survived\",hue=\"Age\",data=df_train)"
   ]
  },
  {
   "cell_type": "code",
   "execution_count": 9,
   "id": "c4688a32",
   "metadata": {},
   "outputs": [
    {
     "data": {
      "text/plain": [
       "<AxesSubplot:xlabel='Survived', ylabel='count'>"
      ]
     },
     "execution_count": 9,
     "metadata": {},
     "output_type": "execute_result"
    },
    {
     "data": {
      "image/png": "[encoded data removed]",
      "text/plain": [
       "<Figure size 640x480 with 1 Axes>"
      ]
     },
     "metadata": {},
     "output_type": "display_data"
    }
   ],
   "source": [
    "sns.countplot(x=\"Survived\",hue=\"SibSp\",data=df_train)"
   ]
  },
  {
   "cell_type": "code",
   "execution_count": 10,
   "id": "2b8a108d",
   "metadata": {},
   "outputs": [
    {
     "data": {
      "text/plain": [
       "<AxesSubplot:xlabel='Survived', ylabel='count'>"
      ]
     },
     "execution_count": 10,
     "metadata": {},
     "output_type": "execute_result"
    },
    {
     "data": {
      "image/png": "[encoded data removed]",
      "text/plain": [
       "<Figure size 640x480 with 1 Axes>"
      ]
     },
     "metadata": {},
     "output_type": "display_data"
    }
   ],
   "source": [
    "sns.countplot(x=\"Survived\",hue=\"Pclass\",data=df_train)"
   ]
  },
  {
   "cell_type": "code",
   "execution_count": 11,
   "id": "153eb110",
   "metadata": {},
   "outputs": [
    {
     "data": {
      "text/plain": [
       "<AxesSubplot:xlabel='Pclass', ylabel='Age'>"
      ]
     },
     "execution_count": 11,
     "metadata": {},
     "output_type": "execute_result"
    },
    {
     "data": {
      "image/png": "[encoded data removed]",
      "text/plain": [
       "<Figure size 640x480 with 1 Axes>"
      ]
     },
     "metadata": {},
     "output_type": "display_data"
    }
   ],
   "source": [
    "sns.violinplot(x='Pclass', y='Age', hue='Survived', data=df_train, split=True)"
   ]
  },
  {
   "cell_type": "markdown",
   "id": "049c0dad",
   "metadata": {},
   "source": [
    "### Feature selection"
   ]
  },
  {
   "cell_type": "code",
   "execution_count": 12,
   "id": "2c12ffa8",
   "metadata": {},
   "outputs": [],
   "source": [
    "df_train.drop([\"Cabin\",\"Name\",\"PassengerId\",\"Ticket\"],axis=1,inplace=True)\n",
    "df_test.drop([\"Cabin\",\"Name\",\"PassengerId\",\"Ticket\"],axis=1,inplace=True)"
   ]
  },
  {
   "cell_type": "code",
   "execution_count": 13,
   "id": "0637ef24",
   "metadata": {},
   "outputs": [
    {
     "data": {
      "text/html": [
       "<div>\n",
       "<style scoped>\n",
       "    .dataframe tbody tr th:only-of-type {\n",
       "        vertical-align: middle;\n",
       "    }\n",
       "\n",
       "    .dataframe tbody tr th {\n",
       "        vertical-align: top;\n",
       "    }\n",
       "\n",
       "    .dataframe thead th {\n",
       "        text-align: right;\n",
       "    }\n",
       "</style>\n",
       "<table border=\"1\" class=\"dataframe\">\n",
       "  <thead>\n",
       "    <tr style=\"text-align: right;\">\n",
       "      <th></th>\n",
       "      <th>Survived</th>\n",
       "      <th>Pclass</th>\n",
       "      <th>Sex</th>\n",
       "      <th>Age</th>\n",
       "      <th>SibSp</th>\n",
       "      <th>Parch</th>\n",
       "      <th>Fare</th>\n",
       "      <th>Embarked</th>\n",
       "    </tr>\n",
       "  </thead>\n",
       "  <tbody>\n",
       "    <tr>\n",
       "      <th>0</th>\n",
       "      <td>0</td>\n",
       "      <td>3</td>\n",
       "      <td>male</td>\n",
       "      <td>22.0</td>\n",
       "      <td>1</td>\n",
       "      <td>0</td>\n",
       "      <td>7.2500</td>\n",
       "      <td>S</td>\n",
       "    </tr>\n",
       "    <tr>\n",
       "      <th>1</th>\n",
       "      <td>1</td>\n",
       "      <td>1</td>\n",
       "      <td>female</td>\n",
       "      <td>38.0</td>\n",
       "      <td>1</td>\n",
       "      <td>0</td>\n",
       "      <td>71.2833</td>\n",
       "      <td>C</td>\n",
       "    </tr>\n",
       "    <tr>\n",
       "      <th>2</th>\n",
       "      <td>1</td>\n",
       "      <td>3</td>\n",
       "      <td>female</td>\n",
       "      <td>26.0</td>\n",
       "      <td>0</td>\n",
       "      <td>0</td>\n",
       "      <td>7.9250</td>\n",
       "      <td>S</td>\n",
       "    </tr>\n",
       "    <tr>\n",
       "      <th>3</th>\n",
       "      <td>1</td>\n",
       "      <td>1</td>\n",
       "      <td>female</td>\n",
       "      <td>35.0</td>\n",
       "      <td>1</td>\n",
       "      <td>0</td>\n",
       "      <td>53.1000</td>\n",
       "      <td>S</td>\n",
       "    </tr>\n",
       "    <tr>\n",
       "      <th>4</th>\n",
       "      <td>0</td>\n",
       "      <td>3</td>\n",
       "      <td>male</td>\n",
       "      <td>35.0</td>\n",
       "      <td>0</td>\n",
       "      <td>0</td>\n",
       "      <td>8.0500</td>\n",
       "      <td>S</td>\n",
       "    </tr>\n",
       "  </tbody>\n",
       "</table>\n",
       "</div>"
      ],
      "text/plain": [
       "   Survived  Pclass     Sex   Age  SibSp  Parch     Fare Embarked\n",
       "0         0       3    male  22.0      1      0   7.2500        S\n",
       "1         1       1  female  38.0      1      0  71.2833        C\n",
       "2         1       3  female  26.0      0      0   7.9250        S\n",
       "3         1       1  female  35.0      1      0  53.1000        S\n",
       "4         0       3    male  35.0      0      0   8.0500        S"
      ]
     },
     "execution_count": 13,
     "metadata": {},
     "output_type": "execute_result"
    }
   ],
   "source": [
    "df_train.head()"
   ]
  },
  {
   "cell_type": "code",
   "execution_count": 14,
   "id": "1b9a1388",
   "metadata": {},
   "outputs": [],
   "source": [
    "df_train=df_train[['Age', 'Embarked', 'Fare', 'Parch', 'Pclass', 'Sex', 'SibSp', 'Survived']]\n",
    "df_test=df_test[['Age', 'Embarked', 'Fare', 'Parch', 'Pclass', 'Sex', 'SibSp']]"
   ]
  },
  {
   "cell_type": "markdown",
   "id": "333f6f71",
   "metadata": {},
   "source": [
    "### Data pre-processing"
   ]
  },
  {
   "cell_type": "code",
   "execution_count": 15,
   "id": "281d8701",
   "metadata": {},
   "outputs": [],
   "source": [
    "#handling null values in Age \n",
    "\n",
    "df_train.Age.fillna(df_train.Age.mean(), inplace=True)\n",
    "df_test.Age.fillna(df_test.Age.mean(), inplace=True)\n",
    "\n",
    "#changing data type\n",
    "\n",
    "df_train.Age=df_train.Age.astype(int)\n",
    "df_test.Age=df_test.Age.astype(int)"
   ]
  },
  {
   "cell_type": "code",
   "execution_count": 16,
   "id": "45894003",
   "metadata": {},
   "outputs": [],
   "source": [
    "#Ages grouped -- encoding Age column\n",
    "data = [df_train, df_test]\n",
    "for dataset in data:\n",
    "    dataset.loc[ dataset['Age'] <= 11, 'Age'] = 0\n",
    "    dataset.loc[(dataset['Age'] > 11) & (dataset['Age'] <= 18), 'Age'] = 1\n",
    "    dataset.loc[(dataset['Age'] > 18) & (dataset['Age'] <= 22), 'Age'] = 2\n",
    "    dataset.loc[(dataset['Age'] > 22) & (dataset['Age'] <= 27), 'Age'] = 3\n",
    "    dataset.loc[(dataset['Age'] > 27) & (dataset['Age'] <= 33), 'Age'] = 4\n",
    "    dataset.loc[(dataset['Age'] > 33) & (dataset['Age'] <= 40), 'Age'] = 5\n",
    "    dataset.loc[(dataset['Age'] > 40) & (dataset['Age'] <= 66), 'Age'] = 6\n",
    "    dataset.loc[ dataset['Age'] > 66, 'Age'] = 7"
   ]
  },
  {
   "cell_type": "code",
   "execution_count": 17,
   "id": "8257adaf",
   "metadata": {},
   "outputs": [
    {
     "data": {
      "text/plain": [
       "Age         0\n",
       "Embarked    2\n",
       "Fare        0\n",
       "Parch       0\n",
       "Pclass      0\n",
       "Sex         0\n",
       "SibSp       0\n",
       "Survived    0\n",
       "dtype: int64"
      ]
     },
     "execution_count": 17,
     "metadata": {},
     "output_type": "execute_result"
    }
   ],
   "source": [
    "#Handling null values in train dataset\n",
    "df_train.isna().sum()"
   ]
  },
  {
   "cell_type": "code",
   "execution_count": 18,
   "id": "aea4436a",
   "metadata": {},
   "outputs": [
    {
     "data": {
      "text/plain": [
       "Age         0\n",
       "Embarked    0\n",
       "Fare        0\n",
       "Parch       0\n",
       "Pclass      0\n",
       "Sex         0\n",
       "SibSp       0\n",
       "Survived    0\n",
       "dtype: int64"
      ]
     },
     "execution_count": 18,
     "metadata": {},
     "output_type": "execute_result"
    }
   ],
   "source": [
    "df_train= df_train.dropna()\n",
    "df_train.isna().sum()"
   ]
  },
  {
   "cell_type": "code",
   "execution_count": 19,
   "id": "8cc1ea76",
   "metadata": {},
   "outputs": [
    {
     "data": {
      "text/plain": [
       "Age         0\n",
       "Embarked    0\n",
       "Fare        1\n",
       "Parch       0\n",
       "Pclass      0\n",
       "Sex         0\n",
       "SibSp       0\n",
       "dtype: int64"
      ]
     },
     "execution_count": 19,
     "metadata": {},
     "output_type": "execute_result"
    }
   ],
   "source": [
    "#Handling null values in test dataset\n",
    "df_test.isna().sum()"
   ]
  },
  {
   "cell_type": "code",
   "execution_count": 20,
   "id": "b989a82b",
   "metadata": {},
   "outputs": [
    {
     "data": {
      "text/plain": [
       "Age         0\n",
       "Embarked    0\n",
       "Fare        0\n",
       "Parch       0\n",
       "Pclass      0\n",
       "Sex         0\n",
       "SibSp       0\n",
       "dtype: int64"
      ]
     },
     "execution_count": 20,
     "metadata": {},
     "output_type": "execute_result"
    }
   ],
   "source": [
    "df_test.Fare.fillna(df_test.Fare.mean(), inplace=True)\n",
    "df_test.isna().sum()"
   ]
  },
  {
   "cell_type": "code",
   "execution_count": 21,
   "id": "9acc4387",
   "metadata": {},
   "outputs": [
    {
     "data": {
      "text/plain": [
       "(889, 8)"
      ]
     },
     "execution_count": 21,
     "metadata": {},
     "output_type": "execute_result"
    }
   ],
   "source": [
    "df_train.shape"
   ]
  },
  {
   "cell_type": "code",
   "execution_count": 22,
   "id": "98c84e89",
   "metadata": {},
   "outputs": [],
   "source": [
    "#Encoding Fare column\n",
    "data = [df_train,df_test]\n",
    "for d in data:\n",
    "    d.loc[ d['Fare'] <= 8, 'Fare'] = 0\n",
    "    d.loc[(d['Fare'] > 8) & (d['Fare'] <= 15), 'Fare'] = 1\n",
    "    d.loc[(d['Fare'] > 15) & (d['Fare'] <= 31), 'Fare']   = 2\n",
    "    d.loc[(d['Fare'] > 31) & (d['Fare'] <= 99), 'Fare']   = 3\n",
    "    d.loc[(d['Fare'] > 99) & (d['Fare'] <= 250), 'Fare']   = 4\n",
    "    d.loc[ d['Fare'] > 250, 'Fare'] = 5\n",
    "    d['Fare'] = d['Fare'].astype(int)"
   ]
  },
  {
   "cell_type": "code",
   "execution_count": 23,
   "id": "3f8cfe94",
   "metadata": {},
   "outputs": [
    {
     "name": "stdout",
     "output_type": "stream",
     "text": [
      "<class 'pandas.core.frame.DataFrame'>\n",
      "Int64Index: 889 entries, 0 to 890\n",
      "Data columns (total 8 columns):\n",
      " #   Column    Non-Null Count  Dtype \n",
      "---  ------    --------------  ----- \n",
      " 0   Age       889 non-null    int32 \n",
      " 1   Embarked  889 non-null    object\n",
      " 2   Fare      889 non-null    int32 \n",
      " 3   Parch     889 non-null    int64 \n",
      " 4   Pclass    889 non-null    int64 \n",
      " 5   Sex       889 non-null    object\n",
      " 6   SibSp     889 non-null    int64 \n",
      " 7   Survived  889 non-null    int64 \n",
      "dtypes: int32(2), int64(4), object(2)\n",
      "memory usage: 55.6+ KB\n"
     ]
    }
   ],
   "source": [
    "df_train.info()"
   ]
  },
  {
   "cell_type": "code",
   "execution_count": 24,
   "id": "bf0cd45f",
   "metadata": {},
   "outputs": [
    {
     "name": "stdout",
     "output_type": "stream",
     "text": [
      "<class 'pandas.core.frame.DataFrame'>\n",
      "RangeIndex: 418 entries, 0 to 417\n",
      "Data columns (total 7 columns):\n",
      " #   Column    Non-Null Count  Dtype \n",
      "---  ------    --------------  ----- \n",
      " 0   Age       418 non-null    int32 \n",
      " 1   Embarked  418 non-null    object\n",
      " 2   Fare      418 non-null    int32 \n",
      " 3   Parch     418 non-null    int64 \n",
      " 4   Pclass    418 non-null    int64 \n",
      " 5   Sex       418 non-null    object\n",
      " 6   SibSp     418 non-null    int64 \n",
      "dtypes: int32(2), int64(3), object(2)\n",
      "memory usage: 19.7+ KB\n"
     ]
    }
   ],
   "source": [
    "df_test.info()"
   ]
  },
  {
   "cell_type": "code",
   "execution_count": 25,
   "id": "25ce9545",
   "metadata": {},
   "outputs": [
    {
     "name": "stderr",
     "output_type": "stream",
     "text": [
      "C:\\Users\\chaud\\AppData\\Local\\Temp\\ipykernel_75800\\1123579137.py:1: FutureWarning: The frame.append method is deprecated and will be removed from pandas in a future version. Use pandas.concat instead.\n",
      "  df_=df_train.append(df_test)\n"
     ]
    },
    {
     "data": {
      "text/plain": [
       "(1307, 8)"
      ]
     },
     "execution_count": 25,
     "metadata": {},
     "output_type": "execute_result"
    }
   ],
   "source": [
    "df_=df_train.append(df_test)\n",
    "df_.shape"
   ]
  },
  {
   "cell_type": "markdown",
   "id": "50ca72cb",
   "metadata": {},
   "source": [
    "### Calculations for model"
   ]
  },
  {
   "cell_type": "code",
   "execution_count": 26,
   "id": "52144735",
   "metadata": {},
   "outputs": [
    {
     "name": "stdout",
     "output_type": "stream",
     "text": [
      "P_yes =  0.38245219347581555 \n",
      "P_no =  0.6175478065241845\n"
     ]
    }
   ],
   "source": [
    "survived_yes=df_train.loc[df_train.Survived==1]\n",
    "P_yes=len(survived_yes)/len(df_train)\n",
    "P_yes # Probability of Survival in training data\n",
    "\n",
    "\n",
    "survived_no=df_train.loc[df_train.Survived==0]\n",
    "P_no=len(survived_no)/len(df_train)\n",
    "P_no # Probability of not Survival in training data\n",
    "\n",
    "print(\"P_yes = \",P_yes,\"\\nP_no = \",P_no)"
   ]
  },
  {
   "cell_type": "code",
   "execution_count": 27,
   "id": "69df7779",
   "metadata": {},
   "outputs": [
    {
     "name": "stdout",
     "output_type": "stream",
     "text": [
      "4    442\n",
      "6    214\n",
      "3    170\n",
      "2    138\n",
      "5    138\n",
      "1    105\n",
      "0     91\n",
      "7      9\n",
      "Name: Age, dtype: int64\n",
      "S    914\n",
      "C    270\n",
      "Q    123\n",
      "Name: Embarked, dtype: int64\n",
      "0    360\n",
      "1    313\n",
      "2    305\n",
      "3    245\n",
      "4     67\n",
      "5     17\n",
      "Name: Fare, dtype: int64\n",
      "0    1000\n",
      "1     170\n",
      "2     113\n",
      "3       8\n",
      "5       6\n",
      "4       6\n",
      "6       2\n",
      "9       2\n",
      "Name: Parch, dtype: int64\n",
      "3    709\n",
      "1    321\n",
      "2    277\n",
      "Name: Pclass, dtype: int64\n",
      "male      843\n",
      "female    464\n",
      "Name: Sex, dtype: int64\n",
      "0    889\n",
      "1    319\n",
      "2     42\n",
      "4     22\n",
      "3     20\n",
      "8      9\n",
      "5      6\n",
      "Name: SibSp, dtype: int64\n",
      "0.0    549\n",
      "1.0    340\n",
      "Name: Survived, dtype: int64\n"
     ]
    },
    {
     "data": {
      "text/html": [
       "<div>\n",
       "<style scoped>\n",
       "    .dataframe tbody tr th:only-of-type {\n",
       "        vertical-align: middle;\n",
       "    }\n",
       "\n",
       "    .dataframe tbody tr th {\n",
       "        vertical-align: top;\n",
       "    }\n",
       "\n",
       "    .dataframe thead th {\n",
       "        text-align: right;\n",
       "    }\n",
       "</style>\n",
       "<table border=\"1\" class=\"dataframe\">\n",
       "  <thead>\n",
       "    <tr style=\"text-align: right;\">\n",
       "      <th></th>\n",
       "      <th>Actual</th>\n",
       "      <th>Predicted</th>\n",
       "    </tr>\n",
       "  </thead>\n",
       "  <tbody>\n",
       "  </tbody>\n",
       "</table>\n",
       "</div>"
      ],
      "text/plain": [
       "Empty DataFrame\n",
       "Columns: [Actual, Predicted]\n",
       "Index: []"
      ]
     },
     "execution_count": 27,
     "metadata": {},
     "output_type": "execute_result"
    }
   ],
   "source": [
    "# value counts of each category of an attribute.\n",
    "\n",
    "for col in df_.columns:\n",
    "    count=df_[col].value_counts() \n",
    "    print(count)\n",
    "    \n",
    "atr=list(df_.columns.values)\n",
    "output_dataframe= pd.DataFrame(columns = ['Actual', 'Predicted']) \n",
    "output_dataframe.head()"
   ]
  },
  {
   "cell_type": "code",
   "execution_count": 28,
   "id": "42248754",
   "metadata": {},
   "outputs": [
    {
     "data": {
      "text/plain": [
       "(418, 7)"
      ]
     },
     "execution_count": 28,
     "metadata": {},
     "output_type": "execute_result"
    }
   ],
   "source": [
    "df_test.shape"
   ]
  },
  {
   "cell_type": "code",
   "execution_count": 29,
   "id": "b6e248d6",
   "metadata": {},
   "outputs": [
    {
     "name": "stderr",
     "output_type": "stream",
     "text": [
      "C:\\Users\\chaud\\AppData\\Local\\Temp\\ipykernel_75800\\2205925660.py:27: FutureWarning: The frame.append method is deprecated and will be removed from pandas in a future version. Use pandas.concat instead.\n",
      "  output_dataframe=output_dataframe.append(pd.DataFrame(list0,columns=['Actual','Predicted']),ignore_index=True)\n",
      "C:\\Users\\chaud\\AppData\\Local\\Temp\\ipykernel_75800\\2205925660.py:27: FutureWarning: The frame.append method is deprecated and will be removed from pandas in a future version. Use pandas.concat instead.\n",
      "  output_dataframe=output_dataframe.append(pd.DataFrame(list0,columns=['Actual','Predicted']),ignore_index=True)\n",
      "C:\\Users\\chaud\\AppData\\Local\\Temp\\ipykernel_75800\\2205925660.py:27: FutureWarning: The frame.append method is deprecated and will be removed from pandas in a future version. Use pandas.concat instead.\n",
      "  output_dataframe=output_dataframe.append(pd.DataFrame(list0,columns=['Actual','Predicted']),ignore_index=True)\n",
      "C:\\Users\\chaud\\AppData\\Local\\Temp\\ipykernel_75800\\2205925660.py:27: FutureWarning: The frame.append method is deprecated and will be removed from pandas in a future version. Use pandas.concat instead.\n",
      "  output_dataframe=output_dataframe.append(pd.DataFrame(list0,columns=['Actual','Predicted']),ignore_index=True)\n",
      "C:\\Users\\chaud\\AppData\\Local\\Temp\\ipykernel_75800\\2205925660.py:23: FutureWarning: The frame.append method is deprecated and will be removed from pandas in a future version. Use pandas.concat instead.\n",
      "  output_dataframe=output_dataframe.append(pd.DataFrame(list1,columns=['Actual','Predicted']),ignore_index=True)\n",
      "C:\\Users\\chaud\\AppData\\Local\\Temp\\ipykernel_75800\\2205925660.py:27: FutureWarning: The frame.append method is deprecated and will be removed from pandas in a future version. Use pandas.concat instead.\n",
      "  output_dataframe=output_dataframe.append(pd.DataFrame(list0,columns=['Actual','Predicted']),ignore_index=True)\n",
      "C:\\Users\\chaud\\AppData\\Local\\Temp\\ipykernel_75800\\2205925660.py:27: FutureWarning: The frame.append method is deprecated and will be removed from pandas in a future version. Use pandas.concat instead.\n",
      "  output_dataframe=output_dataframe.append(pd.DataFrame(list0,columns=['Actual','Predicted']),ignore_index=True)\n",
      "C:\\Users\\chaud\\AppData\\Local\\Temp\\ipykernel_75800\\2205925660.py:27: FutureWarning: The frame.append method is deprecated and will be removed from pandas in a future version. Use pandas.concat instead.\n",
      "  output_dataframe=output_dataframe.append(pd.DataFrame(list0,columns=['Actual','Predicted']),ignore_index=True)\n",
      "C:\\Users\\chaud\\AppData\\Local\\Temp\\ipykernel_75800\\2205925660.py:23: FutureWarning: The frame.append method is deprecated and will be removed from pandas in a future version. Use pandas.concat instead.\n",
      "  output_dataframe=output_dataframe.append(pd.DataFrame(list1,columns=['Actual','Predicted']),ignore_index=True)\n",
      "C:\\Users\\chaud\\AppData\\Local\\Temp\\ipykernel_75800\\2205925660.py:27: FutureWarning: The frame.append method is deprecated and will be removed from pandas in a future version. Use pandas.concat instead.\n",
      "  output_dataframe=output_dataframe.append(pd.DataFrame(list0,columns=['Actual','Predicted']),ignore_index=True)\n",
      "C:\\Users\\chaud\\AppData\\Local\\Temp\\ipykernel_75800\\2205925660.py:27: FutureWarning: The frame.append method is deprecated and will be removed from pandas in a future version. Use pandas.concat instead.\n",
      "  output_dataframe=output_dataframe.append(pd.DataFrame(list0,columns=['Actual','Predicted']),ignore_index=True)\n",
      "C:\\Users\\chaud\\AppData\\Local\\Temp\\ipykernel_75800\\2205925660.py:27: FutureWarning: The frame.append method is deprecated and will be removed from pandas in a future version. Use pandas.concat instead.\n",
      "  output_dataframe=output_dataframe.append(pd.DataFrame(list0,columns=['Actual','Predicted']),ignore_index=True)\n",
      "C:\\Users\\chaud\\AppData\\Local\\Temp\\ipykernel_75800\\2205925660.py:23: FutureWarning: The frame.append method is deprecated and will be removed from pandas in a future version. Use pandas.concat instead.\n",
      "  output_dataframe=output_dataframe.append(pd.DataFrame(list1,columns=['Actual','Predicted']),ignore_index=True)\n",
      "C:\\Users\\chaud\\AppData\\Local\\Temp\\ipykernel_75800\\2205925660.py:27: FutureWarning: The frame.append method is deprecated and will be removed from pandas in a future version. Use pandas.concat instead.\n",
      "  output_dataframe=output_dataframe.append(pd.DataFrame(list0,columns=['Actual','Predicted']),ignore_index=True)\n",
      "C:\\Users\\chaud\\AppData\\Local\\Temp\\ipykernel_75800\\2205925660.py:23: FutureWarning: The frame.append method is deprecated and will be removed from pandas in a future version. Use pandas.concat instead.\n",
      "  output_dataframe=output_dataframe.append(pd.DataFrame(list1,columns=['Actual','Predicted']),ignore_index=True)\n",
      "C:\\Users\\chaud\\AppData\\Local\\Temp\\ipykernel_75800\\2205925660.py:23: FutureWarning: The frame.append method is deprecated and will be removed from pandas in a future version. Use pandas.concat instead.\n",
      "  output_dataframe=output_dataframe.append(pd.DataFrame(list1,columns=['Actual','Predicted']),ignore_index=True)\n",
      "C:\\Users\\chaud\\AppData\\Local\\Temp\\ipykernel_75800\\2205925660.py:27: FutureWarning: The frame.append method is deprecated and will be removed from pandas in a future version. Use pandas.concat instead.\n",
      "  output_dataframe=output_dataframe.append(pd.DataFrame(list0,columns=['Actual','Predicted']),ignore_index=True)\n",
      "C:\\Users\\chaud\\AppData\\Local\\Temp\\ipykernel_75800\\2205925660.py:27: FutureWarning: The frame.append method is deprecated and will be removed from pandas in a future version. Use pandas.concat instead.\n",
      "  output_dataframe=output_dataframe.append(pd.DataFrame(list0,columns=['Actual','Predicted']),ignore_index=True)\n",
      "C:\\Users\\chaud\\AppData\\Local\\Temp\\ipykernel_75800\\2205925660.py:27: FutureWarning: The frame.append method is deprecated and will be removed from pandas in a future version. Use pandas.concat instead.\n",
      "  output_dataframe=output_dataframe.append(pd.DataFrame(list0,columns=['Actual','Predicted']),ignore_index=True)\n",
      "C:\\Users\\chaud\\AppData\\Local\\Temp\\ipykernel_75800\\2205925660.py:23: FutureWarning: The frame.append method is deprecated and will be removed from pandas in a future version. Use pandas.concat instead.\n",
      "  output_dataframe=output_dataframe.append(pd.DataFrame(list1,columns=['Actual','Predicted']),ignore_index=True)\n",
      "C:\\Users\\chaud\\AppData\\Local\\Temp\\ipykernel_75800\\2205925660.py:23: FutureWarning: The frame.append method is deprecated and will be removed from pandas in a future version. Use pandas.concat instead.\n",
      "  output_dataframe=output_dataframe.append(pd.DataFrame(list1,columns=['Actual','Predicted']),ignore_index=True)\n",
      "C:\\Users\\chaud\\AppData\\Local\\Temp\\ipykernel_75800\\2205925660.py:27: FutureWarning: The frame.append method is deprecated and will be removed from pandas in a future version. Use pandas.concat instead.\n",
      "  output_dataframe=output_dataframe.append(pd.DataFrame(list0,columns=['Actual','Predicted']),ignore_index=True)\n",
      "C:\\Users\\chaud\\AppData\\Local\\Temp\\ipykernel_75800\\2205925660.py:23: FutureWarning: The frame.append method is deprecated and will be removed from pandas in a future version. Use pandas.concat instead.\n",
      "  output_dataframe=output_dataframe.append(pd.DataFrame(list1,columns=['Actual','Predicted']),ignore_index=True)\n",
      "C:\\Users\\chaud\\AppData\\Local\\Temp\\ipykernel_75800\\2205925660.py:23: FutureWarning: The frame.append method is deprecated and will be removed from pandas in a future version. Use pandas.concat instead.\n",
      "  output_dataframe=output_dataframe.append(pd.DataFrame(list1,columns=['Actual','Predicted']),ignore_index=True)\n",
      "C:\\Users\\chaud\\AppData\\Local\\Temp\\ipykernel_75800\\2205925660.py:23: FutureWarning: The frame.append method is deprecated and will be removed from pandas in a future version. Use pandas.concat instead.\n",
      "  output_dataframe=output_dataframe.append(pd.DataFrame(list1,columns=['Actual','Predicted']),ignore_index=True)\n",
      "C:\\Users\\chaud\\AppData\\Local\\Temp\\ipykernel_75800\\2205925660.py:27: FutureWarning: The frame.append method is deprecated and will be removed from pandas in a future version. Use pandas.concat instead.\n",
      "  output_dataframe=output_dataframe.append(pd.DataFrame(list0,columns=['Actual','Predicted']),ignore_index=True)\n",
      "C:\\Users\\chaud\\AppData\\Local\\Temp\\ipykernel_75800\\2205925660.py:23: FutureWarning: The frame.append method is deprecated and will be removed from pandas in a future version. Use pandas.concat instead.\n",
      "  output_dataframe=output_dataframe.append(pd.DataFrame(list1,columns=['Actual','Predicted']),ignore_index=True)\n",
      "C:\\Users\\chaud\\AppData\\Local\\Temp\\ipykernel_75800\\2205925660.py:27: FutureWarning: The frame.append method is deprecated and will be removed from pandas in a future version. Use pandas.concat instead.\n",
      "  output_dataframe=output_dataframe.append(pd.DataFrame(list0,columns=['Actual','Predicted']),ignore_index=True)\n",
      "C:\\Users\\chaud\\AppData\\Local\\Temp\\ipykernel_75800\\2205925660.py:27: FutureWarning: The frame.append method is deprecated and will be removed from pandas in a future version. Use pandas.concat instead.\n",
      "  output_dataframe=output_dataframe.append(pd.DataFrame(list0,columns=['Actual','Predicted']),ignore_index=True)\n",
      "C:\\Users\\chaud\\AppData\\Local\\Temp\\ipykernel_75800\\2205925660.py:27: FutureWarning: The frame.append method is deprecated and will be removed from pandas in a future version. Use pandas.concat instead.\n",
      "  output_dataframe=output_dataframe.append(pd.DataFrame(list0,columns=['Actual','Predicted']),ignore_index=True)\n",
      "C:\\Users\\chaud\\AppData\\Local\\Temp\\ipykernel_75800\\2205925660.py:27: FutureWarning: The frame.append method is deprecated and will be removed from pandas in a future version. Use pandas.concat instead.\n",
      "  output_dataframe=output_dataframe.append(pd.DataFrame(list0,columns=['Actual','Predicted']),ignore_index=True)\n",
      "C:\\Users\\chaud\\AppData\\Local\\Temp\\ipykernel_75800\\2205925660.py:27: FutureWarning: The frame.append method is deprecated and will be removed from pandas in a future version. Use pandas.concat instead.\n",
      "  output_dataframe=output_dataframe.append(pd.DataFrame(list0,columns=['Actual','Predicted']),ignore_index=True)\n",
      "C:\\Users\\chaud\\AppData\\Local\\Temp\\ipykernel_75800\\2205925660.py:23: FutureWarning: The frame.append method is deprecated and will be removed from pandas in a future version. Use pandas.concat instead.\n",
      "  output_dataframe=output_dataframe.append(pd.DataFrame(list1,columns=['Actual','Predicted']),ignore_index=True)\n"
     ]
    },
    {
     "name": "stderr",
     "output_type": "stream",
     "text": [
      "C:\\Users\\chaud\\AppData\\Local\\Temp\\ipykernel_75800\\2205925660.py:23: FutureWarning: The frame.append method is deprecated and will be removed from pandas in a future version. Use pandas.concat instead.\n",
      "  output_dataframe=output_dataframe.append(pd.DataFrame(list1,columns=['Actual','Predicted']),ignore_index=True)\n",
      "C:\\Users\\chaud\\AppData\\Local\\Temp\\ipykernel_75800\\2205925660.py:23: FutureWarning: The frame.append method is deprecated and will be removed from pandas in a future version. Use pandas.concat instead.\n",
      "  output_dataframe=output_dataframe.append(pd.DataFrame(list1,columns=['Actual','Predicted']),ignore_index=True)\n",
      "C:\\Users\\chaud\\AppData\\Local\\Temp\\ipykernel_75800\\2205925660.py:27: FutureWarning: The frame.append method is deprecated and will be removed from pandas in a future version. Use pandas.concat instead.\n",
      "  output_dataframe=output_dataframe.append(pd.DataFrame(list0,columns=['Actual','Predicted']),ignore_index=True)\n",
      "C:\\Users\\chaud\\AppData\\Local\\Temp\\ipykernel_75800\\2205925660.py:27: FutureWarning: The frame.append method is deprecated and will be removed from pandas in a future version. Use pandas.concat instead.\n",
      "  output_dataframe=output_dataframe.append(pd.DataFrame(list0,columns=['Actual','Predicted']),ignore_index=True)\n",
      "C:\\Users\\chaud\\AppData\\Local\\Temp\\ipykernel_75800\\2205925660.py:27: FutureWarning: The frame.append method is deprecated and will be removed from pandas in a future version. Use pandas.concat instead.\n",
      "  output_dataframe=output_dataframe.append(pd.DataFrame(list0,columns=['Actual','Predicted']),ignore_index=True)\n",
      "C:\\Users\\chaud\\AppData\\Local\\Temp\\ipykernel_75800\\2205925660.py:27: FutureWarning: The frame.append method is deprecated and will be removed from pandas in a future version. Use pandas.concat instead.\n",
      "  output_dataframe=output_dataframe.append(pd.DataFrame(list0,columns=['Actual','Predicted']),ignore_index=True)\n",
      "C:\\Users\\chaud\\AppData\\Local\\Temp\\ipykernel_75800\\2205925660.py:27: FutureWarning: The frame.append method is deprecated and will be removed from pandas in a future version. Use pandas.concat instead.\n",
      "  output_dataframe=output_dataframe.append(pd.DataFrame(list0,columns=['Actual','Predicted']),ignore_index=True)\n",
      "C:\\Users\\chaud\\AppData\\Local\\Temp\\ipykernel_75800\\2205925660.py:27: FutureWarning: The frame.append method is deprecated and will be removed from pandas in a future version. Use pandas.concat instead.\n",
      "  output_dataframe=output_dataframe.append(pd.DataFrame(list0,columns=['Actual','Predicted']),ignore_index=True)\n",
      "C:\\Users\\chaud\\AppData\\Local\\Temp\\ipykernel_75800\\2205925660.py:27: FutureWarning: The frame.append method is deprecated and will be removed from pandas in a future version. Use pandas.concat instead.\n",
      "  output_dataframe=output_dataframe.append(pd.DataFrame(list0,columns=['Actual','Predicted']),ignore_index=True)\n",
      "C:\\Users\\chaud\\AppData\\Local\\Temp\\ipykernel_75800\\2205925660.py:27: FutureWarning: The frame.append method is deprecated and will be removed from pandas in a future version. Use pandas.concat instead.\n",
      "  output_dataframe=output_dataframe.append(pd.DataFrame(list0,columns=['Actual','Predicted']),ignore_index=True)\n",
      "C:\\Users\\chaud\\AppData\\Local\\Temp\\ipykernel_75800\\2205925660.py:23: FutureWarning: The frame.append method is deprecated and will be removed from pandas in a future version. Use pandas.concat instead.\n",
      "  output_dataframe=output_dataframe.append(pd.DataFrame(list1,columns=['Actual','Predicted']),ignore_index=True)\n",
      "C:\\Users\\chaud\\AppData\\Local\\Temp\\ipykernel_75800\\2205925660.py:23: FutureWarning: The frame.append method is deprecated and will be removed from pandas in a future version. Use pandas.concat instead.\n",
      "  output_dataframe=output_dataframe.append(pd.DataFrame(list1,columns=['Actual','Predicted']),ignore_index=True)\n",
      "C:\\Users\\chaud\\AppData\\Local\\Temp\\ipykernel_75800\\2205925660.py:27: FutureWarning: The frame.append method is deprecated and will be removed from pandas in a future version. Use pandas.concat instead.\n",
      "  output_dataframe=output_dataframe.append(pd.DataFrame(list0,columns=['Actual','Predicted']),ignore_index=True)\n",
      "C:\\Users\\chaud\\AppData\\Local\\Temp\\ipykernel_75800\\2205925660.py:23: FutureWarning: The frame.append method is deprecated and will be removed from pandas in a future version. Use pandas.concat instead.\n",
      "  output_dataframe=output_dataframe.append(pd.DataFrame(list1,columns=['Actual','Predicted']),ignore_index=True)\n",
      "C:\\Users\\chaud\\AppData\\Local\\Temp\\ipykernel_75800\\2205925660.py:27: FutureWarning: The frame.append method is deprecated and will be removed from pandas in a future version. Use pandas.concat instead.\n",
      "  output_dataframe=output_dataframe.append(pd.DataFrame(list0,columns=['Actual','Predicted']),ignore_index=True)\n",
      "C:\\Users\\chaud\\AppData\\Local\\Temp\\ipykernel_75800\\2205925660.py:23: FutureWarning: The frame.append method is deprecated and will be removed from pandas in a future version. Use pandas.concat instead.\n",
      "  output_dataframe=output_dataframe.append(pd.DataFrame(list1,columns=['Actual','Predicted']),ignore_index=True)\n",
      "C:\\Users\\chaud\\AppData\\Local\\Temp\\ipykernel_75800\\2205925660.py:23: FutureWarning: The frame.append method is deprecated and will be removed from pandas in a future version. Use pandas.concat instead.\n",
      "  output_dataframe=output_dataframe.append(pd.DataFrame(list1,columns=['Actual','Predicted']),ignore_index=True)\n",
      "C:\\Users\\chaud\\AppData\\Local\\Temp\\ipykernel_75800\\2205925660.py:27: FutureWarning: The frame.append method is deprecated and will be removed from pandas in a future version. Use pandas.concat instead.\n",
      "  output_dataframe=output_dataframe.append(pd.DataFrame(list0,columns=['Actual','Predicted']),ignore_index=True)\n",
      "C:\\Users\\chaud\\AppData\\Local\\Temp\\ipykernel_75800\\2205925660.py:27: FutureWarning: The frame.append method is deprecated and will be removed from pandas in a future version. Use pandas.concat instead.\n",
      "  output_dataframe=output_dataframe.append(pd.DataFrame(list0,columns=['Actual','Predicted']),ignore_index=True)\n",
      "C:\\Users\\chaud\\AppData\\Local\\Temp\\ipykernel_75800\\2205925660.py:23: FutureWarning: The frame.append method is deprecated and will be removed from pandas in a future version. Use pandas.concat instead.\n",
      "  output_dataframe=output_dataframe.append(pd.DataFrame(list1,columns=['Actual','Predicted']),ignore_index=True)\n",
      "C:\\Users\\chaud\\AppData\\Local\\Temp\\ipykernel_75800\\2205925660.py:23: FutureWarning: The frame.append method is deprecated and will be removed from pandas in a future version. Use pandas.concat instead.\n",
      "  output_dataframe=output_dataframe.append(pd.DataFrame(list1,columns=['Actual','Predicted']),ignore_index=True)\n",
      "C:\\Users\\chaud\\AppData\\Local\\Temp\\ipykernel_75800\\2205925660.py:27: FutureWarning: The frame.append method is deprecated and will be removed from pandas in a future version. Use pandas.concat instead.\n",
      "  output_dataframe=output_dataframe.append(pd.DataFrame(list0,columns=['Actual','Predicted']),ignore_index=True)\n",
      "C:\\Users\\chaud\\AppData\\Local\\Temp\\ipykernel_75800\\2205925660.py:27: FutureWarning: The frame.append method is deprecated and will be removed from pandas in a future version. Use pandas.concat instead.\n",
      "  output_dataframe=output_dataframe.append(pd.DataFrame(list0,columns=['Actual','Predicted']),ignore_index=True)\n",
      "C:\\Users\\chaud\\AppData\\Local\\Temp\\ipykernel_75800\\2205925660.py:27: FutureWarning: The frame.append method is deprecated and will be removed from pandas in a future version. Use pandas.concat instead.\n",
      "  output_dataframe=output_dataframe.append(pd.DataFrame(list0,columns=['Actual','Predicted']),ignore_index=True)\n",
      "C:\\Users\\chaud\\AppData\\Local\\Temp\\ipykernel_75800\\2205925660.py:27: FutureWarning: The frame.append method is deprecated and will be removed from pandas in a future version. Use pandas.concat instead.\n",
      "  output_dataframe=output_dataframe.append(pd.DataFrame(list0,columns=['Actual','Predicted']),ignore_index=True)\n",
      "C:\\Users\\chaud\\AppData\\Local\\Temp\\ipykernel_75800\\2205925660.py:27: FutureWarning: The frame.append method is deprecated and will be removed from pandas in a future version. Use pandas.concat instead.\n",
      "  output_dataframe=output_dataframe.append(pd.DataFrame(list0,columns=['Actual','Predicted']),ignore_index=True)\n",
      "C:\\Users\\chaud\\AppData\\Local\\Temp\\ipykernel_75800\\2205925660.py:23: FutureWarning: The frame.append method is deprecated and will be removed from pandas in a future version. Use pandas.concat instead.\n",
      "  output_dataframe=output_dataframe.append(pd.DataFrame(list1,columns=['Actual','Predicted']),ignore_index=True)\n"
     ]
    },
    {
     "name": "stderr",
     "output_type": "stream",
     "text": [
      "C:\\Users\\chaud\\AppData\\Local\\Temp\\ipykernel_75800\\2205925660.py:27: FutureWarning: The frame.append method is deprecated and will be removed from pandas in a future version. Use pandas.concat instead.\n",
      "  output_dataframe=output_dataframe.append(pd.DataFrame(list0,columns=['Actual','Predicted']),ignore_index=True)\n",
      "C:\\Users\\chaud\\AppData\\Local\\Temp\\ipykernel_75800\\2205925660.py:27: FutureWarning: The frame.append method is deprecated and will be removed from pandas in a future version. Use pandas.concat instead.\n",
      "  output_dataframe=output_dataframe.append(pd.DataFrame(list0,columns=['Actual','Predicted']),ignore_index=True)\n",
      "C:\\Users\\chaud\\AppData\\Local\\Temp\\ipykernel_75800\\2205925660.py:27: FutureWarning: The frame.append method is deprecated and will be removed from pandas in a future version. Use pandas.concat instead.\n",
      "  output_dataframe=output_dataframe.append(pd.DataFrame(list0,columns=['Actual','Predicted']),ignore_index=True)\n",
      "C:\\Users\\chaud\\AppData\\Local\\Temp\\ipykernel_75800\\2205925660.py:27: FutureWarning: The frame.append method is deprecated and will be removed from pandas in a future version. Use pandas.concat instead.\n",
      "  output_dataframe=output_dataframe.append(pd.DataFrame(list0,columns=['Actual','Predicted']),ignore_index=True)\n",
      "C:\\Users\\chaud\\AppData\\Local\\Temp\\ipykernel_75800\\2205925660.py:23: FutureWarning: The frame.append method is deprecated and will be removed from pandas in a future version. Use pandas.concat instead.\n",
      "  output_dataframe=output_dataframe.append(pd.DataFrame(list1,columns=['Actual','Predicted']),ignore_index=True)\n",
      "C:\\Users\\chaud\\AppData\\Local\\Temp\\ipykernel_75800\\2205925660.py:23: FutureWarning: The frame.append method is deprecated and will be removed from pandas in a future version. Use pandas.concat instead.\n",
      "  output_dataframe=output_dataframe.append(pd.DataFrame(list1,columns=['Actual','Predicted']),ignore_index=True)\n",
      "C:\\Users\\chaud\\AppData\\Local\\Temp\\ipykernel_75800\\2205925660.py:27: FutureWarning: The frame.append method is deprecated and will be removed from pandas in a future version. Use pandas.concat instead.\n",
      "  output_dataframe=output_dataframe.append(pd.DataFrame(list0,columns=['Actual','Predicted']),ignore_index=True)\n",
      "C:\\Users\\chaud\\AppData\\Local\\Temp\\ipykernel_75800\\2205925660.py:27: FutureWarning: The frame.append method is deprecated and will be removed from pandas in a future version. Use pandas.concat instead.\n",
      "  output_dataframe=output_dataframe.append(pd.DataFrame(list0,columns=['Actual','Predicted']),ignore_index=True)\n",
      "C:\\Users\\chaud\\AppData\\Local\\Temp\\ipykernel_75800\\2205925660.py:23: FutureWarning: The frame.append method is deprecated and will be removed from pandas in a future version. Use pandas.concat instead.\n",
      "  output_dataframe=output_dataframe.append(pd.DataFrame(list1,columns=['Actual','Predicted']),ignore_index=True)\n",
      "C:\\Users\\chaud\\AppData\\Local\\Temp\\ipykernel_75800\\2205925660.py:27: FutureWarning: The frame.append method is deprecated and will be removed from pandas in a future version. Use pandas.concat instead.\n",
      "  output_dataframe=output_dataframe.append(pd.DataFrame(list0,columns=['Actual','Predicted']),ignore_index=True)\n",
      "C:\\Users\\chaud\\AppData\\Local\\Temp\\ipykernel_75800\\2205925660.py:27: FutureWarning: The frame.append method is deprecated and will be removed from pandas in a future version. Use pandas.concat instead.\n",
      "  output_dataframe=output_dataframe.append(pd.DataFrame(list0,columns=['Actual','Predicted']),ignore_index=True)\n",
      "C:\\Users\\chaud\\AppData\\Local\\Temp\\ipykernel_75800\\2205925660.py:27: FutureWarning: The frame.append method is deprecated and will be removed from pandas in a future version. Use pandas.concat instead.\n",
      "  output_dataframe=output_dataframe.append(pd.DataFrame(list0,columns=['Actual','Predicted']),ignore_index=True)\n",
      "C:\\Users\\chaud\\AppData\\Local\\Temp\\ipykernel_75800\\2205925660.py:27: FutureWarning: The frame.append method is deprecated and will be removed from pandas in a future version. Use pandas.concat instead.\n",
      "  output_dataframe=output_dataframe.append(pd.DataFrame(list0,columns=['Actual','Predicted']),ignore_index=True)\n",
      "C:\\Users\\chaud\\AppData\\Local\\Temp\\ipykernel_75800\\2205925660.py:23: FutureWarning: The frame.append method is deprecated and will be removed from pandas in a future version. Use pandas.concat instead.\n",
      "  output_dataframe=output_dataframe.append(pd.DataFrame(list1,columns=['Actual','Predicted']),ignore_index=True)\n",
      "C:\\Users\\chaud\\AppData\\Local\\Temp\\ipykernel_75800\\2205925660.py:23: FutureWarning: The frame.append method is deprecated and will be removed from pandas in a future version. Use pandas.concat instead.\n",
      "  output_dataframe=output_dataframe.append(pd.DataFrame(list1,columns=['Actual','Predicted']),ignore_index=True)\n",
      "C:\\Users\\chaud\\AppData\\Local\\Temp\\ipykernel_75800\\2205925660.py:23: FutureWarning: The frame.append method is deprecated and will be removed from pandas in a future version. Use pandas.concat instead.\n",
      "  output_dataframe=output_dataframe.append(pd.DataFrame(list1,columns=['Actual','Predicted']),ignore_index=True)\n",
      "C:\\Users\\chaud\\AppData\\Local\\Temp\\ipykernel_75800\\2205925660.py:27: FutureWarning: The frame.append method is deprecated and will be removed from pandas in a future version. Use pandas.concat instead.\n",
      "  output_dataframe=output_dataframe.append(pd.DataFrame(list0,columns=['Actual','Predicted']),ignore_index=True)\n",
      "C:\\Users\\chaud\\AppData\\Local\\Temp\\ipykernel_75800\\2205925660.py:23: FutureWarning: The frame.append method is deprecated and will be removed from pandas in a future version. Use pandas.concat instead.\n",
      "  output_dataframe=output_dataframe.append(pd.DataFrame(list1,columns=['Actual','Predicted']),ignore_index=True)\n",
      "C:\\Users\\chaud\\AppData\\Local\\Temp\\ipykernel_75800\\2205925660.py:27: FutureWarning: The frame.append method is deprecated and will be removed from pandas in a future version. Use pandas.concat instead.\n",
      "  output_dataframe=output_dataframe.append(pd.DataFrame(list0,columns=['Actual','Predicted']),ignore_index=True)\n",
      "C:\\Users\\chaud\\AppData\\Local\\Temp\\ipykernel_75800\\2205925660.py:27: FutureWarning: The frame.append method is deprecated and will be removed from pandas in a future version. Use pandas.concat instead.\n",
      "  output_dataframe=output_dataframe.append(pd.DataFrame(list0,columns=['Actual','Predicted']),ignore_index=True)\n",
      "C:\\Users\\chaud\\AppData\\Local\\Temp\\ipykernel_75800\\2205925660.py:23: FutureWarning: The frame.append method is deprecated and will be removed from pandas in a future version. Use pandas.concat instead.\n",
      "  output_dataframe=output_dataframe.append(pd.DataFrame(list1,columns=['Actual','Predicted']),ignore_index=True)\n",
      "C:\\Users\\chaud\\AppData\\Local\\Temp\\ipykernel_75800\\2205925660.py:27: FutureWarning: The frame.append method is deprecated and will be removed from pandas in a future version. Use pandas.concat instead.\n",
      "  output_dataframe=output_dataframe.append(pd.DataFrame(list0,columns=['Actual','Predicted']),ignore_index=True)\n",
      "C:\\Users\\chaud\\AppData\\Local\\Temp\\ipykernel_75800\\2205925660.py:27: FutureWarning: The frame.append method is deprecated and will be removed from pandas in a future version. Use pandas.concat instead.\n",
      "  output_dataframe=output_dataframe.append(pd.DataFrame(list0,columns=['Actual','Predicted']),ignore_index=True)\n",
      "C:\\Users\\chaud\\AppData\\Local\\Temp\\ipykernel_75800\\2205925660.py:27: FutureWarning: The frame.append method is deprecated and will be removed from pandas in a future version. Use pandas.concat instead.\n",
      "  output_dataframe=output_dataframe.append(pd.DataFrame(list0,columns=['Actual','Predicted']),ignore_index=True)\n",
      "C:\\Users\\chaud\\AppData\\Local\\Temp\\ipykernel_75800\\2205925660.py:27: FutureWarning: The frame.append method is deprecated and will be removed from pandas in a future version. Use pandas.concat instead.\n",
      "  output_dataframe=output_dataframe.append(pd.DataFrame(list0,columns=['Actual','Predicted']),ignore_index=True)\n",
      "C:\\Users\\chaud\\AppData\\Local\\Temp\\ipykernel_75800\\2205925660.py:27: FutureWarning: The frame.append method is deprecated and will be removed from pandas in a future version. Use pandas.concat instead.\n",
      "  output_dataframe=output_dataframe.append(pd.DataFrame(list0,columns=['Actual','Predicted']),ignore_index=True)\n",
      "C:\\Users\\chaud\\AppData\\Local\\Temp\\ipykernel_75800\\2205925660.py:27: FutureWarning: The frame.append method is deprecated and will be removed from pandas in a future version. Use pandas.concat instead.\n",
      "  output_dataframe=output_dataframe.append(pd.DataFrame(list0,columns=['Actual','Predicted']),ignore_index=True)\n",
      "C:\\Users\\chaud\\AppData\\Local\\Temp\\ipykernel_75800\\2205925660.py:27: FutureWarning: The frame.append method is deprecated and will be removed from pandas in a future version. Use pandas.concat instead.\n",
      "  output_dataframe=output_dataframe.append(pd.DataFrame(list0,columns=['Actual','Predicted']),ignore_index=True)\n",
      "C:\\Users\\chaud\\AppData\\Local\\Temp\\ipykernel_75800\\2205925660.py:27: FutureWarning: The frame.append method is deprecated and will be removed from pandas in a future version. Use pandas.concat instead.\n",
      "  output_dataframe=output_dataframe.append(pd.DataFrame(list0,columns=['Actual','Predicted']),ignore_index=True)\n",
      "C:\\Users\\chaud\\AppData\\Local\\Temp\\ipykernel_75800\\2205925660.py:23: FutureWarning: The frame.append method is deprecated and will be removed from pandas in a future version. Use pandas.concat instead.\n",
      "  output_dataframe=output_dataframe.append(pd.DataFrame(list1,columns=['Actual','Predicted']),ignore_index=True)\n",
      "C:\\Users\\chaud\\AppData\\Local\\Temp\\ipykernel_75800\\2205925660.py:27: FutureWarning: The frame.append method is deprecated and will be removed from pandas in a future version. Use pandas.concat instead.\n",
      "  output_dataframe=output_dataframe.append(pd.DataFrame(list0,columns=['Actual','Predicted']),ignore_index=True)\n",
      "C:\\Users\\chaud\\AppData\\Local\\Temp\\ipykernel_75800\\2205925660.py:27: FutureWarning: The frame.append method is deprecated and will be removed from pandas in a future version. Use pandas.concat instead.\n",
      "  output_dataframe=output_dataframe.append(pd.DataFrame(list0,columns=['Actual','Predicted']),ignore_index=True)\n",
      "C:\\Users\\chaud\\AppData\\Local\\Temp\\ipykernel_75800\\2205925660.py:23: FutureWarning: The frame.append method is deprecated and will be removed from pandas in a future version. Use pandas.concat instead.\n",
      "  output_dataframe=output_dataframe.append(pd.DataFrame(list1,columns=['Actual','Predicted']),ignore_index=True)\n",
      "C:\\Users\\chaud\\AppData\\Local\\Temp\\ipykernel_75800\\2205925660.py:27: FutureWarning: The frame.append method is deprecated and will be removed from pandas in a future version. Use pandas.concat instead.\n",
      "  output_dataframe=output_dataframe.append(pd.DataFrame(list0,columns=['Actual','Predicted']),ignore_index=True)\n"
     ]
    },
    {
     "name": "stderr",
     "output_type": "stream",
     "text": [
      "C:\\Users\\chaud\\AppData\\Local\\Temp\\ipykernel_75800\\2205925660.py:23: FutureWarning: The frame.append method is deprecated and will be removed from pandas in a future version. Use pandas.concat instead.\n",
      "  output_dataframe=output_dataframe.append(pd.DataFrame(list1,columns=['Actual','Predicted']),ignore_index=True)\n",
      "C:\\Users\\chaud\\AppData\\Local\\Temp\\ipykernel_75800\\2205925660.py:27: FutureWarning: The frame.append method is deprecated and will be removed from pandas in a future version. Use pandas.concat instead.\n",
      "  output_dataframe=output_dataframe.append(pd.DataFrame(list0,columns=['Actual','Predicted']),ignore_index=True)\n",
      "C:\\Users\\chaud\\AppData\\Local\\Temp\\ipykernel_75800\\2205925660.py:23: FutureWarning: The frame.append method is deprecated and will be removed from pandas in a future version. Use pandas.concat instead.\n",
      "  output_dataframe=output_dataframe.append(pd.DataFrame(list1,columns=['Actual','Predicted']),ignore_index=True)\n",
      "C:\\Users\\chaud\\AppData\\Local\\Temp\\ipykernel_75800\\2205925660.py:27: FutureWarning: The frame.append method is deprecated and will be removed from pandas in a future version. Use pandas.concat instead.\n",
      "  output_dataframe=output_dataframe.append(pd.DataFrame(list0,columns=['Actual','Predicted']),ignore_index=True)\n",
      "C:\\Users\\chaud\\AppData\\Local\\Temp\\ipykernel_75800\\2205925660.py:27: FutureWarning: The frame.append method is deprecated and will be removed from pandas in a future version. Use pandas.concat instead.\n",
      "  output_dataframe=output_dataframe.append(pd.DataFrame(list0,columns=['Actual','Predicted']),ignore_index=True)\n",
      "C:\\Users\\chaud\\AppData\\Local\\Temp\\ipykernel_75800\\2205925660.py:27: FutureWarning: The frame.append method is deprecated and will be removed from pandas in a future version. Use pandas.concat instead.\n",
      "  output_dataframe=output_dataframe.append(pd.DataFrame(list0,columns=['Actual','Predicted']),ignore_index=True)\n",
      "C:\\Users\\chaud\\AppData\\Local\\Temp\\ipykernel_75800\\2205925660.py:23: FutureWarning: The frame.append method is deprecated and will be removed from pandas in a future version. Use pandas.concat instead.\n",
      "  output_dataframe=output_dataframe.append(pd.DataFrame(list1,columns=['Actual','Predicted']),ignore_index=True)\n",
      "C:\\Users\\chaud\\AppData\\Local\\Temp\\ipykernel_75800\\2205925660.py:27: FutureWarning: The frame.append method is deprecated and will be removed from pandas in a future version. Use pandas.concat instead.\n",
      "  output_dataframe=output_dataframe.append(pd.DataFrame(list0,columns=['Actual','Predicted']),ignore_index=True)\n",
      "C:\\Users\\chaud\\AppData\\Local\\Temp\\ipykernel_75800\\2205925660.py:27: FutureWarning: The frame.append method is deprecated and will be removed from pandas in a future version. Use pandas.concat instead.\n",
      "  output_dataframe=output_dataframe.append(pd.DataFrame(list0,columns=['Actual','Predicted']),ignore_index=True)\n",
      "C:\\Users\\chaud\\AppData\\Local\\Temp\\ipykernel_75800\\2205925660.py:27: FutureWarning: The frame.append method is deprecated and will be removed from pandas in a future version. Use pandas.concat instead.\n",
      "  output_dataframe=output_dataframe.append(pd.DataFrame(list0,columns=['Actual','Predicted']),ignore_index=True)\n",
      "C:\\Users\\chaud\\AppData\\Local\\Temp\\ipykernel_75800\\2205925660.py:23: FutureWarning: The frame.append method is deprecated and will be removed from pandas in a future version. Use pandas.concat instead.\n",
      "  output_dataframe=output_dataframe.append(pd.DataFrame(list1,columns=['Actual','Predicted']),ignore_index=True)\n",
      "C:\\Users\\chaud\\AppData\\Local\\Temp\\ipykernel_75800\\2205925660.py:27: FutureWarning: The frame.append method is deprecated and will be removed from pandas in a future version. Use pandas.concat instead.\n",
      "  output_dataframe=output_dataframe.append(pd.DataFrame(list0,columns=['Actual','Predicted']),ignore_index=True)\n",
      "C:\\Users\\chaud\\AppData\\Local\\Temp\\ipykernel_75800\\2205925660.py:27: FutureWarning: The frame.append method is deprecated and will be removed from pandas in a future version. Use pandas.concat instead.\n",
      "  output_dataframe=output_dataframe.append(pd.DataFrame(list0,columns=['Actual','Predicted']),ignore_index=True)\n",
      "C:\\Users\\chaud\\AppData\\Local\\Temp\\ipykernel_75800\\2205925660.py:27: FutureWarning: The frame.append method is deprecated and will be removed from pandas in a future version. Use pandas.concat instead.\n",
      "  output_dataframe=output_dataframe.append(pd.DataFrame(list0,columns=['Actual','Predicted']),ignore_index=True)\n",
      "C:\\Users\\chaud\\AppData\\Local\\Temp\\ipykernel_75800\\2205925660.py:27: FutureWarning: The frame.append method is deprecated and will be removed from pandas in a future version. Use pandas.concat instead.\n",
      "  output_dataframe=output_dataframe.append(pd.DataFrame(list0,columns=['Actual','Predicted']),ignore_index=True)\n",
      "C:\\Users\\chaud\\AppData\\Local\\Temp\\ipykernel_75800\\2205925660.py:27: FutureWarning: The frame.append method is deprecated and will be removed from pandas in a future version. Use pandas.concat instead.\n",
      "  output_dataframe=output_dataframe.append(pd.DataFrame(list0,columns=['Actual','Predicted']),ignore_index=True)\n",
      "C:\\Users\\chaud\\AppData\\Local\\Temp\\ipykernel_75800\\2205925660.py:27: FutureWarning: The frame.append method is deprecated and will be removed from pandas in a future version. Use pandas.concat instead.\n",
      "  output_dataframe=output_dataframe.append(pd.DataFrame(list0,columns=['Actual','Predicted']),ignore_index=True)\n",
      "C:\\Users\\chaud\\AppData\\Local\\Temp\\ipykernel_75800\\2205925660.py:27: FutureWarning: The frame.append method is deprecated and will be removed from pandas in a future version. Use pandas.concat instead.\n",
      "  output_dataframe=output_dataframe.append(pd.DataFrame(list0,columns=['Actual','Predicted']),ignore_index=True)\n",
      "C:\\Users\\chaud\\AppData\\Local\\Temp\\ipykernel_75800\\2205925660.py:23: FutureWarning: The frame.append method is deprecated and will be removed from pandas in a future version. Use pandas.concat instead.\n",
      "  output_dataframe=output_dataframe.append(pd.DataFrame(list1,columns=['Actual','Predicted']),ignore_index=True)\n",
      "C:\\Users\\chaud\\AppData\\Local\\Temp\\ipykernel_75800\\2205925660.py:27: FutureWarning: The frame.append method is deprecated and will be removed from pandas in a future version. Use pandas.concat instead.\n",
      "  output_dataframe=output_dataframe.append(pd.DataFrame(list0,columns=['Actual','Predicted']),ignore_index=True)\n",
      "C:\\Users\\chaud\\AppData\\Local\\Temp\\ipykernel_75800\\2205925660.py:23: FutureWarning: The frame.append method is deprecated and will be removed from pandas in a future version. Use pandas.concat instead.\n",
      "  output_dataframe=output_dataframe.append(pd.DataFrame(list1,columns=['Actual','Predicted']),ignore_index=True)\n",
      "C:\\Users\\chaud\\AppData\\Local\\Temp\\ipykernel_75800\\2205925660.py:27: FutureWarning: The frame.append method is deprecated and will be removed from pandas in a future version. Use pandas.concat instead.\n",
      "  output_dataframe=output_dataframe.append(pd.DataFrame(list0,columns=['Actual','Predicted']),ignore_index=True)\n",
      "C:\\Users\\chaud\\AppData\\Local\\Temp\\ipykernel_75800\\2205925660.py:27: FutureWarning: The frame.append method is deprecated and will be removed from pandas in a future version. Use pandas.concat instead.\n",
      "  output_dataframe=output_dataframe.append(pd.DataFrame(list0,columns=['Actual','Predicted']),ignore_index=True)\n",
      "C:\\Users\\chaud\\AppData\\Local\\Temp\\ipykernel_75800\\2205925660.py:23: FutureWarning: The frame.append method is deprecated and will be removed from pandas in a future version. Use pandas.concat instead.\n",
      "  output_dataframe=output_dataframe.append(pd.DataFrame(list1,columns=['Actual','Predicted']),ignore_index=True)\n",
      "C:\\Users\\chaud\\AppData\\Local\\Temp\\ipykernel_75800\\2205925660.py:23: FutureWarning: The frame.append method is deprecated and will be removed from pandas in a future version. Use pandas.concat instead.\n",
      "  output_dataframe=output_dataframe.append(pd.DataFrame(list1,columns=['Actual','Predicted']),ignore_index=True)\n",
      "C:\\Users\\chaud\\AppData\\Local\\Temp\\ipykernel_75800\\2205925660.py:23: FutureWarning: The frame.append method is deprecated and will be removed from pandas in a future version. Use pandas.concat instead.\n",
      "  output_dataframe=output_dataframe.append(pd.DataFrame(list1,columns=['Actual','Predicted']),ignore_index=True)\n",
      "C:\\Users\\chaud\\AppData\\Local\\Temp\\ipykernel_75800\\2205925660.py:23: FutureWarning: The frame.append method is deprecated and will be removed from pandas in a future version. Use pandas.concat instead.\n",
      "  output_dataframe=output_dataframe.append(pd.DataFrame(list1,columns=['Actual','Predicted']),ignore_index=True)\n",
      "C:\\Users\\chaud\\AppData\\Local\\Temp\\ipykernel_75800\\2205925660.py:27: FutureWarning: The frame.append method is deprecated and will be removed from pandas in a future version. Use pandas.concat instead.\n",
      "  output_dataframe=output_dataframe.append(pd.DataFrame(list0,columns=['Actual','Predicted']),ignore_index=True)\n",
      "C:\\Users\\chaud\\AppData\\Local\\Temp\\ipykernel_75800\\2205925660.py:23: FutureWarning: The frame.append method is deprecated and will be removed from pandas in a future version. Use pandas.concat instead.\n",
      "  output_dataframe=output_dataframe.append(pd.DataFrame(list1,columns=['Actual','Predicted']),ignore_index=True)\n",
      "C:\\Users\\chaud\\AppData\\Local\\Temp\\ipykernel_75800\\2205925660.py:27: FutureWarning: The frame.append method is deprecated and will be removed from pandas in a future version. Use pandas.concat instead.\n",
      "  output_dataframe=output_dataframe.append(pd.DataFrame(list0,columns=['Actual','Predicted']),ignore_index=True)\n",
      "C:\\Users\\chaud\\AppData\\Local\\Temp\\ipykernel_75800\\2205925660.py:27: FutureWarning: The frame.append method is deprecated and will be removed from pandas in a future version. Use pandas.concat instead.\n",
      "  output_dataframe=output_dataframe.append(pd.DataFrame(list0,columns=['Actual','Predicted']),ignore_index=True)\n",
      "C:\\Users\\chaud\\AppData\\Local\\Temp\\ipykernel_75800\\2205925660.py:23: FutureWarning: The frame.append method is deprecated and will be removed from pandas in a future version. Use pandas.concat instead.\n",
      "  output_dataframe=output_dataframe.append(pd.DataFrame(list1,columns=['Actual','Predicted']),ignore_index=True)\n",
      "C:\\Users\\chaud\\AppData\\Local\\Temp\\ipykernel_75800\\2205925660.py:27: FutureWarning: The frame.append method is deprecated and will be removed from pandas in a future version. Use pandas.concat instead.\n",
      "  output_dataframe=output_dataframe.append(pd.DataFrame(list0,columns=['Actual','Predicted']),ignore_index=True)\n",
      "C:\\Users\\chaud\\AppData\\Local\\Temp\\ipykernel_75800\\2205925660.py:23: FutureWarning: The frame.append method is deprecated and will be removed from pandas in a future version. Use pandas.concat instead.\n",
      "  output_dataframe=output_dataframe.append(pd.DataFrame(list1,columns=['Actual','Predicted']),ignore_index=True)\n",
      "C:\\Users\\chaud\\AppData\\Local\\Temp\\ipykernel_75800\\2205925660.py:27: FutureWarning: The frame.append method is deprecated and will be removed from pandas in a future version. Use pandas.concat instead.\n",
      "  output_dataframe=output_dataframe.append(pd.DataFrame(list0,columns=['Actual','Predicted']),ignore_index=True)\n",
      "C:\\Users\\chaud\\AppData\\Local\\Temp\\ipykernel_75800\\2205925660.py:27: FutureWarning: The frame.append method is deprecated and will be removed from pandas in a future version. Use pandas.concat instead.\n",
      "  output_dataframe=output_dataframe.append(pd.DataFrame(list0,columns=['Actual','Predicted']),ignore_index=True)\n",
      "C:\\Users\\chaud\\AppData\\Local\\Temp\\ipykernel_75800\\2205925660.py:27: FutureWarning: The frame.append method is deprecated and will be removed from pandas in a future version. Use pandas.concat instead.\n",
      "  output_dataframe=output_dataframe.append(pd.DataFrame(list0,columns=['Actual','Predicted']),ignore_index=True)\n",
      "C:\\Users\\chaud\\AppData\\Local\\Temp\\ipykernel_75800\\2205925660.py:23: FutureWarning: The frame.append method is deprecated and will be removed from pandas in a future version. Use pandas.concat instead.\n",
      "  output_dataframe=output_dataframe.append(pd.DataFrame(list1,columns=['Actual','Predicted']),ignore_index=True)\n",
      "C:\\Users\\chaud\\AppData\\Local\\Temp\\ipykernel_75800\\2205925660.py:27: FutureWarning: The frame.append method is deprecated and will be removed from pandas in a future version. Use pandas.concat instead.\n",
      "  output_dataframe=output_dataframe.append(pd.DataFrame(list0,columns=['Actual','Predicted']),ignore_index=True)\n"
     ]
    },
    {
     "name": "stderr",
     "output_type": "stream",
     "text": [
      "C:\\Users\\chaud\\AppData\\Local\\Temp\\ipykernel_75800\\2205925660.py:27: FutureWarning: The frame.append method is deprecated and will be removed from pandas in a future version. Use pandas.concat instead.\n",
      "  output_dataframe=output_dataframe.append(pd.DataFrame(list0,columns=['Actual','Predicted']),ignore_index=True)\n",
      "C:\\Users\\chaud\\AppData\\Local\\Temp\\ipykernel_75800\\2205925660.py:27: FutureWarning: The frame.append method is deprecated and will be removed from pandas in a future version. Use pandas.concat instead.\n",
      "  output_dataframe=output_dataframe.append(pd.DataFrame(list0,columns=['Actual','Predicted']),ignore_index=True)\n",
      "C:\\Users\\chaud\\AppData\\Local\\Temp\\ipykernel_75800\\2205925660.py:27: FutureWarning: The frame.append method is deprecated and will be removed from pandas in a future version. Use pandas.concat instead.\n",
      "  output_dataframe=output_dataframe.append(pd.DataFrame(list0,columns=['Actual','Predicted']),ignore_index=True)\n",
      "C:\\Users\\chaud\\AppData\\Local\\Temp\\ipykernel_75800\\2205925660.py:27: FutureWarning: The frame.append method is deprecated and will be removed from pandas in a future version. Use pandas.concat instead.\n",
      "  output_dataframe=output_dataframe.append(pd.DataFrame(list0,columns=['Actual','Predicted']),ignore_index=True)\n",
      "C:\\Users\\chaud\\AppData\\Local\\Temp\\ipykernel_75800\\2205925660.py:27: FutureWarning: The frame.append method is deprecated and will be removed from pandas in a future version. Use pandas.concat instead.\n",
      "  output_dataframe=output_dataframe.append(pd.DataFrame(list0,columns=['Actual','Predicted']),ignore_index=True)\n",
      "C:\\Users\\chaud\\AppData\\Local\\Temp\\ipykernel_75800\\2205925660.py:27: FutureWarning: The frame.append method is deprecated and will be removed from pandas in a future version. Use pandas.concat instead.\n",
      "  output_dataframe=output_dataframe.append(pd.DataFrame(list0,columns=['Actual','Predicted']),ignore_index=True)\n",
      "C:\\Users\\chaud\\AppData\\Local\\Temp\\ipykernel_75800\\2205925660.py:27: FutureWarning: The frame.append method is deprecated and will be removed from pandas in a future version. Use pandas.concat instead.\n",
      "  output_dataframe=output_dataframe.append(pd.DataFrame(list0,columns=['Actual','Predicted']),ignore_index=True)\n",
      "C:\\Users\\chaud\\AppData\\Local\\Temp\\ipykernel_75800\\2205925660.py:23: FutureWarning: The frame.append method is deprecated and will be removed from pandas in a future version. Use pandas.concat instead.\n",
      "  output_dataframe=output_dataframe.append(pd.DataFrame(list1,columns=['Actual','Predicted']),ignore_index=True)\n",
      "C:\\Users\\chaud\\AppData\\Local\\Temp\\ipykernel_75800\\2205925660.py:23: FutureWarning: The frame.append method is deprecated and will be removed from pandas in a future version. Use pandas.concat instead.\n",
      "  output_dataframe=output_dataframe.append(pd.DataFrame(list1,columns=['Actual','Predicted']),ignore_index=True)\n",
      "C:\\Users\\chaud\\AppData\\Local\\Temp\\ipykernel_75800\\2205925660.py:23: FutureWarning: The frame.append method is deprecated and will be removed from pandas in a future version. Use pandas.concat instead.\n",
      "  output_dataframe=output_dataframe.append(pd.DataFrame(list1,columns=['Actual','Predicted']),ignore_index=True)\n",
      "C:\\Users\\chaud\\AppData\\Local\\Temp\\ipykernel_75800\\2205925660.py:27: FutureWarning: The frame.append method is deprecated and will be removed from pandas in a future version. Use pandas.concat instead.\n",
      "  output_dataframe=output_dataframe.append(pd.DataFrame(list0,columns=['Actual','Predicted']),ignore_index=True)\n",
      "C:\\Users\\chaud\\AppData\\Local\\Temp\\ipykernel_75800\\2205925660.py:27: FutureWarning: The frame.append method is deprecated and will be removed from pandas in a future version. Use pandas.concat instead.\n",
      "  output_dataframe=output_dataframe.append(pd.DataFrame(list0,columns=['Actual','Predicted']),ignore_index=True)\n",
      "C:\\Users\\chaud\\AppData\\Local\\Temp\\ipykernel_75800\\2205925660.py:27: FutureWarning: The frame.append method is deprecated and will be removed from pandas in a future version. Use pandas.concat instead.\n",
      "  output_dataframe=output_dataframe.append(pd.DataFrame(list0,columns=['Actual','Predicted']),ignore_index=True)\n",
      "C:\\Users\\chaud\\AppData\\Local\\Temp\\ipykernel_75800\\2205925660.py:27: FutureWarning: The frame.append method is deprecated and will be removed from pandas in a future version. Use pandas.concat instead.\n",
      "  output_dataframe=output_dataframe.append(pd.DataFrame(list0,columns=['Actual','Predicted']),ignore_index=True)\n",
      "C:\\Users\\chaud\\AppData\\Local\\Temp\\ipykernel_75800\\2205925660.py:27: FutureWarning: The frame.append method is deprecated and will be removed from pandas in a future version. Use pandas.concat instead.\n",
      "  output_dataframe=output_dataframe.append(pd.DataFrame(list0,columns=['Actual','Predicted']),ignore_index=True)\n",
      "C:\\Users\\chaud\\AppData\\Local\\Temp\\ipykernel_75800\\2205925660.py:27: FutureWarning: The frame.append method is deprecated and will be removed from pandas in a future version. Use pandas.concat instead.\n",
      "  output_dataframe=output_dataframe.append(pd.DataFrame(list0,columns=['Actual','Predicted']),ignore_index=True)\n",
      "C:\\Users\\chaud\\AppData\\Local\\Temp\\ipykernel_75800\\2205925660.py:27: FutureWarning: The frame.append method is deprecated and will be removed from pandas in a future version. Use pandas.concat instead.\n",
      "  output_dataframe=output_dataframe.append(pd.DataFrame(list0,columns=['Actual','Predicted']),ignore_index=True)\n",
      "C:\\Users\\chaud\\AppData\\Local\\Temp\\ipykernel_75800\\2205925660.py:23: FutureWarning: The frame.append method is deprecated and will be removed from pandas in a future version. Use pandas.concat instead.\n",
      "  output_dataframe=output_dataframe.append(pd.DataFrame(list1,columns=['Actual','Predicted']),ignore_index=True)\n",
      "C:\\Users\\chaud\\AppData\\Local\\Temp\\ipykernel_75800\\2205925660.py:27: FutureWarning: The frame.append method is deprecated and will be removed from pandas in a future version. Use pandas.concat instead.\n",
      "  output_dataframe=output_dataframe.append(pd.DataFrame(list0,columns=['Actual','Predicted']),ignore_index=True)\n",
      "C:\\Users\\chaud\\AppData\\Local\\Temp\\ipykernel_75800\\2205925660.py:27: FutureWarning: The frame.append method is deprecated and will be removed from pandas in a future version. Use pandas.concat instead.\n",
      "  output_dataframe=output_dataframe.append(pd.DataFrame(list0,columns=['Actual','Predicted']),ignore_index=True)\n",
      "C:\\Users\\chaud\\AppData\\Local\\Temp\\ipykernel_75800\\2205925660.py:23: FutureWarning: The frame.append method is deprecated and will be removed from pandas in a future version. Use pandas.concat instead.\n",
      "  output_dataframe=output_dataframe.append(pd.DataFrame(list1,columns=['Actual','Predicted']),ignore_index=True)\n",
      "C:\\Users\\chaud\\AppData\\Local\\Temp\\ipykernel_75800\\2205925660.py:27: FutureWarning: The frame.append method is deprecated and will be removed from pandas in a future version. Use pandas.concat instead.\n",
      "  output_dataframe=output_dataframe.append(pd.DataFrame(list0,columns=['Actual','Predicted']),ignore_index=True)\n",
      "C:\\Users\\chaud\\AppData\\Local\\Temp\\ipykernel_75800\\2205925660.py:27: FutureWarning: The frame.append method is deprecated and will be removed from pandas in a future version. Use pandas.concat instead.\n",
      "  output_dataframe=output_dataframe.append(pd.DataFrame(list0,columns=['Actual','Predicted']),ignore_index=True)\n",
      "C:\\Users\\chaud\\AppData\\Local\\Temp\\ipykernel_75800\\2205925660.py:23: FutureWarning: The frame.append method is deprecated and will be removed from pandas in a future version. Use pandas.concat instead.\n",
      "  output_dataframe=output_dataframe.append(pd.DataFrame(list1,columns=['Actual','Predicted']),ignore_index=True)\n",
      "C:\\Users\\chaud\\AppData\\Local\\Temp\\ipykernel_75800\\2205925660.py:27: FutureWarning: The frame.append method is deprecated and will be removed from pandas in a future version. Use pandas.concat instead.\n",
      "  output_dataframe=output_dataframe.append(pd.DataFrame(list0,columns=['Actual','Predicted']),ignore_index=True)\n",
      "C:\\Users\\chaud\\AppData\\Local\\Temp\\ipykernel_75800\\2205925660.py:27: FutureWarning: The frame.append method is deprecated and will be removed from pandas in a future version. Use pandas.concat instead.\n",
      "  output_dataframe=output_dataframe.append(pd.DataFrame(list0,columns=['Actual','Predicted']),ignore_index=True)\n",
      "C:\\Users\\chaud\\AppData\\Local\\Temp\\ipykernel_75800\\2205925660.py:23: FutureWarning: The frame.append method is deprecated and will be removed from pandas in a future version. Use pandas.concat instead.\n",
      "  output_dataframe=output_dataframe.append(pd.DataFrame(list1,columns=['Actual','Predicted']),ignore_index=True)\n",
      "C:\\Users\\chaud\\AppData\\Local\\Temp\\ipykernel_75800\\2205925660.py:27: FutureWarning: The frame.append method is deprecated and will be removed from pandas in a future version. Use pandas.concat instead.\n",
      "  output_dataframe=output_dataframe.append(pd.DataFrame(list0,columns=['Actual','Predicted']),ignore_index=True)\n",
      "C:\\Users\\chaud\\AppData\\Local\\Temp\\ipykernel_75800\\2205925660.py:23: FutureWarning: The frame.append method is deprecated and will be removed from pandas in a future version. Use pandas.concat instead.\n",
      "  output_dataframe=output_dataframe.append(pd.DataFrame(list1,columns=['Actual','Predicted']),ignore_index=True)\n",
      "C:\\Users\\chaud\\AppData\\Local\\Temp\\ipykernel_75800\\2205925660.py:23: FutureWarning: The frame.append method is deprecated and will be removed from pandas in a future version. Use pandas.concat instead.\n",
      "  output_dataframe=output_dataframe.append(pd.DataFrame(list1,columns=['Actual','Predicted']),ignore_index=True)\n",
      "C:\\Users\\chaud\\AppData\\Local\\Temp\\ipykernel_75800\\2205925660.py:27: FutureWarning: The frame.append method is deprecated and will be removed from pandas in a future version. Use pandas.concat instead.\n",
      "  output_dataframe=output_dataframe.append(pd.DataFrame(list0,columns=['Actual','Predicted']),ignore_index=True)\n",
      "C:\\Users\\chaud\\AppData\\Local\\Temp\\ipykernel_75800\\2205925660.py:27: FutureWarning: The frame.append method is deprecated and will be removed from pandas in a future version. Use pandas.concat instead.\n",
      "  output_dataframe=output_dataframe.append(pd.DataFrame(list0,columns=['Actual','Predicted']),ignore_index=True)\n"
     ]
    },
    {
     "name": "stderr",
     "output_type": "stream",
     "text": [
      "C:\\Users\\chaud\\AppData\\Local\\Temp\\ipykernel_75800\\2205925660.py:23: FutureWarning: The frame.append method is deprecated and will be removed from pandas in a future version. Use pandas.concat instead.\n",
      "  output_dataframe=output_dataframe.append(pd.DataFrame(list1,columns=['Actual','Predicted']),ignore_index=True)\n",
      "C:\\Users\\chaud\\AppData\\Local\\Temp\\ipykernel_75800\\2205925660.py:23: FutureWarning: The frame.append method is deprecated and will be removed from pandas in a future version. Use pandas.concat instead.\n",
      "  output_dataframe=output_dataframe.append(pd.DataFrame(list1,columns=['Actual','Predicted']),ignore_index=True)\n",
      "C:\\Users\\chaud\\AppData\\Local\\Temp\\ipykernel_75800\\2205925660.py:27: FutureWarning: The frame.append method is deprecated and will be removed from pandas in a future version. Use pandas.concat instead.\n",
      "  output_dataframe=output_dataframe.append(pd.DataFrame(list0,columns=['Actual','Predicted']),ignore_index=True)\n",
      "C:\\Users\\chaud\\AppData\\Local\\Temp\\ipykernel_75800\\2205925660.py:23: FutureWarning: The frame.append method is deprecated and will be removed from pandas in a future version. Use pandas.concat instead.\n",
      "  output_dataframe=output_dataframe.append(pd.DataFrame(list1,columns=['Actual','Predicted']),ignore_index=True)\n",
      "C:\\Users\\chaud\\AppData\\Local\\Temp\\ipykernel_75800\\2205925660.py:27: FutureWarning: The frame.append method is deprecated and will be removed from pandas in a future version. Use pandas.concat instead.\n",
      "  output_dataframe=output_dataframe.append(pd.DataFrame(list0,columns=['Actual','Predicted']),ignore_index=True)\n",
      "C:\\Users\\chaud\\AppData\\Local\\Temp\\ipykernel_75800\\2205925660.py:27: FutureWarning: The frame.append method is deprecated and will be removed from pandas in a future version. Use pandas.concat instead.\n",
      "  output_dataframe=output_dataframe.append(pd.DataFrame(list0,columns=['Actual','Predicted']),ignore_index=True)\n",
      "C:\\Users\\chaud\\AppData\\Local\\Temp\\ipykernel_75800\\2205925660.py:27: FutureWarning: The frame.append method is deprecated and will be removed from pandas in a future version. Use pandas.concat instead.\n",
      "  output_dataframe=output_dataframe.append(pd.DataFrame(list0,columns=['Actual','Predicted']),ignore_index=True)\n",
      "C:\\Users\\chaud\\AppData\\Local\\Temp\\ipykernel_75800\\2205925660.py:27: FutureWarning: The frame.append method is deprecated and will be removed from pandas in a future version. Use pandas.concat instead.\n",
      "  output_dataframe=output_dataframe.append(pd.DataFrame(list0,columns=['Actual','Predicted']),ignore_index=True)\n",
      "C:\\Users\\chaud\\AppData\\Local\\Temp\\ipykernel_75800\\2205925660.py:27: FutureWarning: The frame.append method is deprecated and will be removed from pandas in a future version. Use pandas.concat instead.\n",
      "  output_dataframe=output_dataframe.append(pd.DataFrame(list0,columns=['Actual','Predicted']),ignore_index=True)\n",
      "C:\\Users\\chaud\\AppData\\Local\\Temp\\ipykernel_75800\\2205925660.py:27: FutureWarning: The frame.append method is deprecated and will be removed from pandas in a future version. Use pandas.concat instead.\n",
      "  output_dataframe=output_dataframe.append(pd.DataFrame(list0,columns=['Actual','Predicted']),ignore_index=True)\n",
      "C:\\Users\\chaud\\AppData\\Local\\Temp\\ipykernel_75800\\2205925660.py:23: FutureWarning: The frame.append method is deprecated and will be removed from pandas in a future version. Use pandas.concat instead.\n",
      "  output_dataframe=output_dataframe.append(pd.DataFrame(list1,columns=['Actual','Predicted']),ignore_index=True)\n",
      "C:\\Users\\chaud\\AppData\\Local\\Temp\\ipykernel_75800\\2205925660.py:23: FutureWarning: The frame.append method is deprecated and will be removed from pandas in a future version. Use pandas.concat instead.\n",
      "  output_dataframe=output_dataframe.append(pd.DataFrame(list1,columns=['Actual','Predicted']),ignore_index=True)\n",
      "C:\\Users\\chaud\\AppData\\Local\\Temp\\ipykernel_75800\\2205925660.py:23: FutureWarning: The frame.append method is deprecated and will be removed from pandas in a future version. Use pandas.concat instead.\n",
      "  output_dataframe=output_dataframe.append(pd.DataFrame(list1,columns=['Actual','Predicted']),ignore_index=True)\n",
      "C:\\Users\\chaud\\AppData\\Local\\Temp\\ipykernel_75800\\2205925660.py:23: FutureWarning: The frame.append method is deprecated and will be removed from pandas in a future version. Use pandas.concat instead.\n",
      "  output_dataframe=output_dataframe.append(pd.DataFrame(list1,columns=['Actual','Predicted']),ignore_index=True)\n",
      "C:\\Users\\chaud\\AppData\\Local\\Temp\\ipykernel_75800\\2205925660.py:23: FutureWarning: The frame.append method is deprecated and will be removed from pandas in a future version. Use pandas.concat instead.\n",
      "  output_dataframe=output_dataframe.append(pd.DataFrame(list1,columns=['Actual','Predicted']),ignore_index=True)\n",
      "C:\\Users\\chaud\\AppData\\Local\\Temp\\ipykernel_75800\\2205925660.py:27: FutureWarning: The frame.append method is deprecated and will be removed from pandas in a future version. Use pandas.concat instead.\n",
      "  output_dataframe=output_dataframe.append(pd.DataFrame(list0,columns=['Actual','Predicted']),ignore_index=True)\n",
      "C:\\Users\\chaud\\AppData\\Local\\Temp\\ipykernel_75800\\2205925660.py:23: FutureWarning: The frame.append method is deprecated and will be removed from pandas in a future version. Use pandas.concat instead.\n",
      "  output_dataframe=output_dataframe.append(pd.DataFrame(list1,columns=['Actual','Predicted']),ignore_index=True)\n",
      "C:\\Users\\chaud\\AppData\\Local\\Temp\\ipykernel_75800\\2205925660.py:23: FutureWarning: The frame.append method is deprecated and will be removed from pandas in a future version. Use pandas.concat instead.\n",
      "  output_dataframe=output_dataframe.append(pd.DataFrame(list1,columns=['Actual','Predicted']),ignore_index=True)\n",
      "C:\\Users\\chaud\\AppData\\Local\\Temp\\ipykernel_75800\\2205925660.py:27: FutureWarning: The frame.append method is deprecated and will be removed from pandas in a future version. Use pandas.concat instead.\n",
      "  output_dataframe=output_dataframe.append(pd.DataFrame(list0,columns=['Actual','Predicted']),ignore_index=True)\n",
      "C:\\Users\\chaud\\AppData\\Local\\Temp\\ipykernel_75800\\2205925660.py:23: FutureWarning: The frame.append method is deprecated and will be removed from pandas in a future version. Use pandas.concat instead.\n",
      "  output_dataframe=output_dataframe.append(pd.DataFrame(list1,columns=['Actual','Predicted']),ignore_index=True)\n",
      "C:\\Users\\chaud\\AppData\\Local\\Temp\\ipykernel_75800\\2205925660.py:27: FutureWarning: The frame.append method is deprecated and will be removed from pandas in a future version. Use pandas.concat instead.\n",
      "  output_dataframe=output_dataframe.append(pd.DataFrame(list0,columns=['Actual','Predicted']),ignore_index=True)\n",
      "C:\\Users\\chaud\\AppData\\Local\\Temp\\ipykernel_75800\\2205925660.py:23: FutureWarning: The frame.append method is deprecated and will be removed from pandas in a future version. Use pandas.concat instead.\n",
      "  output_dataframe=output_dataframe.append(pd.DataFrame(list1,columns=['Actual','Predicted']),ignore_index=True)\n",
      "C:\\Users\\chaud\\AppData\\Local\\Temp\\ipykernel_75800\\2205925660.py:27: FutureWarning: The frame.append method is deprecated and will be removed from pandas in a future version. Use pandas.concat instead.\n",
      "  output_dataframe=output_dataframe.append(pd.DataFrame(list0,columns=['Actual','Predicted']),ignore_index=True)\n",
      "C:\\Users\\chaud\\AppData\\Local\\Temp\\ipykernel_75800\\2205925660.py:23: FutureWarning: The frame.append method is deprecated and will be removed from pandas in a future version. Use pandas.concat instead.\n",
      "  output_dataframe=output_dataframe.append(pd.DataFrame(list1,columns=['Actual','Predicted']),ignore_index=True)\n",
      "C:\\Users\\chaud\\AppData\\Local\\Temp\\ipykernel_75800\\2205925660.py:27: FutureWarning: The frame.append method is deprecated and will be removed from pandas in a future version. Use pandas.concat instead.\n",
      "  output_dataframe=output_dataframe.append(pd.DataFrame(list0,columns=['Actual','Predicted']),ignore_index=True)\n",
      "C:\\Users\\chaud\\AppData\\Local\\Temp\\ipykernel_75800\\2205925660.py:27: FutureWarning: The frame.append method is deprecated and will be removed from pandas in a future version. Use pandas.concat instead.\n",
      "  output_dataframe=output_dataframe.append(pd.DataFrame(list0,columns=['Actual','Predicted']),ignore_index=True)\n",
      "C:\\Users\\chaud\\AppData\\Local\\Temp\\ipykernel_75800\\2205925660.py:27: FutureWarning: The frame.append method is deprecated and will be removed from pandas in a future version. Use pandas.concat instead.\n",
      "  output_dataframe=output_dataframe.append(pd.DataFrame(list0,columns=['Actual','Predicted']),ignore_index=True)\n",
      "C:\\Users\\chaud\\AppData\\Local\\Temp\\ipykernel_75800\\2205925660.py:27: FutureWarning: The frame.append method is deprecated and will be removed from pandas in a future version. Use pandas.concat instead.\n",
      "  output_dataframe=output_dataframe.append(pd.DataFrame(list0,columns=['Actual','Predicted']),ignore_index=True)\n",
      "C:\\Users\\chaud\\AppData\\Local\\Temp\\ipykernel_75800\\2205925660.py:27: FutureWarning: The frame.append method is deprecated and will be removed from pandas in a future version. Use pandas.concat instead.\n",
      "  output_dataframe=output_dataframe.append(pd.DataFrame(list0,columns=['Actual','Predicted']),ignore_index=True)\n",
      "C:\\Users\\chaud\\AppData\\Local\\Temp\\ipykernel_75800\\2205925660.py:23: FutureWarning: The frame.append method is deprecated and will be removed from pandas in a future version. Use pandas.concat instead.\n",
      "  output_dataframe=output_dataframe.append(pd.DataFrame(list1,columns=['Actual','Predicted']),ignore_index=True)\n",
      "C:\\Users\\chaud\\AppData\\Local\\Temp\\ipykernel_75800\\2205925660.py:27: FutureWarning: The frame.append method is deprecated and will be removed from pandas in a future version. Use pandas.concat instead.\n",
      "  output_dataframe=output_dataframe.append(pd.DataFrame(list0,columns=['Actual','Predicted']),ignore_index=True)\n",
      "C:\\Users\\chaud\\AppData\\Local\\Temp\\ipykernel_75800\\2205925660.py:23: FutureWarning: The frame.append method is deprecated and will be removed from pandas in a future version. Use pandas.concat instead.\n",
      "  output_dataframe=output_dataframe.append(pd.DataFrame(list1,columns=['Actual','Predicted']),ignore_index=True)\n",
      "C:\\Users\\chaud\\AppData\\Local\\Temp\\ipykernel_75800\\2205925660.py:27: FutureWarning: The frame.append method is deprecated and will be removed from pandas in a future version. Use pandas.concat instead.\n",
      "  output_dataframe=output_dataframe.append(pd.DataFrame(list0,columns=['Actual','Predicted']),ignore_index=True)\n",
      "C:\\Users\\chaud\\AppData\\Local\\Temp\\ipykernel_75800\\2205925660.py:27: FutureWarning: The frame.append method is deprecated and will be removed from pandas in a future version. Use pandas.concat instead.\n",
      "  output_dataframe=output_dataframe.append(pd.DataFrame(list0,columns=['Actual','Predicted']),ignore_index=True)\n",
      "C:\\Users\\chaud\\AppData\\Local\\Temp\\ipykernel_75800\\2205925660.py:27: FutureWarning: The frame.append method is deprecated and will be removed from pandas in a future version. Use pandas.concat instead.\n",
      "  output_dataframe=output_dataframe.append(pd.DataFrame(list0,columns=['Actual','Predicted']),ignore_index=True)\n",
      "C:\\Users\\chaud\\AppData\\Local\\Temp\\ipykernel_75800\\2205925660.py:23: FutureWarning: The frame.append method is deprecated and will be removed from pandas in a future version. Use pandas.concat instead.\n",
      "  output_dataframe=output_dataframe.append(pd.DataFrame(list1,columns=['Actual','Predicted']),ignore_index=True)\n",
      "C:\\Users\\chaud\\AppData\\Local\\Temp\\ipykernel_75800\\2205925660.py:27: FutureWarning: The frame.append method is deprecated and will be removed from pandas in a future version. Use pandas.concat instead.\n",
      "  output_dataframe=output_dataframe.append(pd.DataFrame(list0,columns=['Actual','Predicted']),ignore_index=True)\n"
     ]
    },
    {
     "name": "stderr",
     "output_type": "stream",
     "text": [
      "C:\\Users\\chaud\\AppData\\Local\\Temp\\ipykernel_75800\\2205925660.py:23: FutureWarning: The frame.append method is deprecated and will be removed from pandas in a future version. Use pandas.concat instead.\n",
      "  output_dataframe=output_dataframe.append(pd.DataFrame(list1,columns=['Actual','Predicted']),ignore_index=True)\n",
      "C:\\Users\\chaud\\AppData\\Local\\Temp\\ipykernel_75800\\2205925660.py:23: FutureWarning: The frame.append method is deprecated and will be removed from pandas in a future version. Use pandas.concat instead.\n",
      "  output_dataframe=output_dataframe.append(pd.DataFrame(list1,columns=['Actual','Predicted']),ignore_index=True)\n",
      "C:\\Users\\chaud\\AppData\\Local\\Temp\\ipykernel_75800\\2205925660.py:27: FutureWarning: The frame.append method is deprecated and will be removed from pandas in a future version. Use pandas.concat instead.\n",
      "  output_dataframe=output_dataframe.append(pd.DataFrame(list0,columns=['Actual','Predicted']),ignore_index=True)\n",
      "C:\\Users\\chaud\\AppData\\Local\\Temp\\ipykernel_75800\\2205925660.py:23: FutureWarning: The frame.append method is deprecated and will be removed from pandas in a future version. Use pandas.concat instead.\n",
      "  output_dataframe=output_dataframe.append(pd.DataFrame(list1,columns=['Actual','Predicted']),ignore_index=True)\n",
      "C:\\Users\\chaud\\AppData\\Local\\Temp\\ipykernel_75800\\2205925660.py:27: FutureWarning: The frame.append method is deprecated and will be removed from pandas in a future version. Use pandas.concat instead.\n",
      "  output_dataframe=output_dataframe.append(pd.DataFrame(list0,columns=['Actual','Predicted']),ignore_index=True)\n",
      "C:\\Users\\chaud\\AppData\\Local\\Temp\\ipykernel_75800\\2205925660.py:27: FutureWarning: The frame.append method is deprecated and will be removed from pandas in a future version. Use pandas.concat instead.\n",
      "  output_dataframe=output_dataframe.append(pd.DataFrame(list0,columns=['Actual','Predicted']),ignore_index=True)\n",
      "C:\\Users\\chaud\\AppData\\Local\\Temp\\ipykernel_75800\\2205925660.py:23: FutureWarning: The frame.append method is deprecated and will be removed from pandas in a future version. Use pandas.concat instead.\n",
      "  output_dataframe=output_dataframe.append(pd.DataFrame(list1,columns=['Actual','Predicted']),ignore_index=True)\n",
      "C:\\Users\\chaud\\AppData\\Local\\Temp\\ipykernel_75800\\2205925660.py:27: FutureWarning: The frame.append method is deprecated and will be removed from pandas in a future version. Use pandas.concat instead.\n",
      "  output_dataframe=output_dataframe.append(pd.DataFrame(list0,columns=['Actual','Predicted']),ignore_index=True)\n",
      "C:\\Users\\chaud\\AppData\\Local\\Temp\\ipykernel_75800\\2205925660.py:27: FutureWarning: The frame.append method is deprecated and will be removed from pandas in a future version. Use pandas.concat instead.\n",
      "  output_dataframe=output_dataframe.append(pd.DataFrame(list0,columns=['Actual','Predicted']),ignore_index=True)\n",
      "C:\\Users\\chaud\\AppData\\Local\\Temp\\ipykernel_75800\\2205925660.py:27: FutureWarning: The frame.append method is deprecated and will be removed from pandas in a future version. Use pandas.concat instead.\n",
      "  output_dataframe=output_dataframe.append(pd.DataFrame(list0,columns=['Actual','Predicted']),ignore_index=True)\n",
      "C:\\Users\\chaud\\AppData\\Local\\Temp\\ipykernel_75800\\2205925660.py:27: FutureWarning: The frame.append method is deprecated and will be removed from pandas in a future version. Use pandas.concat instead.\n",
      "  output_dataframe=output_dataframe.append(pd.DataFrame(list0,columns=['Actual','Predicted']),ignore_index=True)\n",
      "C:\\Users\\chaud\\AppData\\Local\\Temp\\ipykernel_75800\\2205925660.py:23: FutureWarning: The frame.append method is deprecated and will be removed from pandas in a future version. Use pandas.concat instead.\n",
      "  output_dataframe=output_dataframe.append(pd.DataFrame(list1,columns=['Actual','Predicted']),ignore_index=True)\n",
      "C:\\Users\\chaud\\AppData\\Local\\Temp\\ipykernel_75800\\2205925660.py:23: FutureWarning: The frame.append method is deprecated and will be removed from pandas in a future version. Use pandas.concat instead.\n",
      "  output_dataframe=output_dataframe.append(pd.DataFrame(list1,columns=['Actual','Predicted']),ignore_index=True)\n",
      "C:\\Users\\chaud\\AppData\\Local\\Temp\\ipykernel_75800\\2205925660.py:27: FutureWarning: The frame.append method is deprecated and will be removed from pandas in a future version. Use pandas.concat instead.\n",
      "  output_dataframe=output_dataframe.append(pd.DataFrame(list0,columns=['Actual','Predicted']),ignore_index=True)\n",
      "C:\\Users\\chaud\\AppData\\Local\\Temp\\ipykernel_75800\\2205925660.py:27: FutureWarning: The frame.append method is deprecated and will be removed from pandas in a future version. Use pandas.concat instead.\n",
      "  output_dataframe=output_dataframe.append(pd.DataFrame(list0,columns=['Actual','Predicted']),ignore_index=True)\n",
      "C:\\Users\\chaud\\AppData\\Local\\Temp\\ipykernel_75800\\2205925660.py:23: FutureWarning: The frame.append method is deprecated and will be removed from pandas in a future version. Use pandas.concat instead.\n",
      "  output_dataframe=output_dataframe.append(pd.DataFrame(list1,columns=['Actual','Predicted']),ignore_index=True)\n",
      "C:\\Users\\chaud\\AppData\\Local\\Temp\\ipykernel_75800\\2205925660.py:23: FutureWarning: The frame.append method is deprecated and will be removed from pandas in a future version. Use pandas.concat instead.\n",
      "  output_dataframe=output_dataframe.append(pd.DataFrame(list1,columns=['Actual','Predicted']),ignore_index=True)\n",
      "C:\\Users\\chaud\\AppData\\Local\\Temp\\ipykernel_75800\\2205925660.py:27: FutureWarning: The frame.append method is deprecated and will be removed from pandas in a future version. Use pandas.concat instead.\n",
      "  output_dataframe=output_dataframe.append(pd.DataFrame(list0,columns=['Actual','Predicted']),ignore_index=True)\n",
      "C:\\Users\\chaud\\AppData\\Local\\Temp\\ipykernel_75800\\2205925660.py:23: FutureWarning: The frame.append method is deprecated and will be removed from pandas in a future version. Use pandas.concat instead.\n",
      "  output_dataframe=output_dataframe.append(pd.DataFrame(list1,columns=['Actual','Predicted']),ignore_index=True)\n",
      "C:\\Users\\chaud\\AppData\\Local\\Temp\\ipykernel_75800\\2205925660.py:27: FutureWarning: The frame.append method is deprecated and will be removed from pandas in a future version. Use pandas.concat instead.\n",
      "  output_dataframe=output_dataframe.append(pd.DataFrame(list0,columns=['Actual','Predicted']),ignore_index=True)\n",
      "C:\\Users\\chaud\\AppData\\Local\\Temp\\ipykernel_75800\\2205925660.py:23: FutureWarning: The frame.append method is deprecated and will be removed from pandas in a future version. Use pandas.concat instead.\n",
      "  output_dataframe=output_dataframe.append(pd.DataFrame(list1,columns=['Actual','Predicted']),ignore_index=True)\n",
      "C:\\Users\\chaud\\AppData\\Local\\Temp\\ipykernel_75800\\2205925660.py:27: FutureWarning: The frame.append method is deprecated and will be removed from pandas in a future version. Use pandas.concat instead.\n",
      "  output_dataframe=output_dataframe.append(pd.DataFrame(list0,columns=['Actual','Predicted']),ignore_index=True)\n",
      "C:\\Users\\chaud\\AppData\\Local\\Temp\\ipykernel_75800\\2205925660.py:23: FutureWarning: The frame.append method is deprecated and will be removed from pandas in a future version. Use pandas.concat instead.\n",
      "  output_dataframe=output_dataframe.append(pd.DataFrame(list1,columns=['Actual','Predicted']),ignore_index=True)\n",
      "C:\\Users\\chaud\\AppData\\Local\\Temp\\ipykernel_75800\\2205925660.py:23: FutureWarning: The frame.append method is deprecated and will be removed from pandas in a future version. Use pandas.concat instead.\n",
      "  output_dataframe=output_dataframe.append(pd.DataFrame(list1,columns=['Actual','Predicted']),ignore_index=True)\n",
      "C:\\Users\\chaud\\AppData\\Local\\Temp\\ipykernel_75800\\2205925660.py:27: FutureWarning: The frame.append method is deprecated and will be removed from pandas in a future version. Use pandas.concat instead.\n",
      "  output_dataframe=output_dataframe.append(pd.DataFrame(list0,columns=['Actual','Predicted']),ignore_index=True)\n",
      "C:\\Users\\chaud\\AppData\\Local\\Temp\\ipykernel_75800\\2205925660.py:27: FutureWarning: The frame.append method is deprecated and will be removed from pandas in a future version. Use pandas.concat instead.\n",
      "  output_dataframe=output_dataframe.append(pd.DataFrame(list0,columns=['Actual','Predicted']),ignore_index=True)\n",
      "C:\\Users\\chaud\\AppData\\Local\\Temp\\ipykernel_75800\\2205925660.py:27: FutureWarning: The frame.append method is deprecated and will be removed from pandas in a future version. Use pandas.concat instead.\n",
      "  output_dataframe=output_dataframe.append(pd.DataFrame(list0,columns=['Actual','Predicted']),ignore_index=True)\n",
      "C:\\Users\\chaud\\AppData\\Local\\Temp\\ipykernel_75800\\2205925660.py:27: FutureWarning: The frame.append method is deprecated and will be removed from pandas in a future version. Use pandas.concat instead.\n",
      "  output_dataframe=output_dataframe.append(pd.DataFrame(list0,columns=['Actual','Predicted']),ignore_index=True)\n",
      "C:\\Users\\chaud\\AppData\\Local\\Temp\\ipykernel_75800\\2205925660.py:27: FutureWarning: The frame.append method is deprecated and will be removed from pandas in a future version. Use pandas.concat instead.\n",
      "  output_dataframe=output_dataframe.append(pd.DataFrame(list0,columns=['Actual','Predicted']),ignore_index=True)\n",
      "C:\\Users\\chaud\\AppData\\Local\\Temp\\ipykernel_75800\\2205925660.py:23: FutureWarning: The frame.append method is deprecated and will be removed from pandas in a future version. Use pandas.concat instead.\n",
      "  output_dataframe=output_dataframe.append(pd.DataFrame(list1,columns=['Actual','Predicted']),ignore_index=True)\n",
      "C:\\Users\\chaud\\AppData\\Local\\Temp\\ipykernel_75800\\2205925660.py:27: FutureWarning: The frame.append method is deprecated and will be removed from pandas in a future version. Use pandas.concat instead.\n",
      "  output_dataframe=output_dataframe.append(pd.DataFrame(list0,columns=['Actual','Predicted']),ignore_index=True)\n",
      "C:\\Users\\chaud\\AppData\\Local\\Temp\\ipykernel_75800\\2205925660.py:27: FutureWarning: The frame.append method is deprecated and will be removed from pandas in a future version. Use pandas.concat instead.\n",
      "  output_dataframe=output_dataframe.append(pd.DataFrame(list0,columns=['Actual','Predicted']),ignore_index=True)\n",
      "C:\\Users\\chaud\\AppData\\Local\\Temp\\ipykernel_75800\\2205925660.py:23: FutureWarning: The frame.append method is deprecated and will be removed from pandas in a future version. Use pandas.concat instead.\n",
      "  output_dataframe=output_dataframe.append(pd.DataFrame(list1,columns=['Actual','Predicted']),ignore_index=True)\n",
      "C:\\Users\\chaud\\AppData\\Local\\Temp\\ipykernel_75800\\2205925660.py:27: FutureWarning: The frame.append method is deprecated and will be removed from pandas in a future version. Use pandas.concat instead.\n",
      "  output_dataframe=output_dataframe.append(pd.DataFrame(list0,columns=['Actual','Predicted']),ignore_index=True)\n",
      "C:\\Users\\chaud\\AppData\\Local\\Temp\\ipykernel_75800\\2205925660.py:23: FutureWarning: The frame.append method is deprecated and will be removed from pandas in a future version. Use pandas.concat instead.\n",
      "  output_dataframe=output_dataframe.append(pd.DataFrame(list1,columns=['Actual','Predicted']),ignore_index=True)\n",
      "C:\\Users\\chaud\\AppData\\Local\\Temp\\ipykernel_75800\\2205925660.py:27: FutureWarning: The frame.append method is deprecated and will be removed from pandas in a future version. Use pandas.concat instead.\n",
      "  output_dataframe=output_dataframe.append(pd.DataFrame(list0,columns=['Actual','Predicted']),ignore_index=True)\n",
      "C:\\Users\\chaud\\AppData\\Local\\Temp\\ipykernel_75800\\2205925660.py:23: FutureWarning: The frame.append method is deprecated and will be removed from pandas in a future version. Use pandas.concat instead.\n",
      "  output_dataframe=output_dataframe.append(pd.DataFrame(list1,columns=['Actual','Predicted']),ignore_index=True)\n",
      "C:\\Users\\chaud\\AppData\\Local\\Temp\\ipykernel_75800\\2205925660.py:23: FutureWarning: The frame.append method is deprecated and will be removed from pandas in a future version. Use pandas.concat instead.\n",
      "  output_dataframe=output_dataframe.append(pd.DataFrame(list1,columns=['Actual','Predicted']),ignore_index=True)\n",
      "C:\\Users\\chaud\\AppData\\Local\\Temp\\ipykernel_75800\\2205925660.py:23: FutureWarning: The frame.append method is deprecated and will be removed from pandas in a future version. Use pandas.concat instead.\n",
      "  output_dataframe=output_dataframe.append(pd.DataFrame(list1,columns=['Actual','Predicted']),ignore_index=True)\n"
     ]
    },
    {
     "name": "stderr",
     "output_type": "stream",
     "text": [
      "C:\\Users\\chaud\\AppData\\Local\\Temp\\ipykernel_75800\\2205925660.py:23: FutureWarning: The frame.append method is deprecated and will be removed from pandas in a future version. Use pandas.concat instead.\n",
      "  output_dataframe=output_dataframe.append(pd.DataFrame(list1,columns=['Actual','Predicted']),ignore_index=True)\n",
      "C:\\Users\\chaud\\AppData\\Local\\Temp\\ipykernel_75800\\2205925660.py:23: FutureWarning: The frame.append method is deprecated and will be removed from pandas in a future version. Use pandas.concat instead.\n",
      "  output_dataframe=output_dataframe.append(pd.DataFrame(list1,columns=['Actual','Predicted']),ignore_index=True)\n",
      "C:\\Users\\chaud\\AppData\\Local\\Temp\\ipykernel_75800\\2205925660.py:27: FutureWarning: The frame.append method is deprecated and will be removed from pandas in a future version. Use pandas.concat instead.\n",
      "  output_dataframe=output_dataframe.append(pd.DataFrame(list0,columns=['Actual','Predicted']),ignore_index=True)\n",
      "C:\\Users\\chaud\\AppData\\Local\\Temp\\ipykernel_75800\\2205925660.py:27: FutureWarning: The frame.append method is deprecated and will be removed from pandas in a future version. Use pandas.concat instead.\n",
      "  output_dataframe=output_dataframe.append(pd.DataFrame(list0,columns=['Actual','Predicted']),ignore_index=True)\n",
      "C:\\Users\\chaud\\AppData\\Local\\Temp\\ipykernel_75800\\2205925660.py:27: FutureWarning: The frame.append method is deprecated and will be removed from pandas in a future version. Use pandas.concat instead.\n",
      "  output_dataframe=output_dataframe.append(pd.DataFrame(list0,columns=['Actual','Predicted']),ignore_index=True)\n",
      "C:\\Users\\chaud\\AppData\\Local\\Temp\\ipykernel_75800\\2205925660.py:23: FutureWarning: The frame.append method is deprecated and will be removed from pandas in a future version. Use pandas.concat instead.\n",
      "  output_dataframe=output_dataframe.append(pd.DataFrame(list1,columns=['Actual','Predicted']),ignore_index=True)\n",
      "C:\\Users\\chaud\\AppData\\Local\\Temp\\ipykernel_75800\\2205925660.py:27: FutureWarning: The frame.append method is deprecated and will be removed from pandas in a future version. Use pandas.concat instead.\n",
      "  output_dataframe=output_dataframe.append(pd.DataFrame(list0,columns=['Actual','Predicted']),ignore_index=True)\n",
      "C:\\Users\\chaud\\AppData\\Local\\Temp\\ipykernel_75800\\2205925660.py:23: FutureWarning: The frame.append method is deprecated and will be removed from pandas in a future version. Use pandas.concat instead.\n",
      "  output_dataframe=output_dataframe.append(pd.DataFrame(list1,columns=['Actual','Predicted']),ignore_index=True)\n",
      "C:\\Users\\chaud\\AppData\\Local\\Temp\\ipykernel_75800\\2205925660.py:23: FutureWarning: The frame.append method is deprecated and will be removed from pandas in a future version. Use pandas.concat instead.\n",
      "  output_dataframe=output_dataframe.append(pd.DataFrame(list1,columns=['Actual','Predicted']),ignore_index=True)\n",
      "C:\\Users\\chaud\\AppData\\Local\\Temp\\ipykernel_75800\\2205925660.py:23: FutureWarning: The frame.append method is deprecated and will be removed from pandas in a future version. Use pandas.concat instead.\n",
      "  output_dataframe=output_dataframe.append(pd.DataFrame(list1,columns=['Actual','Predicted']),ignore_index=True)\n",
      "C:\\Users\\chaud\\AppData\\Local\\Temp\\ipykernel_75800\\2205925660.py:27: FutureWarning: The frame.append method is deprecated and will be removed from pandas in a future version. Use pandas.concat instead.\n",
      "  output_dataframe=output_dataframe.append(pd.DataFrame(list0,columns=['Actual','Predicted']),ignore_index=True)\n",
      "C:\\Users\\chaud\\AppData\\Local\\Temp\\ipykernel_75800\\2205925660.py:23: FutureWarning: The frame.append method is deprecated and will be removed from pandas in a future version. Use pandas.concat instead.\n",
      "  output_dataframe=output_dataframe.append(pd.DataFrame(list1,columns=['Actual','Predicted']),ignore_index=True)\n",
      "C:\\Users\\chaud\\AppData\\Local\\Temp\\ipykernel_75800\\2205925660.py:27: FutureWarning: The frame.append method is deprecated and will be removed from pandas in a future version. Use pandas.concat instead.\n",
      "  output_dataframe=output_dataframe.append(pd.DataFrame(list0,columns=['Actual','Predicted']),ignore_index=True)\n",
      "C:\\Users\\chaud\\AppData\\Local\\Temp\\ipykernel_75800\\2205925660.py:27: FutureWarning: The frame.append method is deprecated and will be removed from pandas in a future version. Use pandas.concat instead.\n",
      "  output_dataframe=output_dataframe.append(pd.DataFrame(list0,columns=['Actual','Predicted']),ignore_index=True)\n",
      "C:\\Users\\chaud\\AppData\\Local\\Temp\\ipykernel_75800\\2205925660.py:27: FutureWarning: The frame.append method is deprecated and will be removed from pandas in a future version. Use pandas.concat instead.\n",
      "  output_dataframe=output_dataframe.append(pd.DataFrame(list0,columns=['Actual','Predicted']),ignore_index=True)\n",
      "C:\\Users\\chaud\\AppData\\Local\\Temp\\ipykernel_75800\\2205925660.py:27: FutureWarning: The frame.append method is deprecated and will be removed from pandas in a future version. Use pandas.concat instead.\n",
      "  output_dataframe=output_dataframe.append(pd.DataFrame(list0,columns=['Actual','Predicted']),ignore_index=True)\n",
      "C:\\Users\\chaud\\AppData\\Local\\Temp\\ipykernel_75800\\2205925660.py:27: FutureWarning: The frame.append method is deprecated and will be removed from pandas in a future version. Use pandas.concat instead.\n",
      "  output_dataframe=output_dataframe.append(pd.DataFrame(list0,columns=['Actual','Predicted']),ignore_index=True)\n",
      "C:\\Users\\chaud\\AppData\\Local\\Temp\\ipykernel_75800\\2205925660.py:23: FutureWarning: The frame.append method is deprecated and will be removed from pandas in a future version. Use pandas.concat instead.\n",
      "  output_dataframe=output_dataframe.append(pd.DataFrame(list1,columns=['Actual','Predicted']),ignore_index=True)\n",
      "C:\\Users\\chaud\\AppData\\Local\\Temp\\ipykernel_75800\\2205925660.py:27: FutureWarning: The frame.append method is deprecated and will be removed from pandas in a future version. Use pandas.concat instead.\n",
      "  output_dataframe=output_dataframe.append(pd.DataFrame(list0,columns=['Actual','Predicted']),ignore_index=True)\n",
      "C:\\Users\\chaud\\AppData\\Local\\Temp\\ipykernel_75800\\2205925660.py:27: FutureWarning: The frame.append method is deprecated and will be removed from pandas in a future version. Use pandas.concat instead.\n",
      "  output_dataframe=output_dataframe.append(pd.DataFrame(list0,columns=['Actual','Predicted']),ignore_index=True)\n",
      "C:\\Users\\chaud\\AppData\\Local\\Temp\\ipykernel_75800\\2205925660.py:27: FutureWarning: The frame.append method is deprecated and will be removed from pandas in a future version. Use pandas.concat instead.\n",
      "  output_dataframe=output_dataframe.append(pd.DataFrame(list0,columns=['Actual','Predicted']),ignore_index=True)\n",
      "C:\\Users\\chaud\\AppData\\Local\\Temp\\ipykernel_75800\\2205925660.py:23: FutureWarning: The frame.append method is deprecated and will be removed from pandas in a future version. Use pandas.concat instead.\n",
      "  output_dataframe=output_dataframe.append(pd.DataFrame(list1,columns=['Actual','Predicted']),ignore_index=True)\n",
      "C:\\Users\\chaud\\AppData\\Local\\Temp\\ipykernel_75800\\2205925660.py:23: FutureWarning: The frame.append method is deprecated and will be removed from pandas in a future version. Use pandas.concat instead.\n",
      "  output_dataframe=output_dataframe.append(pd.DataFrame(list1,columns=['Actual','Predicted']),ignore_index=True)\n",
      "C:\\Users\\chaud\\AppData\\Local\\Temp\\ipykernel_75800\\2205925660.py:27: FutureWarning: The frame.append method is deprecated and will be removed from pandas in a future version. Use pandas.concat instead.\n",
      "  output_dataframe=output_dataframe.append(pd.DataFrame(list0,columns=['Actual','Predicted']),ignore_index=True)\n",
      "C:\\Users\\chaud\\AppData\\Local\\Temp\\ipykernel_75800\\2205925660.py:27: FutureWarning: The frame.append method is deprecated and will be removed from pandas in a future version. Use pandas.concat instead.\n",
      "  output_dataframe=output_dataframe.append(pd.DataFrame(list0,columns=['Actual','Predicted']),ignore_index=True)\n",
      "C:\\Users\\chaud\\AppData\\Local\\Temp\\ipykernel_75800\\2205925660.py:27: FutureWarning: The frame.append method is deprecated and will be removed from pandas in a future version. Use pandas.concat instead.\n",
      "  output_dataframe=output_dataframe.append(pd.DataFrame(list0,columns=['Actual','Predicted']),ignore_index=True)\n",
      "C:\\Users\\chaud\\AppData\\Local\\Temp\\ipykernel_75800\\2205925660.py:27: FutureWarning: The frame.append method is deprecated and will be removed from pandas in a future version. Use pandas.concat instead.\n",
      "  output_dataframe=output_dataframe.append(pd.DataFrame(list0,columns=['Actual','Predicted']),ignore_index=True)\n",
      "C:\\Users\\chaud\\AppData\\Local\\Temp\\ipykernel_75800\\2205925660.py:27: FutureWarning: The frame.append method is deprecated and will be removed from pandas in a future version. Use pandas.concat instead.\n",
      "  output_dataframe=output_dataframe.append(pd.DataFrame(list0,columns=['Actual','Predicted']),ignore_index=True)\n",
      "C:\\Users\\chaud\\AppData\\Local\\Temp\\ipykernel_75800\\2205925660.py:27: FutureWarning: The frame.append method is deprecated and will be removed from pandas in a future version. Use pandas.concat instead.\n",
      "  output_dataframe=output_dataframe.append(pd.DataFrame(list0,columns=['Actual','Predicted']),ignore_index=True)\n",
      "C:\\Users\\chaud\\AppData\\Local\\Temp\\ipykernel_75800\\2205925660.py:23: FutureWarning: The frame.append method is deprecated and will be removed from pandas in a future version. Use pandas.concat instead.\n",
      "  output_dataframe=output_dataframe.append(pd.DataFrame(list1,columns=['Actual','Predicted']),ignore_index=True)\n",
      "C:\\Users\\chaud\\AppData\\Local\\Temp\\ipykernel_75800\\2205925660.py:27: FutureWarning: The frame.append method is deprecated and will be removed from pandas in a future version. Use pandas.concat instead.\n",
      "  output_dataframe=output_dataframe.append(pd.DataFrame(list0,columns=['Actual','Predicted']),ignore_index=True)\n",
      "C:\\Users\\chaud\\AppData\\Local\\Temp\\ipykernel_75800\\2205925660.py:23: FutureWarning: The frame.append method is deprecated and will be removed from pandas in a future version. Use pandas.concat instead.\n",
      "  output_dataframe=output_dataframe.append(pd.DataFrame(list1,columns=['Actual','Predicted']),ignore_index=True)\n",
      "C:\\Users\\chaud\\AppData\\Local\\Temp\\ipykernel_75800\\2205925660.py:23: FutureWarning: The frame.append method is deprecated and will be removed from pandas in a future version. Use pandas.concat instead.\n",
      "  output_dataframe=output_dataframe.append(pd.DataFrame(list1,columns=['Actual','Predicted']),ignore_index=True)\n",
      "C:\\Users\\chaud\\AppData\\Local\\Temp\\ipykernel_75800\\2205925660.py:27: FutureWarning: The frame.append method is deprecated and will be removed from pandas in a future version. Use pandas.concat instead.\n",
      "  output_dataframe=output_dataframe.append(pd.DataFrame(list0,columns=['Actual','Predicted']),ignore_index=True)\n",
      "C:\\Users\\chaud\\AppData\\Local\\Temp\\ipykernel_75800\\2205925660.py:23: FutureWarning: The frame.append method is deprecated and will be removed from pandas in a future version. Use pandas.concat instead.\n",
      "  output_dataframe=output_dataframe.append(pd.DataFrame(list1,columns=['Actual','Predicted']),ignore_index=True)\n"
     ]
    },
    {
     "name": "stderr",
     "output_type": "stream",
     "text": [
      "C:\\Users\\chaud\\AppData\\Local\\Temp\\ipykernel_75800\\2205925660.py:27: FutureWarning: The frame.append method is deprecated and will be removed from pandas in a future version. Use pandas.concat instead.\n",
      "  output_dataframe=output_dataframe.append(pd.DataFrame(list0,columns=['Actual','Predicted']),ignore_index=True)\n",
      "C:\\Users\\chaud\\AppData\\Local\\Temp\\ipykernel_75800\\2205925660.py:27: FutureWarning: The frame.append method is deprecated and will be removed from pandas in a future version. Use pandas.concat instead.\n",
      "  output_dataframe=output_dataframe.append(pd.DataFrame(list0,columns=['Actual','Predicted']),ignore_index=True)\n",
      "C:\\Users\\chaud\\AppData\\Local\\Temp\\ipykernel_75800\\2205925660.py:27: FutureWarning: The frame.append method is deprecated and will be removed from pandas in a future version. Use pandas.concat instead.\n",
      "  output_dataframe=output_dataframe.append(pd.DataFrame(list0,columns=['Actual','Predicted']),ignore_index=True)\n",
      "C:\\Users\\chaud\\AppData\\Local\\Temp\\ipykernel_75800\\2205925660.py:27: FutureWarning: The frame.append method is deprecated and will be removed from pandas in a future version. Use pandas.concat instead.\n",
      "  output_dataframe=output_dataframe.append(pd.DataFrame(list0,columns=['Actual','Predicted']),ignore_index=True)\n",
      "C:\\Users\\chaud\\AppData\\Local\\Temp\\ipykernel_75800\\2205925660.py:27: FutureWarning: The frame.append method is deprecated and will be removed from pandas in a future version. Use pandas.concat instead.\n",
      "  output_dataframe=output_dataframe.append(pd.DataFrame(list0,columns=['Actual','Predicted']),ignore_index=True)\n",
      "C:\\Users\\chaud\\AppData\\Local\\Temp\\ipykernel_75800\\2205925660.py:27: FutureWarning: The frame.append method is deprecated and will be removed from pandas in a future version. Use pandas.concat instead.\n",
      "  output_dataframe=output_dataframe.append(pd.DataFrame(list0,columns=['Actual','Predicted']),ignore_index=True)\n",
      "C:\\Users\\chaud\\AppData\\Local\\Temp\\ipykernel_75800\\2205925660.py:27: FutureWarning: The frame.append method is deprecated and will be removed from pandas in a future version. Use pandas.concat instead.\n",
      "  output_dataframe=output_dataframe.append(pd.DataFrame(list0,columns=['Actual','Predicted']),ignore_index=True)\n",
      "C:\\Users\\chaud\\AppData\\Local\\Temp\\ipykernel_75800\\2205925660.py:23: FutureWarning: The frame.append method is deprecated and will be removed from pandas in a future version. Use pandas.concat instead.\n",
      "  output_dataframe=output_dataframe.append(pd.DataFrame(list1,columns=['Actual','Predicted']),ignore_index=True)\n",
      "C:\\Users\\chaud\\AppData\\Local\\Temp\\ipykernel_75800\\2205925660.py:23: FutureWarning: The frame.append method is deprecated and will be removed from pandas in a future version. Use pandas.concat instead.\n",
      "  output_dataframe=output_dataframe.append(pd.DataFrame(list1,columns=['Actual','Predicted']),ignore_index=True)\n",
      "C:\\Users\\chaud\\AppData\\Local\\Temp\\ipykernel_75800\\2205925660.py:27: FutureWarning: The frame.append method is deprecated and will be removed from pandas in a future version. Use pandas.concat instead.\n",
      "  output_dataframe=output_dataframe.append(pd.DataFrame(list0,columns=['Actual','Predicted']),ignore_index=True)\n",
      "C:\\Users\\chaud\\AppData\\Local\\Temp\\ipykernel_75800\\2205925660.py:27: FutureWarning: The frame.append method is deprecated and will be removed from pandas in a future version. Use pandas.concat instead.\n",
      "  output_dataframe=output_dataframe.append(pd.DataFrame(list0,columns=['Actual','Predicted']),ignore_index=True)\n",
      "C:\\Users\\chaud\\AppData\\Local\\Temp\\ipykernel_75800\\2205925660.py:27: FutureWarning: The frame.append method is deprecated and will be removed from pandas in a future version. Use pandas.concat instead.\n",
      "  output_dataframe=output_dataframe.append(pd.DataFrame(list0,columns=['Actual','Predicted']),ignore_index=True)\n",
      "C:\\Users\\chaud\\AppData\\Local\\Temp\\ipykernel_75800\\2205925660.py:27: FutureWarning: The frame.append method is deprecated and will be removed from pandas in a future version. Use pandas.concat instead.\n",
      "  output_dataframe=output_dataframe.append(pd.DataFrame(list0,columns=['Actual','Predicted']),ignore_index=True)\n",
      "C:\\Users\\chaud\\AppData\\Local\\Temp\\ipykernel_75800\\2205925660.py:27: FutureWarning: The frame.append method is deprecated and will be removed from pandas in a future version. Use pandas.concat instead.\n",
      "  output_dataframe=output_dataframe.append(pd.DataFrame(list0,columns=['Actual','Predicted']),ignore_index=True)\n",
      "C:\\Users\\chaud\\AppData\\Local\\Temp\\ipykernel_75800\\2205925660.py:27: FutureWarning: The frame.append method is deprecated and will be removed from pandas in a future version. Use pandas.concat instead.\n",
      "  output_dataframe=output_dataframe.append(pd.DataFrame(list0,columns=['Actual','Predicted']),ignore_index=True)\n",
      "C:\\Users\\chaud\\AppData\\Local\\Temp\\ipykernel_75800\\2205925660.py:27: FutureWarning: The frame.append method is deprecated and will be removed from pandas in a future version. Use pandas.concat instead.\n",
      "  output_dataframe=output_dataframe.append(pd.DataFrame(list0,columns=['Actual','Predicted']),ignore_index=True)\n",
      "C:\\Users\\chaud\\AppData\\Local\\Temp\\ipykernel_75800\\2205925660.py:27: FutureWarning: The frame.append method is deprecated and will be removed from pandas in a future version. Use pandas.concat instead.\n",
      "  output_dataframe=output_dataframe.append(pd.DataFrame(list0,columns=['Actual','Predicted']),ignore_index=True)\n",
      "C:\\Users\\chaud\\AppData\\Local\\Temp\\ipykernel_75800\\2205925660.py:23: FutureWarning: The frame.append method is deprecated and will be removed from pandas in a future version. Use pandas.concat instead.\n",
      "  output_dataframe=output_dataframe.append(pd.DataFrame(list1,columns=['Actual','Predicted']),ignore_index=True)\n",
      "C:\\Users\\chaud\\AppData\\Local\\Temp\\ipykernel_75800\\2205925660.py:27: FutureWarning: The frame.append method is deprecated and will be removed from pandas in a future version. Use pandas.concat instead.\n",
      "  output_dataframe=output_dataframe.append(pd.DataFrame(list0,columns=['Actual','Predicted']),ignore_index=True)\n",
      "C:\\Users\\chaud\\AppData\\Local\\Temp\\ipykernel_75800\\2205925660.py:27: FutureWarning: The frame.append method is deprecated and will be removed from pandas in a future version. Use pandas.concat instead.\n",
      "  output_dataframe=output_dataframe.append(pd.DataFrame(list0,columns=['Actual','Predicted']),ignore_index=True)\n",
      "C:\\Users\\chaud\\AppData\\Local\\Temp\\ipykernel_75800\\2205925660.py:23: FutureWarning: The frame.append method is deprecated and will be removed from pandas in a future version. Use pandas.concat instead.\n",
      "  output_dataframe=output_dataframe.append(pd.DataFrame(list1,columns=['Actual','Predicted']),ignore_index=True)\n",
      "C:\\Users\\chaud\\AppData\\Local\\Temp\\ipykernel_75800\\2205925660.py:27: FutureWarning: The frame.append method is deprecated and will be removed from pandas in a future version. Use pandas.concat instead.\n",
      "  output_dataframe=output_dataframe.append(pd.DataFrame(list0,columns=['Actual','Predicted']),ignore_index=True)\n",
      "C:\\Users\\chaud\\AppData\\Local\\Temp\\ipykernel_75800\\2205925660.py:27: FutureWarning: The frame.append method is deprecated and will be removed from pandas in a future version. Use pandas.concat instead.\n",
      "  output_dataframe=output_dataframe.append(pd.DataFrame(list0,columns=['Actual','Predicted']),ignore_index=True)\n",
      "C:\\Users\\chaud\\AppData\\Local\\Temp\\ipykernel_75800\\2205925660.py:27: FutureWarning: The frame.append method is deprecated and will be removed from pandas in a future version. Use pandas.concat instead.\n",
      "  output_dataframe=output_dataframe.append(pd.DataFrame(list0,columns=['Actual','Predicted']),ignore_index=True)\n",
      "C:\\Users\\chaud\\AppData\\Local\\Temp\\ipykernel_75800\\2205925660.py:27: FutureWarning: The frame.append method is deprecated and will be removed from pandas in a future version. Use pandas.concat instead.\n",
      "  output_dataframe=output_dataframe.append(pd.DataFrame(list0,columns=['Actual','Predicted']),ignore_index=True)\n",
      "C:\\Users\\chaud\\AppData\\Local\\Temp\\ipykernel_75800\\2205925660.py:27: FutureWarning: The frame.append method is deprecated and will be removed from pandas in a future version. Use pandas.concat instead.\n",
      "  output_dataframe=output_dataframe.append(pd.DataFrame(list0,columns=['Actual','Predicted']),ignore_index=True)\n",
      "C:\\Users\\chaud\\AppData\\Local\\Temp\\ipykernel_75800\\2205925660.py:27: FutureWarning: The frame.append method is deprecated and will be removed from pandas in a future version. Use pandas.concat instead.\n",
      "  output_dataframe=output_dataframe.append(pd.DataFrame(list0,columns=['Actual','Predicted']),ignore_index=True)\n",
      "C:\\Users\\chaud\\AppData\\Local\\Temp\\ipykernel_75800\\2205925660.py:27: FutureWarning: The frame.append method is deprecated and will be removed from pandas in a future version. Use pandas.concat instead.\n",
      "  output_dataframe=output_dataframe.append(pd.DataFrame(list0,columns=['Actual','Predicted']),ignore_index=True)\n",
      "C:\\Users\\chaud\\AppData\\Local\\Temp\\ipykernel_75800\\2205925660.py:27: FutureWarning: The frame.append method is deprecated and will be removed from pandas in a future version. Use pandas.concat instead.\n",
      "  output_dataframe=output_dataframe.append(pd.DataFrame(list0,columns=['Actual','Predicted']),ignore_index=True)\n",
      "C:\\Users\\chaud\\AppData\\Local\\Temp\\ipykernel_75800\\2205925660.py:23: FutureWarning: The frame.append method is deprecated and will be removed from pandas in a future version. Use pandas.concat instead.\n",
      "  output_dataframe=output_dataframe.append(pd.DataFrame(list1,columns=['Actual','Predicted']),ignore_index=True)\n",
      "C:\\Users\\chaud\\AppData\\Local\\Temp\\ipykernel_75800\\2205925660.py:23: FutureWarning: The frame.append method is deprecated and will be removed from pandas in a future version. Use pandas.concat instead.\n",
      "  output_dataframe=output_dataframe.append(pd.DataFrame(list1,columns=['Actual','Predicted']),ignore_index=True)\n",
      "C:\\Users\\chaud\\AppData\\Local\\Temp\\ipykernel_75800\\2205925660.py:27: FutureWarning: The frame.append method is deprecated and will be removed from pandas in a future version. Use pandas.concat instead.\n",
      "  output_dataframe=output_dataframe.append(pd.DataFrame(list0,columns=['Actual','Predicted']),ignore_index=True)\n",
      "C:\\Users\\chaud\\AppData\\Local\\Temp\\ipykernel_75800\\2205925660.py:23: FutureWarning: The frame.append method is deprecated and will be removed from pandas in a future version. Use pandas.concat instead.\n",
      "  output_dataframe=output_dataframe.append(pd.DataFrame(list1,columns=['Actual','Predicted']),ignore_index=True)\n",
      "C:\\Users\\chaud\\AppData\\Local\\Temp\\ipykernel_75800\\2205925660.py:27: FutureWarning: The frame.append method is deprecated and will be removed from pandas in a future version. Use pandas.concat instead.\n",
      "  output_dataframe=output_dataframe.append(pd.DataFrame(list0,columns=['Actual','Predicted']),ignore_index=True)\n",
      "C:\\Users\\chaud\\AppData\\Local\\Temp\\ipykernel_75800\\2205925660.py:27: FutureWarning: The frame.append method is deprecated and will be removed from pandas in a future version. Use pandas.concat instead.\n",
      "  output_dataframe=output_dataframe.append(pd.DataFrame(list0,columns=['Actual','Predicted']),ignore_index=True)\n",
      "C:\\Users\\chaud\\AppData\\Local\\Temp\\ipykernel_75800\\2205925660.py:27: FutureWarning: The frame.append method is deprecated and will be removed from pandas in a future version. Use pandas.concat instead.\n",
      "  output_dataframe=output_dataframe.append(pd.DataFrame(list0,columns=['Actual','Predicted']),ignore_index=True)\n"
     ]
    },
    {
     "name": "stderr",
     "output_type": "stream",
     "text": [
      "C:\\Users\\chaud\\AppData\\Local\\Temp\\ipykernel_75800\\2205925660.py:27: FutureWarning: The frame.append method is deprecated and will be removed from pandas in a future version. Use pandas.concat instead.\n",
      "  output_dataframe=output_dataframe.append(pd.DataFrame(list0,columns=['Actual','Predicted']),ignore_index=True)\n",
      "C:\\Users\\chaud\\AppData\\Local\\Temp\\ipykernel_75800\\2205925660.py:27: FutureWarning: The frame.append method is deprecated and will be removed from pandas in a future version. Use pandas.concat instead.\n",
      "  output_dataframe=output_dataframe.append(pd.DataFrame(list0,columns=['Actual','Predicted']),ignore_index=True)\n",
      "C:\\Users\\chaud\\AppData\\Local\\Temp\\ipykernel_75800\\2205925660.py:23: FutureWarning: The frame.append method is deprecated and will be removed from pandas in a future version. Use pandas.concat instead.\n",
      "  output_dataframe=output_dataframe.append(pd.DataFrame(list1,columns=['Actual','Predicted']),ignore_index=True)\n",
      "C:\\Users\\chaud\\AppData\\Local\\Temp\\ipykernel_75800\\2205925660.py:27: FutureWarning: The frame.append method is deprecated and will be removed from pandas in a future version. Use pandas.concat instead.\n",
      "  output_dataframe=output_dataframe.append(pd.DataFrame(list0,columns=['Actual','Predicted']),ignore_index=True)\n",
      "C:\\Users\\chaud\\AppData\\Local\\Temp\\ipykernel_75800\\2205925660.py:23: FutureWarning: The frame.append method is deprecated and will be removed from pandas in a future version. Use pandas.concat instead.\n",
      "  output_dataframe=output_dataframe.append(pd.DataFrame(list1,columns=['Actual','Predicted']),ignore_index=True)\n",
      "C:\\Users\\chaud\\AppData\\Local\\Temp\\ipykernel_75800\\2205925660.py:27: FutureWarning: The frame.append method is deprecated and will be removed from pandas in a future version. Use pandas.concat instead.\n",
      "  output_dataframe=output_dataframe.append(pd.DataFrame(list0,columns=['Actual','Predicted']),ignore_index=True)\n",
      "C:\\Users\\chaud\\AppData\\Local\\Temp\\ipykernel_75800\\2205925660.py:27: FutureWarning: The frame.append method is deprecated and will be removed from pandas in a future version. Use pandas.concat instead.\n",
      "  output_dataframe=output_dataframe.append(pd.DataFrame(list0,columns=['Actual','Predicted']),ignore_index=True)\n",
      "C:\\Users\\chaud\\AppData\\Local\\Temp\\ipykernel_75800\\2205925660.py:27: FutureWarning: The frame.append method is deprecated and will be removed from pandas in a future version. Use pandas.concat instead.\n",
      "  output_dataframe=output_dataframe.append(pd.DataFrame(list0,columns=['Actual','Predicted']),ignore_index=True)\n",
      "C:\\Users\\chaud\\AppData\\Local\\Temp\\ipykernel_75800\\2205925660.py:27: FutureWarning: The frame.append method is deprecated and will be removed from pandas in a future version. Use pandas.concat instead.\n",
      "  output_dataframe=output_dataframe.append(pd.DataFrame(list0,columns=['Actual','Predicted']),ignore_index=True)\n",
      "C:\\Users\\chaud\\AppData\\Local\\Temp\\ipykernel_75800\\2205925660.py:27: FutureWarning: The frame.append method is deprecated and will be removed from pandas in a future version. Use pandas.concat instead.\n",
      "  output_dataframe=output_dataframe.append(pd.DataFrame(list0,columns=['Actual','Predicted']),ignore_index=True)\n",
      "C:\\Users\\chaud\\AppData\\Local\\Temp\\ipykernel_75800\\2205925660.py:27: FutureWarning: The frame.append method is deprecated and will be removed from pandas in a future version. Use pandas.concat instead.\n",
      "  output_dataframe=output_dataframe.append(pd.DataFrame(list0,columns=['Actual','Predicted']),ignore_index=True)\n",
      "C:\\Users\\chaud\\AppData\\Local\\Temp\\ipykernel_75800\\2205925660.py:27: FutureWarning: The frame.append method is deprecated and will be removed from pandas in a future version. Use pandas.concat instead.\n",
      "  output_dataframe=output_dataframe.append(pd.DataFrame(list0,columns=['Actual','Predicted']),ignore_index=True)\n",
      "C:\\Users\\chaud\\AppData\\Local\\Temp\\ipykernel_75800\\2205925660.py:23: FutureWarning: The frame.append method is deprecated and will be removed from pandas in a future version. Use pandas.concat instead.\n",
      "  output_dataframe=output_dataframe.append(pd.DataFrame(list1,columns=['Actual','Predicted']),ignore_index=True)\n",
      "C:\\Users\\chaud\\AppData\\Local\\Temp\\ipykernel_75800\\2205925660.py:27: FutureWarning: The frame.append method is deprecated and will be removed from pandas in a future version. Use pandas.concat instead.\n",
      "  output_dataframe=output_dataframe.append(pd.DataFrame(list0,columns=['Actual','Predicted']),ignore_index=True)\n",
      "C:\\Users\\chaud\\AppData\\Local\\Temp\\ipykernel_75800\\2205925660.py:23: FutureWarning: The frame.append method is deprecated and will be removed from pandas in a future version. Use pandas.concat instead.\n",
      "  output_dataframe=output_dataframe.append(pd.DataFrame(list1,columns=['Actual','Predicted']),ignore_index=True)\n",
      "C:\\Users\\chaud\\AppData\\Local\\Temp\\ipykernel_75800\\2205925660.py:23: FutureWarning: The frame.append method is deprecated and will be removed from pandas in a future version. Use pandas.concat instead.\n",
      "  output_dataframe=output_dataframe.append(pd.DataFrame(list1,columns=['Actual','Predicted']),ignore_index=True)\n",
      "C:\\Users\\chaud\\AppData\\Local\\Temp\\ipykernel_75800\\2205925660.py:27: FutureWarning: The frame.append method is deprecated and will be removed from pandas in a future version. Use pandas.concat instead.\n",
      "  output_dataframe=output_dataframe.append(pd.DataFrame(list0,columns=['Actual','Predicted']),ignore_index=True)\n",
      "C:\\Users\\chaud\\AppData\\Local\\Temp\\ipykernel_75800\\2205925660.py:27: FutureWarning: The frame.append method is deprecated and will be removed from pandas in a future version. Use pandas.concat instead.\n",
      "  output_dataframe=output_dataframe.append(pd.DataFrame(list0,columns=['Actual','Predicted']),ignore_index=True)\n",
      "C:\\Users\\chaud\\AppData\\Local\\Temp\\ipykernel_75800\\2205925660.py:23: FutureWarning: The frame.append method is deprecated and will be removed from pandas in a future version. Use pandas.concat instead.\n",
      "  output_dataframe=output_dataframe.append(pd.DataFrame(list1,columns=['Actual','Predicted']),ignore_index=True)\n",
      "C:\\Users\\chaud\\AppData\\Local\\Temp\\ipykernel_75800\\2205925660.py:23: FutureWarning: The frame.append method is deprecated and will be removed from pandas in a future version. Use pandas.concat instead.\n",
      "  output_dataframe=output_dataframe.append(pd.DataFrame(list1,columns=['Actual','Predicted']),ignore_index=True)\n",
      "C:\\Users\\chaud\\AppData\\Local\\Temp\\ipykernel_75800\\2205925660.py:27: FutureWarning: The frame.append method is deprecated and will be removed from pandas in a future version. Use pandas.concat instead.\n",
      "  output_dataframe=output_dataframe.append(pd.DataFrame(list0,columns=['Actual','Predicted']),ignore_index=True)\n",
      "C:\\Users\\chaud\\AppData\\Local\\Temp\\ipykernel_75800\\2205925660.py:23: FutureWarning: The frame.append method is deprecated and will be removed from pandas in a future version. Use pandas.concat instead.\n",
      "  output_dataframe=output_dataframe.append(pd.DataFrame(list1,columns=['Actual','Predicted']),ignore_index=True)\n",
      "C:\\Users\\chaud\\AppData\\Local\\Temp\\ipykernel_75800\\2205925660.py:27: FutureWarning: The frame.append method is deprecated and will be removed from pandas in a future version. Use pandas.concat instead.\n",
      "  output_dataframe=output_dataframe.append(pd.DataFrame(list0,columns=['Actual','Predicted']),ignore_index=True)\n",
      "C:\\Users\\chaud\\AppData\\Local\\Temp\\ipykernel_75800\\2205925660.py:27: FutureWarning: The frame.append method is deprecated and will be removed from pandas in a future version. Use pandas.concat instead.\n",
      "  output_dataframe=output_dataframe.append(pd.DataFrame(list0,columns=['Actual','Predicted']),ignore_index=True)\n",
      "C:\\Users\\chaud\\AppData\\Local\\Temp\\ipykernel_75800\\2205925660.py:27: FutureWarning: The frame.append method is deprecated and will be removed from pandas in a future version. Use pandas.concat instead.\n",
      "  output_dataframe=output_dataframe.append(pd.DataFrame(list0,columns=['Actual','Predicted']),ignore_index=True)\n",
      "C:\\Users\\chaud\\AppData\\Local\\Temp\\ipykernel_75800\\2205925660.py:27: FutureWarning: The frame.append method is deprecated and will be removed from pandas in a future version. Use pandas.concat instead.\n",
      "  output_dataframe=output_dataframe.append(pd.DataFrame(list0,columns=['Actual','Predicted']),ignore_index=True)\n",
      "C:\\Users\\chaud\\AppData\\Local\\Temp\\ipykernel_75800\\2205925660.py:27: FutureWarning: The frame.append method is deprecated and will be removed from pandas in a future version. Use pandas.concat instead.\n",
      "  output_dataframe=output_dataframe.append(pd.DataFrame(list0,columns=['Actual','Predicted']),ignore_index=True)\n",
      "C:\\Users\\chaud\\AppData\\Local\\Temp\\ipykernel_75800\\2205925660.py:27: FutureWarning: The frame.append method is deprecated and will be removed from pandas in a future version. Use pandas.concat instead.\n",
      "  output_dataframe=output_dataframe.append(pd.DataFrame(list0,columns=['Actual','Predicted']),ignore_index=True)\n",
      "C:\\Users\\chaud\\AppData\\Local\\Temp\\ipykernel_75800\\2205925660.py:27: FutureWarning: The frame.append method is deprecated and will be removed from pandas in a future version. Use pandas.concat instead.\n",
      "  output_dataframe=output_dataframe.append(pd.DataFrame(list0,columns=['Actual','Predicted']),ignore_index=True)\n",
      "C:\\Users\\chaud\\AppData\\Local\\Temp\\ipykernel_75800\\2205925660.py:27: FutureWarning: The frame.append method is deprecated and will be removed from pandas in a future version. Use pandas.concat instead.\n",
      "  output_dataframe=output_dataframe.append(pd.DataFrame(list0,columns=['Actual','Predicted']),ignore_index=True)\n",
      "C:\\Users\\chaud\\AppData\\Local\\Temp\\ipykernel_75800\\2205925660.py:27: FutureWarning: The frame.append method is deprecated and will be removed from pandas in a future version. Use pandas.concat instead.\n",
      "  output_dataframe=output_dataframe.append(pd.DataFrame(list0,columns=['Actual','Predicted']),ignore_index=True)\n",
      "C:\\Users\\chaud\\AppData\\Local\\Temp\\ipykernel_75800\\2205925660.py:23: FutureWarning: The frame.append method is deprecated and will be removed from pandas in a future version. Use pandas.concat instead.\n",
      "  output_dataframe=output_dataframe.append(pd.DataFrame(list1,columns=['Actual','Predicted']),ignore_index=True)\n",
      "C:\\Users\\chaud\\AppData\\Local\\Temp\\ipykernel_75800\\2205925660.py:27: FutureWarning: The frame.append method is deprecated and will be removed from pandas in a future version. Use pandas.concat instead.\n",
      "  output_dataframe=output_dataframe.append(pd.DataFrame(list0,columns=['Actual','Predicted']),ignore_index=True)\n"
     ]
    },
    {
     "name": "stderr",
     "output_type": "stream",
     "text": [
      "C:\\Users\\chaud\\AppData\\Local\\Temp\\ipykernel_75800\\2205925660.py:27: FutureWarning: The frame.append method is deprecated and will be removed from pandas in a future version. Use pandas.concat instead.\n",
      "  output_dataframe=output_dataframe.append(pd.DataFrame(list0,columns=['Actual','Predicted']),ignore_index=True)\n",
      "C:\\Users\\chaud\\AppData\\Local\\Temp\\ipykernel_75800\\2205925660.py:27: FutureWarning: The frame.append method is deprecated and will be removed from pandas in a future version. Use pandas.concat instead.\n",
      "  output_dataframe=output_dataframe.append(pd.DataFrame(list0,columns=['Actual','Predicted']),ignore_index=True)\n",
      "C:\\Users\\chaud\\AppData\\Local\\Temp\\ipykernel_75800\\2205925660.py:23: FutureWarning: The frame.append method is deprecated and will be removed from pandas in a future version. Use pandas.concat instead.\n",
      "  output_dataframe=output_dataframe.append(pd.DataFrame(list1,columns=['Actual','Predicted']),ignore_index=True)\n",
      "C:\\Users\\chaud\\AppData\\Local\\Temp\\ipykernel_75800\\2205925660.py:27: FutureWarning: The frame.append method is deprecated and will be removed from pandas in a future version. Use pandas.concat instead.\n",
      "  output_dataframe=output_dataframe.append(pd.DataFrame(list0,columns=['Actual','Predicted']),ignore_index=True)\n",
      "C:\\Users\\chaud\\AppData\\Local\\Temp\\ipykernel_75800\\2205925660.py:23: FutureWarning: The frame.append method is deprecated and will be removed from pandas in a future version. Use pandas.concat instead.\n",
      "  output_dataframe=output_dataframe.append(pd.DataFrame(list1,columns=['Actual','Predicted']),ignore_index=True)\n",
      "C:\\Users\\chaud\\AppData\\Local\\Temp\\ipykernel_75800\\2205925660.py:23: FutureWarning: The frame.append method is deprecated and will be removed from pandas in a future version. Use pandas.concat instead.\n",
      "  output_dataframe=output_dataframe.append(pd.DataFrame(list1,columns=['Actual','Predicted']),ignore_index=True)\n",
      "C:\\Users\\chaud\\AppData\\Local\\Temp\\ipykernel_75800\\2205925660.py:27: FutureWarning: The frame.append method is deprecated and will be removed from pandas in a future version. Use pandas.concat instead.\n",
      "  output_dataframe=output_dataframe.append(pd.DataFrame(list0,columns=['Actual','Predicted']),ignore_index=True)\n",
      "C:\\Users\\chaud\\AppData\\Local\\Temp\\ipykernel_75800\\2205925660.py:27: FutureWarning: The frame.append method is deprecated and will be removed from pandas in a future version. Use pandas.concat instead.\n",
      "  output_dataframe=output_dataframe.append(pd.DataFrame(list0,columns=['Actual','Predicted']),ignore_index=True)\n",
      "C:\\Users\\chaud\\AppData\\Local\\Temp\\ipykernel_75800\\2205925660.py:27: FutureWarning: The frame.append method is deprecated and will be removed from pandas in a future version. Use pandas.concat instead.\n",
      "  output_dataframe=output_dataframe.append(pd.DataFrame(list0,columns=['Actual','Predicted']),ignore_index=True)\n",
      "C:\\Users\\chaud\\AppData\\Local\\Temp\\ipykernel_75800\\2205925660.py:23: FutureWarning: The frame.append method is deprecated and will be removed from pandas in a future version. Use pandas.concat instead.\n",
      "  output_dataframe=output_dataframe.append(pd.DataFrame(list1,columns=['Actual','Predicted']),ignore_index=True)\n",
      "C:\\Users\\chaud\\AppData\\Local\\Temp\\ipykernel_75800\\2205925660.py:27: FutureWarning: The frame.append method is deprecated and will be removed from pandas in a future version. Use pandas.concat instead.\n",
      "  output_dataframe=output_dataframe.append(pd.DataFrame(list0,columns=['Actual','Predicted']),ignore_index=True)\n",
      "C:\\Users\\chaud\\AppData\\Local\\Temp\\ipykernel_75800\\2205925660.py:23: FutureWarning: The frame.append method is deprecated and will be removed from pandas in a future version. Use pandas.concat instead.\n",
      "  output_dataframe=output_dataframe.append(pd.DataFrame(list1,columns=['Actual','Predicted']),ignore_index=True)\n",
      "C:\\Users\\chaud\\AppData\\Local\\Temp\\ipykernel_75800\\2205925660.py:27: FutureWarning: The frame.append method is deprecated and will be removed from pandas in a future version. Use pandas.concat instead.\n",
      "  output_dataframe=output_dataframe.append(pd.DataFrame(list0,columns=['Actual','Predicted']),ignore_index=True)\n",
      "C:\\Users\\chaud\\AppData\\Local\\Temp\\ipykernel_75800\\2205925660.py:27: FutureWarning: The frame.append method is deprecated and will be removed from pandas in a future version. Use pandas.concat instead.\n",
      "  output_dataframe=output_dataframe.append(pd.DataFrame(list0,columns=['Actual','Predicted']),ignore_index=True)\n",
      "C:\\Users\\chaud\\AppData\\Local\\Temp\\ipykernel_75800\\2205925660.py:23: FutureWarning: The frame.append method is deprecated and will be removed from pandas in a future version. Use pandas.concat instead.\n",
      "  output_dataframe=output_dataframe.append(pd.DataFrame(list1,columns=['Actual','Predicted']),ignore_index=True)\n",
      "C:\\Users\\chaud\\AppData\\Local\\Temp\\ipykernel_75800\\2205925660.py:27: FutureWarning: The frame.append method is deprecated and will be removed from pandas in a future version. Use pandas.concat instead.\n",
      "  output_dataframe=output_dataframe.append(pd.DataFrame(list0,columns=['Actual','Predicted']),ignore_index=True)\n",
      "C:\\Users\\chaud\\AppData\\Local\\Temp\\ipykernel_75800\\2205925660.py:23: FutureWarning: The frame.append method is deprecated and will be removed from pandas in a future version. Use pandas.concat instead.\n",
      "  output_dataframe=output_dataframe.append(pd.DataFrame(list1,columns=['Actual','Predicted']),ignore_index=True)\n",
      "C:\\Users\\chaud\\AppData\\Local\\Temp\\ipykernel_75800\\2205925660.py:23: FutureWarning: The frame.append method is deprecated and will be removed from pandas in a future version. Use pandas.concat instead.\n",
      "  output_dataframe=output_dataframe.append(pd.DataFrame(list1,columns=['Actual','Predicted']),ignore_index=True)\n",
      "C:\\Users\\chaud\\AppData\\Local\\Temp\\ipykernel_75800\\2205925660.py:27: FutureWarning: The frame.append method is deprecated and will be removed from pandas in a future version. Use pandas.concat instead.\n",
      "  output_dataframe=output_dataframe.append(pd.DataFrame(list0,columns=['Actual','Predicted']),ignore_index=True)\n",
      "C:\\Users\\chaud\\AppData\\Local\\Temp\\ipykernel_75800\\2205925660.py:23: FutureWarning: The frame.append method is deprecated and will be removed from pandas in a future version. Use pandas.concat instead.\n",
      "  output_dataframe=output_dataframe.append(pd.DataFrame(list1,columns=['Actual','Predicted']),ignore_index=True)\n",
      "C:\\Users\\chaud\\AppData\\Local\\Temp\\ipykernel_75800\\2205925660.py:27: FutureWarning: The frame.append method is deprecated and will be removed from pandas in a future version. Use pandas.concat instead.\n",
      "  output_dataframe=output_dataframe.append(pd.DataFrame(list0,columns=['Actual','Predicted']),ignore_index=True)\n",
      "C:\\Users\\chaud\\AppData\\Local\\Temp\\ipykernel_75800\\2205925660.py:27: FutureWarning: The frame.append method is deprecated and will be removed from pandas in a future version. Use pandas.concat instead.\n",
      "  output_dataframe=output_dataframe.append(pd.DataFrame(list0,columns=['Actual','Predicted']),ignore_index=True)\n",
      "C:\\Users\\chaud\\AppData\\Local\\Temp\\ipykernel_75800\\2205925660.py:23: FutureWarning: The frame.append method is deprecated and will be removed from pandas in a future version. Use pandas.concat instead.\n",
      "  output_dataframe=output_dataframe.append(pd.DataFrame(list1,columns=['Actual','Predicted']),ignore_index=True)\n",
      "C:\\Users\\chaud\\AppData\\Local\\Temp\\ipykernel_75800\\2205925660.py:23: FutureWarning: The frame.append method is deprecated and will be removed from pandas in a future version. Use pandas.concat instead.\n",
      "  output_dataframe=output_dataframe.append(pd.DataFrame(list1,columns=['Actual','Predicted']),ignore_index=True)\n",
      "C:\\Users\\chaud\\AppData\\Local\\Temp\\ipykernel_75800\\2205925660.py:27: FutureWarning: The frame.append method is deprecated and will be removed from pandas in a future version. Use pandas.concat instead.\n",
      "  output_dataframe=output_dataframe.append(pd.DataFrame(list0,columns=['Actual','Predicted']),ignore_index=True)\n",
      "C:\\Users\\chaud\\AppData\\Local\\Temp\\ipykernel_75800\\2205925660.py:27: FutureWarning: The frame.append method is deprecated and will be removed from pandas in a future version. Use pandas.concat instead.\n",
      "  output_dataframe=output_dataframe.append(pd.DataFrame(list0,columns=['Actual','Predicted']),ignore_index=True)\n",
      "C:\\Users\\chaud\\AppData\\Local\\Temp\\ipykernel_75800\\2205925660.py:23: FutureWarning: The frame.append method is deprecated and will be removed from pandas in a future version. Use pandas.concat instead.\n",
      "  output_dataframe=output_dataframe.append(pd.DataFrame(list1,columns=['Actual','Predicted']),ignore_index=True)\n",
      "C:\\Users\\chaud\\AppData\\Local\\Temp\\ipykernel_75800\\2205925660.py:27: FutureWarning: The frame.append method is deprecated and will be removed from pandas in a future version. Use pandas.concat instead.\n",
      "  output_dataframe=output_dataframe.append(pd.DataFrame(list0,columns=['Actual','Predicted']),ignore_index=True)\n",
      "C:\\Users\\chaud\\AppData\\Local\\Temp\\ipykernel_75800\\2205925660.py:27: FutureWarning: The frame.append method is deprecated and will be removed from pandas in a future version. Use pandas.concat instead.\n",
      "  output_dataframe=output_dataframe.append(pd.DataFrame(list0,columns=['Actual','Predicted']),ignore_index=True)\n",
      "C:\\Users\\chaud\\AppData\\Local\\Temp\\ipykernel_75800\\2205925660.py:23: FutureWarning: The frame.append method is deprecated and will be removed from pandas in a future version. Use pandas.concat instead.\n",
      "  output_dataframe=output_dataframe.append(pd.DataFrame(list1,columns=['Actual','Predicted']),ignore_index=True)\n",
      "C:\\Users\\chaud\\AppData\\Local\\Temp\\ipykernel_75800\\2205925660.py:23: FutureWarning: The frame.append method is deprecated and will be removed from pandas in a future version. Use pandas.concat instead.\n",
      "  output_dataframe=output_dataframe.append(pd.DataFrame(list1,columns=['Actual','Predicted']),ignore_index=True)\n",
      "C:\\Users\\chaud\\AppData\\Local\\Temp\\ipykernel_75800\\2205925660.py:27: FutureWarning: The frame.append method is deprecated and will be removed from pandas in a future version. Use pandas.concat instead.\n",
      "  output_dataframe=output_dataframe.append(pd.DataFrame(list0,columns=['Actual','Predicted']),ignore_index=True)\n",
      "C:\\Users\\chaud\\AppData\\Local\\Temp\\ipykernel_75800\\2205925660.py:27: FutureWarning: The frame.append method is deprecated and will be removed from pandas in a future version. Use pandas.concat instead.\n",
      "  output_dataframe=output_dataframe.append(pd.DataFrame(list0,columns=['Actual','Predicted']),ignore_index=True)\n",
      "C:\\Users\\chaud\\AppData\\Local\\Temp\\ipykernel_75800\\2205925660.py:27: FutureWarning: The frame.append method is deprecated and will be removed from pandas in a future version. Use pandas.concat instead.\n",
      "  output_dataframe=output_dataframe.append(pd.DataFrame(list0,columns=['Actual','Predicted']),ignore_index=True)\n",
      "C:\\Users\\chaud\\AppData\\Local\\Temp\\ipykernel_75800\\2205925660.py:27: FutureWarning: The frame.append method is deprecated and will be removed from pandas in a future version. Use pandas.concat instead.\n",
      "  output_dataframe=output_dataframe.append(pd.DataFrame(list0,columns=['Actual','Predicted']),ignore_index=True)\n"
     ]
    },
    {
     "name": "stderr",
     "output_type": "stream",
     "text": [
      "C:\\Users\\chaud\\AppData\\Local\\Temp\\ipykernel_75800\\2205925660.py:27: FutureWarning: The frame.append method is deprecated and will be removed from pandas in a future version. Use pandas.concat instead.\n",
      "  output_dataframe=output_dataframe.append(pd.DataFrame(list0,columns=['Actual','Predicted']),ignore_index=True)\n",
      "C:\\Users\\chaud\\AppData\\Local\\Temp\\ipykernel_75800\\2205925660.py:27: FutureWarning: The frame.append method is deprecated and will be removed from pandas in a future version. Use pandas.concat instead.\n",
      "  output_dataframe=output_dataframe.append(pd.DataFrame(list0,columns=['Actual','Predicted']),ignore_index=True)\n",
      "C:\\Users\\chaud\\AppData\\Local\\Temp\\ipykernel_75800\\2205925660.py:27: FutureWarning: The frame.append method is deprecated and will be removed from pandas in a future version. Use pandas.concat instead.\n",
      "  output_dataframe=output_dataframe.append(pd.DataFrame(list0,columns=['Actual','Predicted']),ignore_index=True)\n",
      "C:\\Users\\chaud\\AppData\\Local\\Temp\\ipykernel_75800\\2205925660.py:23: FutureWarning: The frame.append method is deprecated and will be removed from pandas in a future version. Use pandas.concat instead.\n",
      "  output_dataframe=output_dataframe.append(pd.DataFrame(list1,columns=['Actual','Predicted']),ignore_index=True)\n",
      "C:\\Users\\chaud\\AppData\\Local\\Temp\\ipykernel_75800\\2205925660.py:27: FutureWarning: The frame.append method is deprecated and will be removed from pandas in a future version. Use pandas.concat instead.\n",
      "  output_dataframe=output_dataframe.append(pd.DataFrame(list0,columns=['Actual','Predicted']),ignore_index=True)\n",
      "C:\\Users\\chaud\\AppData\\Local\\Temp\\ipykernel_75800\\2205925660.py:23: FutureWarning: The frame.append method is deprecated and will be removed from pandas in a future version. Use pandas.concat instead.\n",
      "  output_dataframe=output_dataframe.append(pd.DataFrame(list1,columns=['Actual','Predicted']),ignore_index=True)\n",
      "C:\\Users\\chaud\\AppData\\Local\\Temp\\ipykernel_75800\\2205925660.py:27: FutureWarning: The frame.append method is deprecated and will be removed from pandas in a future version. Use pandas.concat instead.\n",
      "  output_dataframe=output_dataframe.append(pd.DataFrame(list0,columns=['Actual','Predicted']),ignore_index=True)\n",
      "C:\\Users\\chaud\\AppData\\Local\\Temp\\ipykernel_75800\\2205925660.py:27: FutureWarning: The frame.append method is deprecated and will be removed from pandas in a future version. Use pandas.concat instead.\n",
      "  output_dataframe=output_dataframe.append(pd.DataFrame(list0,columns=['Actual','Predicted']),ignore_index=True)\n",
      "C:\\Users\\chaud\\AppData\\Local\\Temp\\ipykernel_75800\\2205925660.py:27: FutureWarning: The frame.append method is deprecated and will be removed from pandas in a future version. Use pandas.concat instead.\n",
      "  output_dataframe=output_dataframe.append(pd.DataFrame(list0,columns=['Actual','Predicted']),ignore_index=True)\n",
      "C:\\Users\\chaud\\AppData\\Local\\Temp\\ipykernel_75800\\2205925660.py:27: FutureWarning: The frame.append method is deprecated and will be removed from pandas in a future version. Use pandas.concat instead.\n",
      "  output_dataframe=output_dataframe.append(pd.DataFrame(list0,columns=['Actual','Predicted']),ignore_index=True)\n",
      "C:\\Users\\chaud\\AppData\\Local\\Temp\\ipykernel_75800\\2205925660.py:27: FutureWarning: The frame.append method is deprecated and will be removed from pandas in a future version. Use pandas.concat instead.\n",
      "  output_dataframe=output_dataframe.append(pd.DataFrame(list0,columns=['Actual','Predicted']),ignore_index=True)\n",
      "C:\\Users\\chaud\\AppData\\Local\\Temp\\ipykernel_75800\\2205925660.py:23: FutureWarning: The frame.append method is deprecated and will be removed from pandas in a future version. Use pandas.concat instead.\n",
      "  output_dataframe=output_dataframe.append(pd.DataFrame(list1,columns=['Actual','Predicted']),ignore_index=True)\n",
      "C:\\Users\\chaud\\AppData\\Local\\Temp\\ipykernel_75800\\2205925660.py:27: FutureWarning: The frame.append method is deprecated and will be removed from pandas in a future version. Use pandas.concat instead.\n",
      "  output_dataframe=output_dataframe.append(pd.DataFrame(list0,columns=['Actual','Predicted']),ignore_index=True)\n",
      "C:\\Users\\chaud\\AppData\\Local\\Temp\\ipykernel_75800\\2205925660.py:27: FutureWarning: The frame.append method is deprecated and will be removed from pandas in a future version. Use pandas.concat instead.\n",
      "  output_dataframe=output_dataframe.append(pd.DataFrame(list0,columns=['Actual','Predicted']),ignore_index=True)\n",
      "C:\\Users\\chaud\\AppData\\Local\\Temp\\ipykernel_75800\\2205925660.py:27: FutureWarning: The frame.append method is deprecated and will be removed from pandas in a future version. Use pandas.concat instead.\n",
      "  output_dataframe=output_dataframe.append(pd.DataFrame(list0,columns=['Actual','Predicted']),ignore_index=True)\n",
      "C:\\Users\\chaud\\AppData\\Local\\Temp\\ipykernel_75800\\2205925660.py:23: FutureWarning: The frame.append method is deprecated and will be removed from pandas in a future version. Use pandas.concat instead.\n",
      "  output_dataframe=output_dataframe.append(pd.DataFrame(list1,columns=['Actual','Predicted']),ignore_index=True)\n",
      "C:\\Users\\chaud\\AppData\\Local\\Temp\\ipykernel_75800\\2205925660.py:27: FutureWarning: The frame.append method is deprecated and will be removed from pandas in a future version. Use pandas.concat instead.\n",
      "  output_dataframe=output_dataframe.append(pd.DataFrame(list0,columns=['Actual','Predicted']),ignore_index=True)\n",
      "C:\\Users\\chaud\\AppData\\Local\\Temp\\ipykernel_75800\\2205925660.py:23: FutureWarning: The frame.append method is deprecated and will be removed from pandas in a future version. Use pandas.concat instead.\n",
      "  output_dataframe=output_dataframe.append(pd.DataFrame(list1,columns=['Actual','Predicted']),ignore_index=True)\n",
      "C:\\Users\\chaud\\AppData\\Local\\Temp\\ipykernel_75800\\2205925660.py:27: FutureWarning: The frame.append method is deprecated and will be removed from pandas in a future version. Use pandas.concat instead.\n",
      "  output_dataframe=output_dataframe.append(pd.DataFrame(list0,columns=['Actual','Predicted']),ignore_index=True)\n",
      "C:\\Users\\chaud\\AppData\\Local\\Temp\\ipykernel_75800\\2205925660.py:27: FutureWarning: The frame.append method is deprecated and will be removed from pandas in a future version. Use pandas.concat instead.\n",
      "  output_dataframe=output_dataframe.append(pd.DataFrame(list0,columns=['Actual','Predicted']),ignore_index=True)\n",
      "C:\\Users\\chaud\\AppData\\Local\\Temp\\ipykernel_75800\\2205925660.py:23: FutureWarning: The frame.append method is deprecated and will be removed from pandas in a future version. Use pandas.concat instead.\n",
      "  output_dataframe=output_dataframe.append(pd.DataFrame(list1,columns=['Actual','Predicted']),ignore_index=True)\n",
      "C:\\Users\\chaud\\AppData\\Local\\Temp\\ipykernel_75800\\2205925660.py:27: FutureWarning: The frame.append method is deprecated and will be removed from pandas in a future version. Use pandas.concat instead.\n",
      "  output_dataframe=output_dataframe.append(pd.DataFrame(list0,columns=['Actual','Predicted']),ignore_index=True)\n",
      "C:\\Users\\chaud\\AppData\\Local\\Temp\\ipykernel_75800\\2205925660.py:23: FutureWarning: The frame.append method is deprecated and will be removed from pandas in a future version. Use pandas.concat instead.\n",
      "  output_dataframe=output_dataframe.append(pd.DataFrame(list1,columns=['Actual','Predicted']),ignore_index=True)\n",
      "C:\\Users\\chaud\\AppData\\Local\\Temp\\ipykernel_75800\\2205925660.py:27: FutureWarning: The frame.append method is deprecated and will be removed from pandas in a future version. Use pandas.concat instead.\n",
      "  output_dataframe=output_dataframe.append(pd.DataFrame(list0,columns=['Actual','Predicted']),ignore_index=True)\n",
      "C:\\Users\\chaud\\AppData\\Local\\Temp\\ipykernel_75800\\2205925660.py:23: FutureWarning: The frame.append method is deprecated and will be removed from pandas in a future version. Use pandas.concat instead.\n",
      "  output_dataframe=output_dataframe.append(pd.DataFrame(list1,columns=['Actual','Predicted']),ignore_index=True)\n",
      "C:\\Users\\chaud\\AppData\\Local\\Temp\\ipykernel_75800\\2205925660.py:27: FutureWarning: The frame.append method is deprecated and will be removed from pandas in a future version. Use pandas.concat instead.\n",
      "  output_dataframe=output_dataframe.append(pd.DataFrame(list0,columns=['Actual','Predicted']),ignore_index=True)\n",
      "C:\\Users\\chaud\\AppData\\Local\\Temp\\ipykernel_75800\\2205925660.py:27: FutureWarning: The frame.append method is deprecated and will be removed from pandas in a future version. Use pandas.concat instead.\n",
      "  output_dataframe=output_dataframe.append(pd.DataFrame(list0,columns=['Actual','Predicted']),ignore_index=True)\n",
      "C:\\Users\\chaud\\AppData\\Local\\Temp\\ipykernel_75800\\2205925660.py:23: FutureWarning: The frame.append method is deprecated and will be removed from pandas in a future version. Use pandas.concat instead.\n",
      "  output_dataframe=output_dataframe.append(pd.DataFrame(list1,columns=['Actual','Predicted']),ignore_index=True)\n",
      "C:\\Users\\chaud\\AppData\\Local\\Temp\\ipykernel_75800\\2205925660.py:27: FutureWarning: The frame.append method is deprecated and will be removed from pandas in a future version. Use pandas.concat instead.\n",
      "  output_dataframe=output_dataframe.append(pd.DataFrame(list0,columns=['Actual','Predicted']),ignore_index=True)\n",
      "C:\\Users\\chaud\\AppData\\Local\\Temp\\ipykernel_75800\\2205925660.py:23: FutureWarning: The frame.append method is deprecated and will be removed from pandas in a future version. Use pandas.concat instead.\n",
      "  output_dataframe=output_dataframe.append(pd.DataFrame(list1,columns=['Actual','Predicted']),ignore_index=True)\n",
      "C:\\Users\\chaud\\AppData\\Local\\Temp\\ipykernel_75800\\2205925660.py:27: FutureWarning: The frame.append method is deprecated and will be removed from pandas in a future version. Use pandas.concat instead.\n",
      "  output_dataframe=output_dataframe.append(pd.DataFrame(list0,columns=['Actual','Predicted']),ignore_index=True)\n",
      "C:\\Users\\chaud\\AppData\\Local\\Temp\\ipykernel_75800\\2205925660.py:23: FutureWarning: The frame.append method is deprecated and will be removed from pandas in a future version. Use pandas.concat instead.\n",
      "  output_dataframe=output_dataframe.append(pd.DataFrame(list1,columns=['Actual','Predicted']),ignore_index=True)\n",
      "C:\\Users\\chaud\\AppData\\Local\\Temp\\ipykernel_75800\\2205925660.py:27: FutureWarning: The frame.append method is deprecated and will be removed from pandas in a future version. Use pandas.concat instead.\n",
      "  output_dataframe=output_dataframe.append(pd.DataFrame(list0,columns=['Actual','Predicted']),ignore_index=True)\n",
      "C:\\Users\\chaud\\AppData\\Local\\Temp\\ipykernel_75800\\2205925660.py:27: FutureWarning: The frame.append method is deprecated and will be removed from pandas in a future version. Use pandas.concat instead.\n",
      "  output_dataframe=output_dataframe.append(pd.DataFrame(list0,columns=['Actual','Predicted']),ignore_index=True)\n"
     ]
    },
    {
     "name": "stderr",
     "output_type": "stream",
     "text": [
      "C:\\Users\\chaud\\AppData\\Local\\Temp\\ipykernel_75800\\2205925660.py:23: FutureWarning: The frame.append method is deprecated and will be removed from pandas in a future version. Use pandas.concat instead.\n",
      "  output_dataframe=output_dataframe.append(pd.DataFrame(list1,columns=['Actual','Predicted']),ignore_index=True)\n",
      "C:\\Users\\chaud\\AppData\\Local\\Temp\\ipykernel_75800\\2205925660.py:27: FutureWarning: The frame.append method is deprecated and will be removed from pandas in a future version. Use pandas.concat instead.\n",
      "  output_dataframe=output_dataframe.append(pd.DataFrame(list0,columns=['Actual','Predicted']),ignore_index=True)\n",
      "C:\\Users\\chaud\\AppData\\Local\\Temp\\ipykernel_75800\\2205925660.py:27: FutureWarning: The frame.append method is deprecated and will be removed from pandas in a future version. Use pandas.concat instead.\n",
      "  output_dataframe=output_dataframe.append(pd.DataFrame(list0,columns=['Actual','Predicted']),ignore_index=True)\n",
      "C:\\Users\\chaud\\AppData\\Local\\Temp\\ipykernel_75800\\2205925660.py:27: FutureWarning: The frame.append method is deprecated and will be removed from pandas in a future version. Use pandas.concat instead.\n",
      "  output_dataframe=output_dataframe.append(pd.DataFrame(list0,columns=['Actual','Predicted']),ignore_index=True)\n"
     ]
    }
   ],
   "source": [
    "result_arr=[]\n",
    "\n",
    "for i in df_test.itertuples():\n",
    "    test1=list(i)\n",
    "    test1.pop(0) # removing Index (unwanted)\n",
    "    ans=test1.pop() # removing actual value\n",
    "    \n",
    "    py=1\n",
    "    for i in range(6):\n",
    "        val = df_train[(df_train[atr[i]] == test1[i]) & (df_train.Survived == 1)].count().values.item(0)\n",
    "        py = py * (val) / len(survived_yes)\n",
    "        total_yes = py * P_yes\n",
    "        \n",
    "    pn=1\n",
    "    for i in range(6):\n",
    "        val = df_train[(df_train[atr[i]] == test1[i]) & (df_train.Survived == 0)].count().values.item(0)\n",
    "        pn = pn * (val) / len(survived_no)\n",
    "        total_no = pn * P_no\n",
    "        \n",
    "    if total_yes>total_no:\n",
    "        result=1\n",
    "        list1=[[ans,1]] #Survived\n",
    "        output_dataframe=output_dataframe.append(pd.DataFrame(list1,columns=['Actual','Predicted']),ignore_index=True)\n",
    "    else:\n",
    "        result=0\n",
    "        list0=[[ans,0]] #NotSurvived\n",
    "        output_dataframe=output_dataframe.append(pd.DataFrame(list0,columns=['Actual','Predicted']),ignore_index=True)\n",
    "        \n",
    "    result_arr.append(result)"
   ]
  },
  {
   "cell_type": "code",
   "execution_count": 30,
   "id": "779de445",
   "metadata": {},
   "outputs": [],
   "source": [
    "df_test_=pd.read_csv('test.csv') #to access passenger id"
   ]
  },
  {
   "cell_type": "code",
   "execution_count": 31,
   "id": "a6436254",
   "metadata": {},
   "outputs": [],
   "source": [
    "output = pd.DataFrame({'PassengerId': df_test_.PassengerId,'Survived': result_arr})\n",
    "output.to_csv('nb_submission.csv', index=False)"
   ]
  },
  {
   "cell_type": "code",
   "execution_count": 32,
   "id": "ad02aafd",
   "metadata": {},
   "outputs": [
    {
     "data": {
      "text/plain": [
       "0    273\n",
       "1    145\n",
       "Name: Survived, dtype: int64"
      ]
     },
     "execution_count": 32,
     "metadata": {},
     "output_type": "execute_result"
    }
   ],
   "source": [
    "output.Survived.value_counts()"
   ]
  },
  {
   "cell_type": "markdown",
   "id": "60bb4a6a",
   "metadata": {},
   "source": [
    "### Evaluation"
   ]
  },
  {
   "cell_type": "code",
   "execution_count": 33,
   "id": "75d3d031",
   "metadata": {},
   "outputs": [
    {
     "name": "stdout",
     "output_type": "stream",
     "text": [
      "The accuracy for the test set is  67.94258373205741 %\n",
      "The precision for the test set is  46.89655172413793 %\n",
      "The recall for the test set is  54.400000000000006 %\n"
     ]
    }
   ],
   "source": [
    "# Evaluation metrics\n",
    "\n",
    "TP=0\n",
    "TN=0\n",
    "FP=0\n",
    "FN=0\n",
    "for index,row in output_dataframe.iterrows():\n",
    "    if row['Predicted']== row['Actual'] and row['Predicted']==1:\n",
    "        TP += 1\n",
    "    elif row['Predicted']== row['Actual'] and row['Predicted']==0:\n",
    "        TN +=1\n",
    "    elif row['Predicted']==1:\n",
    "        FP +=1\n",
    "    else: \n",
    "        FN +=1\n",
    "        \n",
    "# Accuracy = [TP + TN] / Total Population\n",
    "accuracy= (TP+TN)/len(output_dataframe)\n",
    "print(\"The accuracy for the test set is \",accuracy *100,\"%\")\n",
    "\n",
    "# Precision = TP / [TP + FP]\n",
    "# tells us about the success probability of making a correct positive class classification.\n",
    "precision = TP / (TP+FP)\n",
    "print(\"The precision for the test set is \",precision *100,\"%\")\n",
    "\n",
    "# Recall = TP / [TP + FN]\n",
    "# explains how sensitive the model is towards identifying the positive class.\n",
    "recall =  TP / (TP+FN)\n",
    "print(\"The recall for the test set is \",recall *100,\"%\")"
   ]
  },
  {
   "cell_type": "markdown",
   "id": "9794322e",
   "metadata": {},
   "source": [
    "### Accuracy"
   ]
  },
  {
   "cell_type": "code",
   "execution_count": 34,
   "id": "e98ccd6f",
   "metadata": {},
   "outputs": [],
   "source": [
    "df_actual = pd.read_csv('gender_submission.csv')"
   ]
  },
  {
   "cell_type": "code",
   "execution_count": 35,
   "id": "048188a8",
   "metadata": {},
   "outputs": [
    {
     "data": {
      "text/html": [
       "<div>\n",
       "<style scoped>\n",
       "    .dataframe tbody tr th:only-of-type {\n",
       "        vertical-align: middle;\n",
       "    }\n",
       "\n",
       "    .dataframe tbody tr th {\n",
       "        vertical-align: top;\n",
       "    }\n",
       "\n",
       "    .dataframe thead th {\n",
       "        text-align: right;\n",
       "    }\n",
       "</style>\n",
       "<table border=\"1\" class=\"dataframe\">\n",
       "  <thead>\n",
       "    <tr style=\"text-align: right;\">\n",
       "      <th></th>\n",
       "      <th>PassengerId</th>\n",
       "      <th>Survived</th>\n",
       "    </tr>\n",
       "  </thead>\n",
       "  <tbody>\n",
       "    <tr>\n",
       "      <th>0</th>\n",
       "      <td>892</td>\n",
       "      <td>0</td>\n",
       "    </tr>\n",
       "    <tr>\n",
       "      <th>1</th>\n",
       "      <td>893</td>\n",
       "      <td>0</td>\n",
       "    </tr>\n",
       "    <tr>\n",
       "      <th>2</th>\n",
       "      <td>894</td>\n",
       "      <td>0</td>\n",
       "    </tr>\n",
       "    <tr>\n",
       "      <th>3</th>\n",
       "      <td>895</td>\n",
       "      <td>0</td>\n",
       "    </tr>\n",
       "    <tr>\n",
       "      <th>4</th>\n",
       "      <td>896</td>\n",
       "      <td>1</td>\n",
       "    </tr>\n",
       "  </tbody>\n",
       "</table>\n",
       "</div>"
      ],
      "text/plain": [
       "   PassengerId  Survived\n",
       "0          892         0\n",
       "1          893         0\n",
       "2          894         0\n",
       "3          895         0\n",
       "4          896         1"
      ]
     },
     "execution_count": 35,
     "metadata": {},
     "output_type": "execute_result"
    }
   ],
   "source": [
    "output.head()"
   ]
  },
  {
   "cell_type": "code",
   "execution_count": 36,
   "id": "7f3e093b",
   "metadata": {},
   "outputs": [
    {
     "data": {
      "text/html": [
       "<div>\n",
       "<style scoped>\n",
       "    .dataframe tbody tr th:only-of-type {\n",
       "        vertical-align: middle;\n",
       "    }\n",
       "\n",
       "    .dataframe tbody tr th {\n",
       "        vertical-align: top;\n",
       "    }\n",
       "\n",
       "    .dataframe thead th {\n",
       "        text-align: right;\n",
       "    }\n",
       "</style>\n",
       "<table border=\"1\" class=\"dataframe\">\n",
       "  <thead>\n",
       "    <tr style=\"text-align: right;\">\n",
       "      <th></th>\n",
       "      <th>PassengerId</th>\n",
       "      <th>Survived</th>\n",
       "    </tr>\n",
       "  </thead>\n",
       "  <tbody>\n",
       "    <tr>\n",
       "      <th>0</th>\n",
       "      <td>892</td>\n",
       "      <td>0</td>\n",
       "    </tr>\n",
       "    <tr>\n",
       "      <th>1</th>\n",
       "      <td>893</td>\n",
       "      <td>1</td>\n",
       "    </tr>\n",
       "    <tr>\n",
       "      <th>2</th>\n",
       "      <td>894</td>\n",
       "      <td>0</td>\n",
       "    </tr>\n",
       "    <tr>\n",
       "      <th>3</th>\n",
       "      <td>895</td>\n",
       "      <td>0</td>\n",
       "    </tr>\n",
       "    <tr>\n",
       "      <th>4</th>\n",
       "      <td>896</td>\n",
       "      <td>1</td>\n",
       "    </tr>\n",
       "  </tbody>\n",
       "</table>\n",
       "</div>"
      ],
      "text/plain": [
       "   PassengerId  Survived\n",
       "0          892         0\n",
       "1          893         1\n",
       "2          894         0\n",
       "3          895         0\n",
       "4          896         1"
      ]
     },
     "execution_count": 36,
     "metadata": {},
     "output_type": "execute_result"
    }
   ],
   "source": [
    "df_actual.head()"
   ]
  },
  {
   "cell_type": "code",
   "execution_count": 37,
   "id": "042383d4",
   "metadata": {},
   "outputs": [
    {
     "name": "stdout",
     "output_type": "stream",
     "text": [
      "81.10047846889952\n"
     ]
    }
   ],
   "source": [
    "c=0\n",
    "for i in range(0,418):\n",
    "    if df_actual.Survived[i]==output.Survived[i]:\n",
    "        c=c+1\n",
    "        \n",
    "acc =( c/418 )*100\n",
    "print(acc)"
   ]
  },
  {
   "cell_type": "code",
   "execution_count": 38,
   "id": "91a882b7",
   "metadata": {},
   "outputs": [
    {
     "name": "stdout",
     "output_type": "stream",
     "text": [
      "81.1 %\n"
     ]
    }
   ],
   "source": [
    "print(round(acc,2),\"%\")"
   ]
  },
  {
   "cell_type": "markdown",
   "id": "e1b2a7d5",
   "metadata": {},
   "source": [
    "# KNN\n"
   ]
  },
  {
   "cell_type": "code",
   "execution_count": 63,
   "id": "65675c34",
   "metadata": {},
   "outputs": [],
   "source": [
    "from math import sqrt"
   ]
  },
  {
   "cell_type": "code",
   "execution_count": 64,
   "id": "14854b25",
   "metadata": {},
   "outputs": [],
   "source": [
    "df_test=pd.read_csv('test.csv')\n",
    "df_train=pd.read_csv(\"train.csv\")"
   ]
  },
  {
   "cell_type": "code",
   "execution_count": 65,
   "id": "35f1eb00",
   "metadata": {},
   "outputs": [
    {
     "name": "stdout",
     "output_type": "stream",
     "text": [
      "<class 'pandas.core.frame.DataFrame'>\n",
      "RangeIndex: 891 entries, 0 to 890\n",
      "Data columns (total 12 columns):\n",
      " #   Column       Non-Null Count  Dtype  \n",
      "---  ------       --------------  -----  \n",
      " 0   PassengerId  891 non-null    int64  \n",
      " 1   Survived     891 non-null    int64  \n",
      " 2   Pclass       891 non-null    int64  \n",
      " 3   Name         891 non-null    object \n",
      " 4   Sex          891 non-null    object \n",
      " 5   Age          714 non-null    float64\n",
      " 6   SibSp        891 non-null    int64  \n",
      " 7   Parch        891 non-null    int64  \n",
      " 8   Ticket       891 non-null    object \n",
      " 9   Fare         891 non-null    float64\n",
      " 10  Cabin        204 non-null    object \n",
      " 11  Embarked     889 non-null    object \n",
      "dtypes: float64(2), int64(5), object(5)\n",
      "memory usage: 83.7+ KB\n"
     ]
    }
   ],
   "source": [
    "df_train.info()"
   ]
  },
  {
   "cell_type": "markdown",
   "id": "e64c73aa",
   "metadata": {},
   "source": [
    "### Data-preprocessing"
   ]
  },
  {
   "cell_type": "code",
   "execution_count": 66,
   "id": "12d1b742",
   "metadata": {},
   "outputs": [],
   "source": [
    "df_train.drop([\"Cabin\",\"Name\",\"PassengerId\",\"Ticket\"],axis=1,inplace=True)\n",
    "df_test.drop([\"Cabin\",\"Name\",\"PassengerId\",\"Ticket\"],axis=1,inplace=True)"
   ]
  },
  {
   "cell_type": "code",
   "execution_count": 67,
   "id": "8b374116",
   "metadata": {},
   "outputs": [],
   "source": [
    "#handling null values in Age \n",
    "\n",
    "df_train.Age.fillna(df_train.Age.mean(), inplace=True)\n",
    "df_test.Age.fillna(df_test.Age.mean(), inplace=True)\n",
    "\n",
    "#changing data type\n",
    "\n",
    "df_train.Age=df_train.Age.astype(int)\n",
    "df_test.Age=df_test.Age.astype(int)"
   ]
  },
  {
   "cell_type": "code",
   "execution_count": 68,
   "id": "92b7bf6e",
   "metadata": {},
   "outputs": [
    {
     "data": {
      "text/plain": [
       "Survived    0\n",
       "Pclass      0\n",
       "Sex         0\n",
       "Age         0\n",
       "SibSp       0\n",
       "Parch       0\n",
       "Fare        0\n",
       "Embarked    0\n",
       "dtype: int64"
      ]
     },
     "execution_count": 68,
     "metadata": {},
     "output_type": "execute_result"
    }
   ],
   "source": [
    "df_train= df_train.dropna()\n",
    "df_train.isna().sum()"
   ]
  },
  {
   "cell_type": "code",
   "execution_count": 69,
   "id": "22af4fd9",
   "metadata": {},
   "outputs": [
    {
     "data": {
      "text/plain": [
       "Pclass      0\n",
       "Sex         0\n",
       "Age         0\n",
       "SibSp       0\n",
       "Parch       0\n",
       "Fare        1\n",
       "Embarked    0\n",
       "dtype: int64"
      ]
     },
     "execution_count": 69,
     "metadata": {},
     "output_type": "execute_result"
    }
   ],
   "source": [
    "#Handling null values in test dataset\n",
    "df_test.isna().sum()"
   ]
  },
  {
   "cell_type": "code",
   "execution_count": 70,
   "id": "df97cd43",
   "metadata": {},
   "outputs": [
    {
     "data": {
      "text/plain": [
       "Pclass      0\n",
       "Sex         0\n",
       "Age         0\n",
       "SibSp       0\n",
       "Parch       0\n",
       "Fare        0\n",
       "Embarked    0\n",
       "dtype: int64"
      ]
     },
     "execution_count": 70,
     "metadata": {},
     "output_type": "execute_result"
    }
   ],
   "source": [
    "df_test.Fare.fillna(df_test.Fare.mean(), inplace=True)\n",
    "df_test.isna().sum()"
   ]
  },
  {
   "cell_type": "code",
   "execution_count": 71,
   "id": "ba16f9a3",
   "metadata": {},
   "outputs": [],
   "source": [
    "#Ages grouped -- encoding Age column\n",
    "data = [df_train, df_test]\n",
    "for dataset in data:\n",
    "    dataset.loc[ dataset['Age'] <= 11, 'Age'] = 0\n",
    "    dataset.loc[(dataset['Age'] > 11) & (dataset['Age'] <= 18), 'Age'] = 1\n",
    "    dataset.loc[(dataset['Age'] > 18) & (dataset['Age'] <= 22), 'Age'] = 2\n",
    "    dataset.loc[(dataset['Age'] > 22) & (dataset['Age'] <= 27), 'Age'] = 3\n",
    "    dataset.loc[(dataset['Age'] > 27) & (dataset['Age'] <= 33), 'Age'] = 4\n",
    "    dataset.loc[(dataset['Age'] > 33) & (dataset['Age'] <= 40), 'Age'] = 5\n",
    "    dataset.loc[(dataset['Age'] > 40) & (dataset['Age'] <= 66), 'Age'] = 6\n",
    "    dataset.loc[ dataset['Age'] > 66, 'Age'] = 7\n",
    "    \n",
    "#Encoding Fare column\n",
    "data = [df_train,df_test]\n",
    "for d in data:\n",
    "    d.loc[ d['Fare'] <= 8, 'Fare'] = 0\n",
    "    d.loc[(d['Fare'] > 8) & (d['Fare'] <= 15), 'Fare'] = 1\n",
    "    d.loc[(d['Fare'] > 15) & (d['Fare'] <= 31), 'Fare']   = 2\n",
    "    d.loc[(d['Fare'] > 31) & (d['Fare'] <= 99), 'Fare']   = 3\n",
    "    d.loc[(d['Fare'] > 99) & (d['Fare'] <= 250), 'Fare']   = 4\n",
    "    d.loc[ d['Fare'] > 250, 'Fare'] = 5\n",
    "    d['Fare'] = d['Fare'].astype(int)\n",
    "    \n",
    "#Encoding Sex column\n",
    "data = [df_train,df_test]\n",
    "for d in data:\n",
    "    d.loc[ d['Sex'] == 'male', 'Sex'] = 0\n",
    "    d.loc[ d['Sex'] == 'female', 'Sex'] = 1\n",
    "    \n",
    "#Encoding Embarked column\n",
    "data = [df_train,df_test]\n",
    "for d in data:\n",
    "    d.loc[ d['Embarked'] == 'C', 'Embarked'] = 0\n",
    "    d.loc[ d['Embarked'] == 'Q', 'Embarked'] = 1\n",
    "    d.loc[ d['Embarked'] == 'S', 'Embarked'] = 2"
   ]
  },
  {
   "cell_type": "code",
   "execution_count": 72,
   "id": "38ee90ad",
   "metadata": {},
   "outputs": [
    {
     "data": {
      "text/html": [
       "<div>\n",
       "<style scoped>\n",
       "    .dataframe tbody tr th:only-of-type {\n",
       "        vertical-align: middle;\n",
       "    }\n",
       "\n",
       "    .dataframe tbody tr th {\n",
       "        vertical-align: top;\n",
       "    }\n",
       "\n",
       "    .dataframe thead th {\n",
       "        text-align: right;\n",
       "    }\n",
       "</style>\n",
       "<table border=\"1\" class=\"dataframe\">\n",
       "  <thead>\n",
       "    <tr style=\"text-align: right;\">\n",
       "      <th></th>\n",
       "      <th>Survived</th>\n",
       "      <th>Pclass</th>\n",
       "      <th>Sex</th>\n",
       "      <th>Age</th>\n",
       "      <th>SibSp</th>\n",
       "      <th>Parch</th>\n",
       "      <th>Fare</th>\n",
       "      <th>Embarked</th>\n",
       "    </tr>\n",
       "  </thead>\n",
       "  <tbody>\n",
       "    <tr>\n",
       "      <th>0</th>\n",
       "      <td>0</td>\n",
       "      <td>3</td>\n",
       "      <td>0</td>\n",
       "      <td>2</td>\n",
       "      <td>1</td>\n",
       "      <td>0</td>\n",
       "      <td>0</td>\n",
       "      <td>2</td>\n",
       "    </tr>\n",
       "    <tr>\n",
       "      <th>1</th>\n",
       "      <td>1</td>\n",
       "      <td>1</td>\n",
       "      <td>1</td>\n",
       "      <td>5</td>\n",
       "      <td>1</td>\n",
       "      <td>0</td>\n",
       "      <td>3</td>\n",
       "      <td>0</td>\n",
       "    </tr>\n",
       "    <tr>\n",
       "      <th>2</th>\n",
       "      <td>1</td>\n",
       "      <td>3</td>\n",
       "      <td>1</td>\n",
       "      <td>3</td>\n",
       "      <td>0</td>\n",
       "      <td>0</td>\n",
       "      <td>0</td>\n",
       "      <td>2</td>\n",
       "    </tr>\n",
       "    <tr>\n",
       "      <th>3</th>\n",
       "      <td>1</td>\n",
       "      <td>1</td>\n",
       "      <td>1</td>\n",
       "      <td>5</td>\n",
       "      <td>1</td>\n",
       "      <td>0</td>\n",
       "      <td>3</td>\n",
       "      <td>2</td>\n",
       "    </tr>\n",
       "    <tr>\n",
       "      <th>4</th>\n",
       "      <td>0</td>\n",
       "      <td>3</td>\n",
       "      <td>0</td>\n",
       "      <td>5</td>\n",
       "      <td>0</td>\n",
       "      <td>0</td>\n",
       "      <td>1</td>\n",
       "      <td>2</td>\n",
       "    </tr>\n",
       "  </tbody>\n",
       "</table>\n",
       "</div>"
      ],
      "text/plain": [
       "   Survived  Pclass Sex  Age  SibSp  Parch  Fare Embarked\n",
       "0         0       3   0    2      1      0     0        2\n",
       "1         1       1   1    5      1      0     3        0\n",
       "2         1       3   1    3      0      0     0        2\n",
       "3         1       1   1    5      1      0     3        2\n",
       "4         0       3   0    5      0      0     1        2"
      ]
     },
     "execution_count": 72,
     "metadata": {},
     "output_type": "execute_result"
    }
   ],
   "source": [
    "df_train.head()"
   ]
  },
  {
   "cell_type": "code",
   "execution_count": 73,
   "id": "7b7e279a",
   "metadata": {},
   "outputs": [
    {
     "data": {
      "text/html": [
       "<div>\n",
       "<style scoped>\n",
       "    .dataframe tbody tr th:only-of-type {\n",
       "        vertical-align: middle;\n",
       "    }\n",
       "\n",
       "    .dataframe tbody tr th {\n",
       "        vertical-align: top;\n",
       "    }\n",
       "\n",
       "    .dataframe thead th {\n",
       "        text-align: right;\n",
       "    }\n",
       "</style>\n",
       "<table border=\"1\" class=\"dataframe\">\n",
       "  <thead>\n",
       "    <tr style=\"text-align: right;\">\n",
       "      <th></th>\n",
       "      <th>Pclass</th>\n",
       "      <th>Sex</th>\n",
       "      <th>Age</th>\n",
       "      <th>SibSp</th>\n",
       "      <th>Parch</th>\n",
       "      <th>Fare</th>\n",
       "      <th>Embarked</th>\n",
       "    </tr>\n",
       "  </thead>\n",
       "  <tbody>\n",
       "    <tr>\n",
       "      <th>0</th>\n",
       "      <td>3</td>\n",
       "      <td>0</td>\n",
       "      <td>5</td>\n",
       "      <td>0</td>\n",
       "      <td>0</td>\n",
       "      <td>0</td>\n",
       "      <td>1</td>\n",
       "    </tr>\n",
       "    <tr>\n",
       "      <th>1</th>\n",
       "      <td>3</td>\n",
       "      <td>1</td>\n",
       "      <td>6</td>\n",
       "      <td>1</td>\n",
       "      <td>0</td>\n",
       "      <td>0</td>\n",
       "      <td>2</td>\n",
       "    </tr>\n",
       "    <tr>\n",
       "      <th>2</th>\n",
       "      <td>2</td>\n",
       "      <td>0</td>\n",
       "      <td>6</td>\n",
       "      <td>0</td>\n",
       "      <td>0</td>\n",
       "      <td>1</td>\n",
       "      <td>1</td>\n",
       "    </tr>\n",
       "    <tr>\n",
       "      <th>3</th>\n",
       "      <td>3</td>\n",
       "      <td>0</td>\n",
       "      <td>3</td>\n",
       "      <td>0</td>\n",
       "      <td>0</td>\n",
       "      <td>1</td>\n",
       "      <td>2</td>\n",
       "    </tr>\n",
       "    <tr>\n",
       "      <th>4</th>\n",
       "      <td>3</td>\n",
       "      <td>1</td>\n",
       "      <td>2</td>\n",
       "      <td>1</td>\n",
       "      <td>1</td>\n",
       "      <td>1</td>\n",
       "      <td>2</td>\n",
       "    </tr>\n",
       "  </tbody>\n",
       "</table>\n",
       "</div>"
      ],
      "text/plain": [
       "   Pclass Sex  Age  SibSp  Parch  Fare Embarked\n",
       "0       3   0    5      0      0     0        1\n",
       "1       3   1    6      1      0     0        2\n",
       "2       2   0    6      0      0     1        1\n",
       "3       3   0    3      0      0     1        2\n",
       "4       3   1    2      1      1     1        2"
      ]
     },
     "execution_count": 73,
     "metadata": {},
     "output_type": "execute_result"
    }
   ],
   "source": [
    "df_test.head()"
   ]
  },
  {
   "cell_type": "code",
   "execution_count": 74,
   "id": "ea81be32",
   "metadata": {},
   "outputs": [
    {
     "data": {
      "text/plain": [
       "array([[3, 0, 5, ..., 0, 0, 1],\n",
       "       [3, 1, 6, ..., 0, 0, 2],\n",
       "       [2, 0, 6, ..., 0, 1, 1],\n",
       "       ...,\n",
       "       [3, 0, 5, ..., 0, 0, 2],\n",
       "       [3, 0, 4, ..., 0, 1, 2],\n",
       "       [3, 0, 4, ..., 1, 2, 0]], dtype=object)"
      ]
     },
     "execution_count": 74,
     "metadata": {},
     "output_type": "execute_result"
    }
   ],
   "source": [
    "df_test=df_test.to_numpy()\n",
    "df_test"
   ]
  },
  {
   "cell_type": "markdown",
   "id": "7e29ad05",
   "metadata": {},
   "source": [
    "### Model"
   ]
  },
  {
   "cell_type": "code",
   "execution_count": 83,
   "id": "09c4bdeb",
   "metadata": {},
   "outputs": [],
   "source": [
    "import numpy as np\n",
    "from collections import Counter\n",
    "\n",
    "def euclidean_distance(x1, x2):\n",
    "    distance = np.sqrt(np.sum((x1-x2)**2))\n",
    "    return distance\n",
    "\n",
    "class KNN:\n",
    "    def __init__(self, k=3):\n",
    "        self.k = k\n",
    "\n",
    "    def fit(self, X, y):\n",
    "        self.X_train = X\n",
    "        self.y_train = y\n",
    "\n",
    "    def predict(self, X):\n",
    "        predictions = [self._predict(x) for x in X]\n",
    "        return predictions\n",
    "\n",
    "    def _predict(self, x):\n",
    "        # compute the distance\n",
    "        distances = [euclidean_distance(x, x_train) for x_train in self.X_train]\n",
    "    \n",
    "        # get the closest k\n",
    "        k_indices = np.argsort(distances)[:self.k]\n",
    "        k_nearest_labels = [self.y_train[i] for i in k_indices]\n",
    "\n",
    "        # majority voye\n",
    "        most_common = Counter(k_nearest_labels).most_common()\n",
    "        return most_common[0][0]"
   ]
  },
  {
   "cell_type": "code",
   "execution_count": 84,
   "id": "fe28de3c",
   "metadata": {},
   "outputs": [
    {
     "data": {
      "text/plain": [
       "(889, 7)"
      ]
     },
     "execution_count": 84,
     "metadata": {},
     "output_type": "execute_result"
    }
   ],
   "source": [
    "X = df_train.drop([\"Survived\"],axis=1)\n",
    "X=X.to_numpy()\n",
    "X.shape"
   ]
  },
  {
   "cell_type": "code",
   "execution_count": 85,
   "id": "858c1ae2",
   "metadata": {},
   "outputs": [],
   "source": [
    "y=df_train[\"Survived\"]\n",
    "y=y.to_numpy()"
   ]
  },
  {
   "cell_type": "markdown",
   "id": "99e576d4",
   "metadata": {},
   "source": [
    "### Predicition"
   ]
  },
  {
   "cell_type": "code",
   "execution_count": 87,
   "id": "d48302c4",
   "metadata": {},
   "outputs": [
    {
     "name": "stdout",
     "output_type": "stream",
     "text": [
      "[0, 0, 0, 0, 0, 0, 1, 0, 1, 0, 0, 0, 1, 0, 1, 1, 0, 0, 1, 0, 1, 1, 1, 1, 1, 0, 1, 0, 0, 0, 0, 0, 0, 0, 1, 1, 0, 0, 0, 1, 0, 1, 0, 1, 1, 0, 0, 0, 1, 1, 0, 0, 1, 1, 0, 0, 0, 0, 0, 1, 0, 0, 0, 0, 1, 1, 1, 0, 0, 1, 1, 0, 0, 0, 1, 0, 0, 1, 0, 1, 1, 0, 0, 0, 0, 0, 1, 1, 1, 1, 0, 0, 1, 0, 0, 0, 1, 0, 1, 0, 1, 0, 0, 0, 1, 0, 0, 0, 0, 0, 0, 1, 1, 1, 1, 1, 0, 1, 0, 1, 1, 0, 1, 0, 0, 1, 0, 1, 0, 0, 0, 0, 0, 0, 0, 0, 0, 0, 0, 0, 0, 1, 0, 0, 0, 0, 0, 0, 1, 0, 1, 0, 0, 0, 0, 0, 1, 1, 0, 1, 1, 1, 1, 0, 0, 1, 0, 0, 1, 0, 0, 0, 0, 0, 0, 1, 1, 1, 1, 1, 0, 1, 1, 0, 1, 0, 1, 0, 0, 0, 0, 1, 1, 0, 1, 0, 1, 1, 0, 0, 1, 1, 1, 1, 0, 0, 1, 0, 1, 0, 0, 0, 0, 0, 0, 0, 1, 0, 1, 0, 0, 0, 1, 0, 0, 1, 0, 1, 0, 0, 0, 1, 0, 0, 1, 0, 1, 0, 1, 1, 0, 1, 1, 0, 0, 0, 1, 0, 1, 0, 1, 0, 1, 0, 0, 0, 0, 0, 1, 0, 0, 0, 1, 1, 0, 0, 0, 0, 0, 0, 0, 0, 1, 1, 0, 1, 0, 0, 0, 0, 0, 1, 1, 1, 1, 0, 0, 0, 0, 0, 0, 1, 0, 1, 0, 0, 1, 0, 0, 0, 0, 0, 0, 0, 1, 1, 1, 1, 1, 0, 0, 0, 0, 1, 1, 1, 1, 0, 0, 0, 0, 0, 0, 1, 1, 0, 1, 0, 0, 0, 1, 0, 0, 1, 0, 1, 0, 0, 0, 0, 0, 0, 0, 1, 0, 1, 0, 0, 0, 1, 1, 0, 0, 0, 1, 0, 1, 0, 0, 1, 0, 1, 1, 0, 1, 0, 0, 0, 1, 0, 0, 1, 0, 0, 1, 1, 0, 0, 0, 0, 0, 0, 0, 0, 0, 1, 0, 0, 0, 0, 1, 1, 1, 0, 0, 1, 0, 1, 0, 0, 1, 0, 1, 0, 1, 1, 0, 1, 1, 1, 1, 1, 0, 0, 1, 0, 0, 1]\n"
     ]
    }
   ],
   "source": [
    "clf = KNN(k=5)\n",
    "clf.fit(X, y)\n",
    "predictions = clf.predict(df_test)\n",
    "\n",
    "print(predictions)"
   ]
  },
  {
   "cell_type": "code",
   "execution_count": 88,
   "id": "2c52378c",
   "metadata": {},
   "outputs": [],
   "source": [
    "df_actual = pd.read_csv('gender_submission.csv')\n",
    "y_test = df_actual[\"Survived\"]\n",
    "y_test=y_test.to_numpy()"
   ]
  },
  {
   "cell_type": "markdown",
   "id": "fc1154bf",
   "metadata": {},
   "source": [
    "### Accuracy"
   ]
  },
  {
   "cell_type": "code",
   "execution_count": 89,
   "id": "3ede67eb",
   "metadata": {},
   "outputs": [
    {
     "name": "stdout",
     "output_type": "stream",
     "text": [
      "82.78  %\n"
     ]
    }
   ],
   "source": [
    "acc = np.sum(predictions == y_test) / len(y_test)\n",
    "print(round(acc*100,2),\" %\")"
   ]
  },
  {
   "cell_type": "code",
   "execution_count": 90,
   "id": "e25d4bd6",
   "metadata": {},
   "outputs": [],
   "source": [
    "df_test_=pd.read_csv('test.csv') #to access passenger id"
   ]
  },
  {
   "cell_type": "code",
   "execution_count": 91,
   "id": "4fd80f9c",
   "metadata": {},
   "outputs": [],
   "source": [
    "knn_submission = pd.DataFrame({'PassengerId': df_test_.PassengerId,'Survived': predictions})\n",
    "knn_submission.to_csv('knn_submission.csv', index=False)"
   ]
  }
 ],
 "metadata": {
  "kernelspec": {
   "display_name": "Python 3 (ipykernel)",
   "language": "python",
   "name": "python3"
  },
  "language_info": {
   "codemirror_mode": {
    "name": "ipython",
    "version": 3
   },
   "file_extension": ".py",
   "mimetype": "text/x-python",
   "name": "python",
   "nbconvert_exporter": "python",
   "pygments_lexer": "ipython3",
   "version": "3.9.13"
  }
 },
 "nbformat": 4,
 "nbformat_minor": 5
}
